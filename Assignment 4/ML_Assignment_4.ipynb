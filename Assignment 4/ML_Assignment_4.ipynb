{
  "cells": [
    {
      "cell_type": "markdown",
      "metadata": {
        "id": "0ljqlu4qJ2i6"
      },
      "source": [
        "\"I certify that the code and data in this assignment were generated independently, using only the tools\n",
        "and resources defined in the course and that I did not receive any external help, coaching or contributions\n",
        "during the production of this work.\""
      ]
    },
    {
      "cell_type": "code",
      "execution_count": null,
      "metadata": {
        "id": "pAA0XLwsJ4Us"
      },
      "outputs": [],
      "source": [
        "import numpy as np\n",
        "import matplotlib.pyplot as plt\n",
        "import gym\n",
        "from gym import spaces\n",
        "import time\n",
        "from google.colab import widgets\n",
        "import random\n",
        "import numpy as np"
      ]
    },
    {
      "cell_type": "code",
      "execution_count": null,
      "metadata": {
        "colab": {
          "base_uri": "https://localhost:8080/"
        },
        "id": "F-T0CWPaJ7bq",
        "outputId": "e3a38f36-06a8-47d9-c5c8-045ec31cc7ab"
      },
      "outputs": [
        {
          "output_type": "stream",
          "name": "stdout",
          "text": [
            "[[0. 0. 0. 0.]\n",
            " [0. 0. 0. 0.]\n",
            " [0. 0. 0. 0.]\n",
            " [0. 0. 0. 0.]]\n"
          ]
        }
      ],
      "source": [
        "grid = np.zeros((4, 4))\n",
        "\n",
        "print(grid)"
      ]
    },
    {
      "cell_type": "code",
      "execution_count": null,
      "metadata": {
        "colab": {
          "base_uri": "https://localhost:8080/",
          "height": 340
        },
        "id": "0W19t4PpKDyV",
        "outputId": "bd0c9b05-1623-4213-e7ce-92a9e78bd2ed"
      },
      "outputs": [
        {
          "output_type": "stream",
          "name": "stdout",
          "text": [
            "[[1.  0.  0.  0. ]\n",
            " [0.  0.  0.  0. ]\n",
            " [0.  0.  0.  0. ]\n",
            " [0.  0.  0.  1.5]]\n"
          ]
        },
        {
          "output_type": "display_data",
          "data": {
            "text/plain": [
              "<Figure size 432x288 with 1 Axes>"
            ],
            "image/png": "[encoded data removed]"
          },
          "metadata": {
            "needs_background": "light"
          }
        }
      ],
      "source": [
        "#Starting position\n",
        "pos1 = [0, 0]\n",
        "\n",
        "#Terminal position\n",
        "pos2 = [3, 3]\n",
        "\n",
        "grid[tuple(pos1)] = 1\n",
        "grid[tuple(pos2)] = 1.5\n",
        "\n",
        "print(grid)\n",
        "plt.imshow(grid)\n",
        "plt.show()"
      ]
    },
    {
      "cell_type": "code",
      "execution_count": null,
      "metadata": {
        "colab": {
          "base_uri": "https://localhost:8080/",
          "height": 273
        },
        "id": "OmbUZcbqKWZe",
        "outputId": "076cf4c4-26ab-4650-9193-dd1b55eb909e"
      },
      "outputs": [
        {
          "output_type": "display_data",
          "data": {
            "text/plain": [
              "<IPython.core.display.HTML object>"
            ],
            "text/html": [
              "<style>\n",
              "       table#id2, #id2 > tbody > tr > th, #id2 > tbody > tr > td {\n",
              "         border: 1px solid lightgray;\n",
              "         border-collapse:collapse;\n",
              "         \n",
              "        }</style>"
            ]
          },
          "metadata": {}
        },
        {
          "output_type": "display_data",
          "data": {
            "text/plain": [
              "<IPython.core.display.HTML object>"
            ],
            "text/html": [
              "<table id=id2><tr><td id=id2-0-0></td></tr></table>"
            ]
          },
          "metadata": {}
        },
        {
          "output_type": "display_data",
          "data": {
            "text/plain": [
              "<IPython.core.display.Javascript object>"
            ],
            "application/javascript": [
              "window[\"a2c00da2-d001-11ec-9d22-0242ac1c0002\"] = google.colab.output.getActiveOutputArea();\n",
              "//# sourceURL=js_d43a04afcc"
            ]
          },
          "metadata": {}
        },
        {
          "output_type": "display_data",
          "data": {
            "text/plain": [
              "<IPython.core.display.Javascript object>"
            ],
            "application/javascript": [
              "window[\"a2c0795e-d001-11ec-9d22-0242ac1c0002\"] = document.querySelector(\"#id2-0-0\");\n",
              "//# sourceURL=js_4fcb79b18e"
            ]
          },
          "metadata": {}
        },
        {
          "output_type": "display_data",
          "data": {
            "text/plain": [
              "<IPython.core.display.Javascript object>"
            ],
            "application/javascript": [
              "window[\"a2c0e664-d001-11ec-9d22-0242ac1c0002\"] = google.colab.output.setActiveOutputArea(window[\"a2c0795e-d001-11ec-9d22-0242ac1c0002\"]);\n",
              "//# sourceURL=js_bd1f46cd29"
            ]
          },
          "metadata": {}
        },
        {
          "output_type": "display_data",
          "data": {
            "text/plain": [
              "<IPython.core.display.Javascript object>"
            ],
            "application/javascript": [
              "window[\"a2de54f6-d001-11ec-9d22-0242ac1c0002\"] = google.colab.output.setActiveOutputArea(window[\"a2c00da2-d001-11ec-9d22-0242ac1c0002\"]);\n",
              "//# sourceURL=js_09618939e8"
            ]
          },
          "metadata": {}
        },
        {
          "output_type": "display_data",
          "data": {
            "text/plain": [
              "<IPython.core.display.Javascript object>"
            ],
            "application/javascript": [
              "window[\"a5dc7a98-d001-11ec-9d22-0242ac1c0002\"] = google.colab.output.getActiveOutputArea();\n",
              "//# sourceURL=js_da7500c8df"
            ]
          },
          "metadata": {}
        },
        {
          "output_type": "display_data",
          "data": {
            "text/plain": [
              "<IPython.core.display.Javascript object>"
            ],
            "application/javascript": [
              "window[\"a5dcfaf4-d001-11ec-9d22-0242ac1c0002\"] = document.querySelector(\"#id2-0-0\");\n",
              "//# sourceURL=js_5bc55f599e"
            ]
          },
          "metadata": {}
        },
        {
          "output_type": "display_data",
          "data": {
            "text/plain": [
              "<IPython.core.display.Javascript object>"
            ],
            "application/javascript": [
              "window[\"a5dd71b4-d001-11ec-9d22-0242ac1c0002\"] = google.colab.output.setActiveOutputArea(window[\"a5dcfaf4-d001-11ec-9d22-0242ac1c0002\"]);\n",
              "//# sourceURL=js_f7398357a7"
            ]
          },
          "metadata": {}
        },
        {
          "output_type": "display_data",
          "data": {
            "text/plain": [
              "<IPython.core.display.Javascript object>"
            ],
            "application/javascript": [
              "window[\"a5fc4bfc-d001-11ec-9d22-0242ac1c0002\"] = google.colab.output.setActiveOutputArea(window[\"a5dc7a98-d001-11ec-9d22-0242ac1c0002\"]);\n",
              "//# sourceURL=js_4cf04b0315"
            ]
          },
          "metadata": {}
        },
        {
          "output_type": "display_data",
          "data": {
            "text/plain": [
              "<IPython.core.display.Javascript object>"
            ],
            "application/javascript": [
              "window[\"a8fa6e60-d001-11ec-9d22-0242ac1c0002\"] = google.colab.output.getActiveOutputArea();\n",
              "//# sourceURL=js_1d4403aa77"
            ]
          },
          "metadata": {}
        },
        {
          "output_type": "display_data",
          "data": {
            "text/plain": [
              "<IPython.core.display.Javascript object>"
            ],
            "application/javascript": [
              "window[\"a8fad0bc-d001-11ec-9d22-0242ac1c0002\"] = document.querySelector(\"#id2-0-0\");\n",
              "//# sourceURL=js_551c996a29"
            ]
          },
          "metadata": {}
        },
        {
          "output_type": "display_data",
          "data": {
            "text/plain": [
              "<IPython.core.display.Javascript object>"
            ],
            "application/javascript": [
              "window[\"a8fb2170-d001-11ec-9d22-0242ac1c0002\"] = google.colab.output.setActiveOutputArea(window[\"a8fad0bc-d001-11ec-9d22-0242ac1c0002\"]);\n",
              "//# sourceURL=js_6038206def"
            ]
          },
          "metadata": {}
        },
        {
          "output_type": "display_data",
          "data": {
            "text/plain": [
              "<IPython.core.display.Javascript object>"
            ],
            "application/javascript": [
              "window[\"a928e89e-d001-11ec-9d22-0242ac1c0002\"] = google.colab.output.setActiveOutputArea(window[\"a8fa6e60-d001-11ec-9d22-0242ac1c0002\"]);\n",
              "//# sourceURL=js_b08d6b58e4"
            ]
          },
          "metadata": {}
        },
        {
          "output_type": "display_data",
          "data": {
            "text/plain": [
              "<IPython.core.display.Javascript object>"
            ],
            "application/javascript": [
              "window[\"ac2a1bbc-d001-11ec-9d22-0242ac1c0002\"] = google.colab.output.getActiveOutputArea();\n",
              "//# sourceURL=js_8b525efe0b"
            ]
          },
          "metadata": {}
        },
        {
          "output_type": "display_data",
          "data": {
            "text/plain": [
              "<IPython.core.display.Javascript object>"
            ],
            "application/javascript": [
              "window[\"ac2a8e9e-d001-11ec-9d22-0242ac1c0002\"] = document.querySelector(\"#id2-0-0\");\n",
              "//# sourceURL=js_fe24c339c0"
            ]
          },
          "metadata": {}
        },
        {
          "output_type": "display_data",
          "data": {
            "text/plain": [
              "<IPython.core.display.Javascript object>"
            ],
            "application/javascript": [
              "window[\"ac2af7bc-d001-11ec-9d22-0242ac1c0002\"] = google.colab.output.setActiveOutputArea(window[\"ac2a8e9e-d001-11ec-9d22-0242ac1c0002\"]);\n",
              "//# sourceURL=js_c9f11fa33a"
            ]
          },
          "metadata": {}
        },
        {
          "output_type": "display_data",
          "data": {
            "text/plain": [
              "<IPython.core.display.Javascript object>"
            ],
            "application/javascript": [
              "window[\"ac48f780-d001-11ec-9d22-0242ac1c0002\"] = google.colab.output.setActiveOutputArea(window[\"ac2a1bbc-d001-11ec-9d22-0242ac1c0002\"]);\n",
              "//# sourceURL=js_2e6507c83b"
            ]
          },
          "metadata": {}
        },
        {
          "output_type": "display_data",
          "data": {
            "text/plain": [
              "<IPython.core.display.Javascript object>"
            ],
            "application/javascript": [
              "window[\"af476dfe-d001-11ec-9d22-0242ac1c0002\"] = google.colab.output.getActiveOutputArea();\n",
              "//# sourceURL=js_7a09bb19d6"
            ]
          },
          "metadata": {}
        },
        {
          "output_type": "display_data",
          "data": {
            "text/plain": [
              "<IPython.core.display.Javascript object>"
            ],
            "application/javascript": [
              "window[\"af4859ee-d001-11ec-9d22-0242ac1c0002\"] = document.querySelector(\"#id2-0-0\");\n",
              "//# sourceURL=js_cb8e8c028c"
            ]
          },
          "metadata": {}
        },
        {
          "output_type": "display_data",
          "data": {
            "text/plain": [
              "<IPython.core.display.Javascript object>"
            ],
            "application/javascript": [
              "window[\"af48fcbe-d001-11ec-9d22-0242ac1c0002\"] = google.colab.output.setActiveOutputArea(window[\"af4859ee-d001-11ec-9d22-0242ac1c0002\"]);\n",
              "//# sourceURL=js_a892afa6f4"
            ]
          },
          "metadata": {}
        },
        {
          "output_type": "display_data",
          "data": {
            "text/plain": [
              "<IPython.core.display.Javascript object>"
            ],
            "application/javascript": [
              "window[\"af65b746-d001-11ec-9d22-0242ac1c0002\"] = google.colab.output.setActiveOutputArea(window[\"af476dfe-d001-11ec-9d22-0242ac1c0002\"]);\n",
              "//# sourceURL=js_e064a67ae6"
            ]
          },
          "metadata": {}
        },
        {
          "output_type": "display_data",
          "data": {
            "text/plain": [
              "<IPython.core.display.Javascript object>"
            ],
            "application/javascript": [
              "window[\"b264a98e-d001-11ec-9d22-0242ac1c0002\"] = google.colab.output.getActiveOutputArea();\n",
              "//# sourceURL=js_24bf8c2f92"
            ]
          },
          "metadata": {}
        },
        {
          "output_type": "display_data",
          "data": {
            "text/plain": [
              "<IPython.core.display.Javascript object>"
            ],
            "application/javascript": [
              "window[\"b26505fa-d001-11ec-9d22-0242ac1c0002\"] = document.querySelector(\"#id2-0-0\");\n",
              "//# sourceURL=js_9f6a7e8979"
            ]
          },
          "metadata": {}
        },
        {
          "output_type": "display_data",
          "data": {
            "text/plain": [
              "<IPython.core.display.Javascript object>"
            ],
            "application/javascript": [
              "window[\"b265861a-d001-11ec-9d22-0242ac1c0002\"] = google.colab.output.setActiveOutputArea(window[\"b26505fa-d001-11ec-9d22-0242ac1c0002\"]);\n",
              "//# sourceURL=js_419ee7592a"
            ]
          },
          "metadata": {}
        },
        {
          "output_type": "display_data",
          "data": {
            "text/plain": [
              "<IPython.core.display.Javascript object>"
            ],
            "application/javascript": [
              "window[\"b281eb20-d001-11ec-9d22-0242ac1c0002\"] = google.colab.output.setActiveOutputArea(window[\"b264a98e-d001-11ec-9d22-0242ac1c0002\"]);\n",
              "//# sourceURL=js_e8469e91ff"
            ]
          },
          "metadata": {}
        },
        {
          "output_type": "display_data",
          "data": {
            "text/plain": [
              "<IPython.core.display.Javascript object>"
            ],
            "application/javascript": [
              "window[\"b58009ba-d001-11ec-9d22-0242ac1c0002\"] = google.colab.output.getActiveOutputArea();\n",
              "//# sourceURL=js_49dc4c9569"
            ]
          },
          "metadata": {}
        },
        {
          "output_type": "display_data",
          "data": {
            "text/plain": [
              "<IPython.core.display.Javascript object>"
            ],
            "application/javascript": [
              "window[\"b58081d8-d001-11ec-9d22-0242ac1c0002\"] = document.querySelector(\"#id2-0-0\");\n",
              "//# sourceURL=js_12cce50673"
            ]
          },
          "metadata": {}
        },
        {
          "output_type": "display_data",
          "data": {
            "text/plain": [
              "<IPython.core.display.Javascript object>"
            ],
            "application/javascript": [
              "window[\"b580fb18-d001-11ec-9d22-0242ac1c0002\"] = google.colab.output.setActiveOutputArea(window[\"b58081d8-d001-11ec-9d22-0242ac1c0002\"]);\n",
              "//# sourceURL=js_ce03a91351"
            ]
          },
          "metadata": {}
        },
        {
          "output_type": "display_data",
          "data": {
            "text/plain": [
              "<IPython.core.display.Javascript object>"
            ],
            "application/javascript": [
              "window[\"b5a6ac5a-d001-11ec-9d22-0242ac1c0002\"] = google.colab.output.setActiveOutputArea(window[\"b58009ba-d001-11ec-9d22-0242ac1c0002\"]);\n",
              "//# sourceURL=js_4b60902910"
            ]
          },
          "metadata": {}
        },
        {
          "output_type": "display_data",
          "data": {
            "text/plain": [
              "<IPython.core.display.Javascript object>"
            ],
            "application/javascript": [
              "window[\"b8a75882-d001-11ec-9d22-0242ac1c0002\"] = google.colab.output.getActiveOutputArea();\n",
              "//# sourceURL=js_e6b84312af"
            ]
          },
          "metadata": {}
        },
        {
          "output_type": "display_data",
          "data": {
            "text/plain": [
              "<IPython.core.display.Javascript object>"
            ],
            "application/javascript": [
              "window[\"b8a7f562-d001-11ec-9d22-0242ac1c0002\"] = document.querySelector(\"#id2-0-0\");\n",
              "//# sourceURL=js_e3788cbeaa"
            ]
          },
          "metadata": {}
        },
        {
          "output_type": "display_data",
          "data": {
            "text/plain": [
              "<IPython.core.display.Javascript object>"
            ],
            "application/javascript": [
              "window[\"b8a8f8a4-d001-11ec-9d22-0242ac1c0002\"] = google.colab.output.setActiveOutputArea(window[\"b8a7f562-d001-11ec-9d22-0242ac1c0002\"]);\n",
              "//# sourceURL=js_8c290cfd3a"
            ]
          },
          "metadata": {}
        },
        {
          "output_type": "display_data",
          "data": {
            "text/plain": [
              "<IPython.core.display.Javascript object>"
            ],
            "application/javascript": [
              "window[\"b8c8c7ba-d001-11ec-9d22-0242ac1c0002\"] = google.colab.output.setActiveOutputArea(window[\"b8a75882-d001-11ec-9d22-0242ac1c0002\"]);\n",
              "//# sourceURL=js_1f20615f68"
            ]
          },
          "metadata": {}
        },
        {
          "output_type": "display_data",
          "data": {
            "text/plain": [
              "<IPython.core.display.Javascript object>"
            ],
            "application/javascript": [
              "window[\"bbc93404-d001-11ec-9d22-0242ac1c0002\"] = google.colab.output.getActiveOutputArea();\n",
              "//# sourceURL=js_10fc784183"
            ]
          },
          "metadata": {}
        },
        {
          "output_type": "display_data",
          "data": {
            "text/plain": [
              "<IPython.core.display.Javascript object>"
            ],
            "application/javascript": [
              "window[\"bbc99372-d001-11ec-9d22-0242ac1c0002\"] = document.querySelector(\"#id2-0-0\");\n",
              "//# sourceURL=js_7f1b66e9fa"
            ]
          },
          "metadata": {}
        },
        {
          "output_type": "display_data",
          "data": {
            "text/plain": [
              "<IPython.core.display.Javascript object>"
            ],
            "application/javascript": [
              "window[\"bbca56b8-d001-11ec-9d22-0242ac1c0002\"] = google.colab.output.setActiveOutputArea(window[\"bbc99372-d001-11ec-9d22-0242ac1c0002\"]);\n",
              "//# sourceURL=js_2b2a631c83"
            ]
          },
          "metadata": {}
        },
        {
          "output_type": "display_data",
          "data": {
            "text/plain": [
              "<IPython.core.display.Javascript object>"
            ],
            "application/javascript": [
              "window[\"bbe766d6-d001-11ec-9d22-0242ac1c0002\"] = google.colab.output.setActiveOutputArea(window[\"bbc93404-d001-11ec-9d22-0242ac1c0002\"]);\n",
              "//# sourceURL=js_f16c8e6d19"
            ]
          },
          "metadata": {}
        },
        {
          "output_type": "display_data",
          "data": {
            "text/plain": [
              "<IPython.core.display.Javascript object>"
            ],
            "application/javascript": [
              "window[\"bee6325e-d001-11ec-9d22-0242ac1c0002\"] = google.colab.output.getActiveOutputArea();\n",
              "//# sourceURL=js_7ce55585e5"
            ]
          },
          "metadata": {}
        },
        {
          "output_type": "display_data",
          "data": {
            "text/plain": [
              "<IPython.core.display.Javascript object>"
            ],
            "application/javascript": [
              "window[\"bee6a284-d001-11ec-9d22-0242ac1c0002\"] = document.querySelector(\"#id2-0-0\");\n",
              "//# sourceURL=js_6607c336a4"
            ]
          },
          "metadata": {}
        },
        {
          "output_type": "display_data",
          "data": {
            "text/plain": [
              "<IPython.core.display.Javascript object>"
            ],
            "application/javascript": [
              "window[\"bee7cee8-d001-11ec-9d22-0242ac1c0002\"] = google.colab.output.setActiveOutputArea(window[\"bee6a284-d001-11ec-9d22-0242ac1c0002\"]);\n",
              "//# sourceURL=js_2b1203e84b"
            ]
          },
          "metadata": {}
        },
        {
          "output_type": "display_data",
          "data": {
            "text/plain": [
              "<Figure size 432x288 with 1 Axes>"
            ],
            "image/png": "[encoded data removed]"
          },
          "metadata": {
            "needs_background": "light"
          }
        },
        {
          "output_type": "display_data",
          "data": {
            "text/plain": [
              "<IPython.core.display.Javascript object>"
            ],
            "application/javascript": [
              "window[\"bf06dcb6-d001-11ec-9d22-0242ac1c0002\"] = google.colab.output.setActiveOutputArea(window[\"bee6325e-d001-11ec-9d22-0242ac1c0002\"]);\n",
              "//# sourceURL=js_788c155e15"
            ]
          },
          "metadata": {}
        }
      ],
      "source": [
        "output_grid = widgets.Grid(1,1)\n",
        "for _ in range(10):\n",
        "  grid = np.zeros((4, 4))\n",
        "  grid[np.random.randint(3), np.random.randint(3)] = 1\n",
        "  grid[3,3]=0.7\n",
        "  grid[2,2]=0.6\n",
        "  grid[1,3]=.05\n",
        "  with output_grid.output_to(0, 0):\n",
        "    output_grid.clear_cell()\n",
        "    plt.imshow(grid)\n",
        "\n",
        "  time.sleep(5)\n"
      ]
    },
    {
      "cell_type": "code",
      "execution_count": null,
      "metadata": {
        "id": "d2oJrjoRME4w"
      },
      "outputs": [],
      "source": [
        "class GridEnvironment(gym.Env):\n",
        "\n",
        "  def __init__(self):\n",
        "    self.observation_space = spaces.Discrete(16)\n",
        "    self.action_space = spaces.Discrete(4)\n",
        "    self.max_timesteps = 10\n",
        "\n",
        "  def reset(self):\n",
        "    self.timestep = 0\n",
        "    self.agent_pos = [0, 0]\n",
        "    self.goal_pos = [3, 3]\n",
        "    self.inter_pos=[2,2]\n",
        "    self.inter_pos2=[0,3]\n",
        "    self.state = np.zeros((4, 4))\n",
        "    self.state[tuple(self.agent_pos)] = 1\n",
        "    self.state[tuple(self.goal_pos)] = 0.75\n",
        "    self.state[tuple(self.inter_pos)]=0.4\n",
        "    self.state[tuple(self.inter_pos2)]=0.7\n",
        "\n",
        "    observation = self.state.flatten()\n",
        "\n",
        "    return observation\n",
        "\n",
        "  def step(self, action):\n",
        "    randomN = np.random.random(1)[0]\n",
        "\n",
        "    if action == 0:\n",
        "        self.agent_pos[0] += -1\n",
        "    elif action == 1:\n",
        "        self.agent_pos[0] -= -1\n",
        "    elif action == 2:\n",
        "        self.agent_pos[1] += 1\n",
        "    elif action == 3:\n",
        "        self.agent_pos[1] -= 1\n",
        "    \n",
        "    #Define the clipping boundary\n",
        "\n",
        "    self.agent_pos = np.clip(self.agent_pos, 0, 3)\n",
        "    self.agent_pos = np.clip(self.agent_pos, 0, 3)\n",
        "    self.state = np.zeros((4,4))\n",
        "    self.state[tuple(self.agent_pos)] = 1\n",
        "    self.state[tuple(self.goal_pos)] = 0.5\n",
        "    observation = self.state.flatten()\n",
        "\n",
        "    reward = 0\n",
        "    if (self.agent_pos == self.goal_pos).all():\n",
        "      reward = 1\n",
        "    \n",
        "    elif (self.agent_pos == self.inter_pos).all():\n",
        "      reward =+1.85\n",
        "\n",
        "    elif (self.agent_pos == self.inter_pos2).all():\n",
        "      reward=-0.5\n",
        "      self.timestep += 1\n",
        "    done = True if self.timestep >= self.max_timesteps else False\n",
        "    status = {}\n",
        "\n",
        "    return observation, reward, done, status\n",
        "\n",
        "  def render(self):\n",
        "    plt.imshow(self.state)"
      ]
    },
    {
      "cell_type": "code",
      "execution_count": null,
      "metadata": {
        "colab": {
          "base_uri": "https://localhost:8080/",
          "height": 269
        },
        "id": "IkPtUm8yNpWb",
        "outputId": "6e8549fa-268e-4bed-d43f-befb0852042b"
      },
      "outputs": [
        {
          "output_type": "display_data",
          "data": {
            "text/plain": [
              "<Figure size 432x288 with 1 Axes>"
            ],
            "image/png": "[encoded data removed]"
          },
          "metadata": {
            "needs_background": "light"
          }
        }
      ],
      "source": [
        "env = GridEnvironment()\n",
        "obs = env.reset()\n",
        "env.render()"
      ]
    },
    {
      "cell_type": "code",
      "execution_count": null,
      "metadata": {
        "colab": {
          "base_uri": "https://localhost:8080/",
          "height": 269
        },
        "id": "UtuKtdcKNw53",
        "outputId": "f7018668-42e2-4276-d5a7-be7899be4075"
      },
      "outputs": [
        {
          "output_type": "display_data",
          "data": {
            "text/plain": [
              "<IPython.core.display.Javascript object>"
            ],
            "application/javascript": [
              "window[\"c231a0ce-d001-11ec-9d22-0242ac1c0002\"] = google.colab.output.getActiveOutputArea();\n",
              "//# sourceURL=js_293c73826e"
            ]
          },
          "metadata": {}
        },
        {
          "output_type": "display_data",
          "data": {
            "text/plain": [
              "<IPython.core.display.Javascript object>"
            ],
            "application/javascript": [
              "window[\"c2323c50-d001-11ec-9d22-0242ac1c0002\"] = document.querySelector(\"#id2-0-0\");\n",
              "//# sourceURL=js_20a9e6e154"
            ]
          },
          "metadata": {}
        },
        {
          "output_type": "display_data",
          "data": {
            "text/plain": [
              "<IPython.core.display.Javascript object>"
            ],
            "application/javascript": [
              "window[\"c232e1e6-d001-11ec-9d22-0242ac1c0002\"] = google.colab.output.setActiveOutputArea(window[\"c2323c50-d001-11ec-9d22-0242ac1c0002\"]);\n",
              "//# sourceURL=js_8d16cb06cb"
            ]
          },
          "metadata": {}
        },
        {
          "output_type": "display_data",
          "data": {
            "text/plain": [
              "<IPython.core.display.Javascript object>"
            ],
            "application/javascript": [
              "window[\"c25406aa-d001-11ec-9d22-0242ac1c0002\"] = google.colab.output.setActiveOutputArea(window[\"c231a0ce-d001-11ec-9d22-0242ac1c0002\"]);\n",
              "//# sourceURL=js_5f356d37ff"
            ]
          },
          "metadata": {}
        },
        {
          "output_type": "display_data",
          "data": {
            "text/plain": [
              "<IPython.core.display.Javascript object>"
            ],
            "application/javascript": [
              "window[\"c2ef6578-d001-11ec-9d22-0242ac1c0002\"] = google.colab.output.getActiveOutputArea();\n",
              "//# sourceURL=js_d190728e61"
            ]
          },
          "metadata": {}
        },
        {
          "output_type": "display_data",
          "data": {
            "text/plain": [
              "<IPython.core.display.Javascript object>"
            ],
            "application/javascript": [
              "window[\"c2efe4ee-d001-11ec-9d22-0242ac1c0002\"] = document.querySelector(\"#id2-0-0\");\n",
              "//# sourceURL=js_7a0de329c8"
            ]
          },
          "metadata": {}
        },
        {
          "output_type": "display_data",
          "data": {
            "text/plain": [
              "<IPython.core.display.Javascript object>"
            ],
            "application/javascript": [
              "window[\"c2f06608-d001-11ec-9d22-0242ac1c0002\"] = google.colab.output.setActiveOutputArea(window[\"c2efe4ee-d001-11ec-9d22-0242ac1c0002\"]);\n",
              "//# sourceURL=js_94e0ce6289"
            ]
          },
          "metadata": {}
        },
        {
          "output_type": "display_data",
          "data": {
            "text/plain": [
              "<IPython.core.display.Javascript object>"
            ],
            "application/javascript": [
              "window[\"c30e9bdc-d001-11ec-9d22-0242ac1c0002\"] = google.colab.output.setActiveOutputArea(window[\"c2ef6578-d001-11ec-9d22-0242ac1c0002\"]);\n",
              "//# sourceURL=js_4775ade8cc"
            ]
          },
          "metadata": {}
        },
        {
          "output_type": "display_data",
          "data": {
            "text/plain": [
              "<IPython.core.display.Javascript object>"
            ],
            "application/javascript": [
              "window[\"c3a9dbe2-d001-11ec-9d22-0242ac1c0002\"] = google.colab.output.getActiveOutputArea();\n",
              "//# sourceURL=js_b39d3ea43e"
            ]
          },
          "metadata": {}
        },
        {
          "output_type": "display_data",
          "data": {
            "text/plain": [
              "<IPython.core.display.Javascript object>"
            ],
            "application/javascript": [
              "window[\"c3aa5fae-d001-11ec-9d22-0242ac1c0002\"] = document.querySelector(\"#id2-0-0\");\n",
              "//# sourceURL=js_ea3a812e54"
            ]
          },
          "metadata": {}
        },
        {
          "output_type": "display_data",
          "data": {
            "text/plain": [
              "<IPython.core.display.Javascript object>"
            ],
            "application/javascript": [
              "window[\"c3aad402-d001-11ec-9d22-0242ac1c0002\"] = google.colab.output.setActiveOutputArea(window[\"c3aa5fae-d001-11ec-9d22-0242ac1c0002\"]);\n",
              "//# sourceURL=js_b51111e913"
            ]
          },
          "metadata": {}
        },
        {
          "output_type": "display_data",
          "data": {
            "text/plain": [
              "<IPython.core.display.Javascript object>"
            ],
            "application/javascript": [
              "window[\"c3d38fd2-d001-11ec-9d22-0242ac1c0002\"] = google.colab.output.setActiveOutputArea(window[\"c3a9dbe2-d001-11ec-9d22-0242ac1c0002\"]);\n",
              "//# sourceURL=js_8a7c9c2817"
            ]
          },
          "metadata": {}
        },
        {
          "output_type": "display_data",
          "data": {
            "text/plain": [
              "<IPython.core.display.Javascript object>"
            ],
            "application/javascript": [
              "window[\"c46f4d3c-d001-11ec-9d22-0242ac1c0002\"] = google.colab.output.getActiveOutputArea();\n",
              "//# sourceURL=js_7e85565ef9"
            ]
          },
          "metadata": {}
        },
        {
          "output_type": "display_data",
          "data": {
            "text/plain": [
              "<IPython.core.display.Javascript object>"
            ],
            "application/javascript": [
              "window[\"c47020d6-d001-11ec-9d22-0242ac1c0002\"] = document.querySelector(\"#id2-0-0\");\n",
              "//# sourceURL=js_80c39b9c13"
            ]
          },
          "metadata": {}
        },
        {
          "output_type": "display_data",
          "data": {
            "text/plain": [
              "<IPython.core.display.Javascript object>"
            ],
            "application/javascript": [
              "window[\"c470b384-d001-11ec-9d22-0242ac1c0002\"] = google.colab.output.setActiveOutputArea(window[\"c47020d6-d001-11ec-9d22-0242ac1c0002\"]);\n",
              "//# sourceURL=js_f0b7061f1e"
            ]
          },
          "metadata": {}
        },
        {
          "output_type": "display_data",
          "data": {
            "text/plain": [
              "<IPython.core.display.Javascript object>"
            ],
            "application/javascript": [
              "window[\"c48ec1ee-d001-11ec-9d22-0242ac1c0002\"] = google.colab.output.setActiveOutputArea(window[\"c46f4d3c-d001-11ec-9d22-0242ac1c0002\"]);\n",
              "//# sourceURL=js_27c16f81fe"
            ]
          },
          "metadata": {}
        },
        {
          "output_type": "display_data",
          "data": {
            "text/plain": [
              "<IPython.core.display.Javascript object>"
            ],
            "application/javascript": [
              "window[\"c52cb1ce-d001-11ec-9d22-0242ac1c0002\"] = google.colab.output.getActiveOutputArea();\n",
              "//# sourceURL=js_53e278fcbc"
            ]
          },
          "metadata": {}
        },
        {
          "output_type": "display_data",
          "data": {
            "text/plain": [
              "<IPython.core.display.Javascript object>"
            ],
            "application/javascript": [
              "window[\"c52d5ba6-d001-11ec-9d22-0242ac1c0002\"] = document.querySelector(\"#id2-0-0\");\n",
              "//# sourceURL=js_66c358579e"
            ]
          },
          "metadata": {}
        },
        {
          "output_type": "display_data",
          "data": {
            "text/plain": [
              "<IPython.core.display.Javascript object>"
            ],
            "application/javascript": [
              "window[\"c52defee-d001-11ec-9d22-0242ac1c0002\"] = google.colab.output.setActiveOutputArea(window[\"c52d5ba6-d001-11ec-9d22-0242ac1c0002\"]);\n",
              "//# sourceURL=js_d2492623a8"
            ]
          },
          "metadata": {}
        },
        {
          "output_type": "display_data",
          "data": {
            "text/plain": [
              "<IPython.core.display.Javascript object>"
            ],
            "application/javascript": [
              "window[\"c54adf64-d001-11ec-9d22-0242ac1c0002\"] = google.colab.output.setActiveOutputArea(window[\"c52cb1ce-d001-11ec-9d22-0242ac1c0002\"]);\n",
              "//# sourceURL=js_ed835e3fb5"
            ]
          },
          "metadata": {}
        },
        {
          "output_type": "display_data",
          "data": {
            "text/plain": [
              "<IPython.core.display.Javascript object>"
            ],
            "application/javascript": [
              "window[\"c5e63c34-d001-11ec-9d22-0242ac1c0002\"] = google.colab.output.getActiveOutputArea();\n",
              "//# sourceURL=js_6703cd509f"
            ]
          },
          "metadata": {}
        },
        {
          "output_type": "display_data",
          "data": {
            "text/plain": [
              "<IPython.core.display.Javascript object>"
            ],
            "application/javascript": [
              "window[\"c5e6a552-d001-11ec-9d22-0242ac1c0002\"] = document.querySelector(\"#id2-0-0\");\n",
              "//# sourceURL=js_67f9ef154f"
            ]
          },
          "metadata": {}
        },
        {
          "output_type": "display_data",
          "data": {
            "text/plain": [
              "<IPython.core.display.Javascript object>"
            ],
            "application/javascript": [
              "window[\"c5e76082-d001-11ec-9d22-0242ac1c0002\"] = google.colab.output.setActiveOutputArea(window[\"c5e6a552-d001-11ec-9d22-0242ac1c0002\"]);\n",
              "//# sourceURL=js_1a27fb72c7"
            ]
          },
          "metadata": {}
        },
        {
          "output_type": "display_data",
          "data": {
            "text/plain": [
              "<IPython.core.display.Javascript object>"
            ],
            "application/javascript": [
              "window[\"c609ecba-d001-11ec-9d22-0242ac1c0002\"] = google.colab.output.setActiveOutputArea(window[\"c5e63c34-d001-11ec-9d22-0242ac1c0002\"]);\n",
              "//# sourceURL=js_4b471698ad"
            ]
          },
          "metadata": {}
        },
        {
          "output_type": "display_data",
          "data": {
            "text/plain": [
              "<IPython.core.display.Javascript object>"
            ],
            "application/javascript": [
              "window[\"c6a60fc8-d001-11ec-9d22-0242ac1c0002\"] = google.colab.output.getActiveOutputArea();\n",
              "//# sourceURL=js_9a45927411"
            ]
          },
          "metadata": {}
        },
        {
          "output_type": "display_data",
          "data": {
            "text/plain": [
              "<IPython.core.display.Javascript object>"
            ],
            "application/javascript": [
              "window[\"c6a6aa64-d001-11ec-9d22-0242ac1c0002\"] = document.querySelector(\"#id2-0-0\");\n",
              "//# sourceURL=js_0e7003f196"
            ]
          },
          "metadata": {}
        },
        {
          "output_type": "display_data",
          "data": {
            "text/plain": [
              "<IPython.core.display.Javascript object>"
            ],
            "application/javascript": [
              "window[\"c6a72138-d001-11ec-9d22-0242ac1c0002\"] = google.colab.output.setActiveOutputArea(window[\"c6a6aa64-d001-11ec-9d22-0242ac1c0002\"]);\n",
              "//# sourceURL=js_ddb359571a"
            ]
          },
          "metadata": {}
        },
        {
          "output_type": "display_data",
          "data": {
            "text/plain": [
              "<IPython.core.display.Javascript object>"
            ],
            "application/javascript": [
              "window[\"c6c70638-d001-11ec-9d22-0242ac1c0002\"] = google.colab.output.setActiveOutputArea(window[\"c6a60fc8-d001-11ec-9d22-0242ac1c0002\"]);\n",
              "//# sourceURL=js_0d97fe5667"
            ]
          },
          "metadata": {}
        },
        {
          "output_type": "display_data",
          "data": {
            "text/plain": [
              "<IPython.core.display.Javascript object>"
            ],
            "application/javascript": [
              "window[\"c7632a40-d001-11ec-9d22-0242ac1c0002\"] = google.colab.output.getActiveOutputArea();\n",
              "//# sourceURL=js_10e509ff6c"
            ]
          },
          "metadata": {}
        },
        {
          "output_type": "display_data",
          "data": {
            "text/plain": [
              "<IPython.core.display.Javascript object>"
            ],
            "application/javascript": [
              "window[\"c763c694-d001-11ec-9d22-0242ac1c0002\"] = document.querySelector(\"#id2-0-0\");\n",
              "//# sourceURL=js_d4718a6807"
            ]
          },
          "metadata": {}
        },
        {
          "output_type": "display_data",
          "data": {
            "text/plain": [
              "<IPython.core.display.Javascript object>"
            ],
            "application/javascript": [
              "window[\"c76456d6-d001-11ec-9d22-0242ac1c0002\"] = google.colab.output.setActiveOutputArea(window[\"c763c694-d001-11ec-9d22-0242ac1c0002\"]);\n",
              "//# sourceURL=js_c1e8c172a4"
            ]
          },
          "metadata": {}
        },
        {
          "output_type": "display_data",
          "data": {
            "text/plain": [
              "<IPython.core.display.Javascript object>"
            ],
            "application/javascript": [
              "window[\"c7863526-d001-11ec-9d22-0242ac1c0002\"] = google.colab.output.setActiveOutputArea(window[\"c7632a40-d001-11ec-9d22-0242ac1c0002\"]);\n",
              "//# sourceURL=js_8f83a0da46"
            ]
          },
          "metadata": {}
        },
        {
          "output_type": "display_data",
          "data": {
            "text/plain": [
              "<IPython.core.display.Javascript object>"
            ],
            "application/javascript": [
              "window[\"c821a894-d001-11ec-9d22-0242ac1c0002\"] = google.colab.output.getActiveOutputArea();\n",
              "//# sourceURL=js_8e27b29480"
            ]
          },
          "metadata": {}
        },
        {
          "output_type": "display_data",
          "data": {
            "text/plain": [
              "<IPython.core.display.Javascript object>"
            ],
            "application/javascript": [
              "window[\"c8221040-d001-11ec-9d22-0242ac1c0002\"] = document.querySelector(\"#id2-0-0\");\n",
              "//# sourceURL=js_53d4e3be3e"
            ]
          },
          "metadata": {}
        },
        {
          "output_type": "display_data",
          "data": {
            "text/plain": [
              "<IPython.core.display.Javascript object>"
            ],
            "application/javascript": [
              "window[\"c822754e-d001-11ec-9d22-0242ac1c0002\"] = google.colab.output.setActiveOutputArea(window[\"c8221040-d001-11ec-9d22-0242ac1c0002\"]);\n",
              "//# sourceURL=js_1c9d248ee1"
            ]
          },
          "metadata": {}
        },
        {
          "output_type": "display_data",
          "data": {
            "text/plain": [
              "<IPython.core.display.Javascript object>"
            ],
            "application/javascript": [
              "window[\"c84253dc-d001-11ec-9d22-0242ac1c0002\"] = google.colab.output.setActiveOutputArea(window[\"c821a894-d001-11ec-9d22-0242ac1c0002\"]);\n",
              "//# sourceURL=js_502f6273ba"
            ]
          },
          "metadata": {}
        },
        {
          "output_type": "display_data",
          "data": {
            "text/plain": [
              "<IPython.core.display.Javascript object>"
            ],
            "application/javascript": [
              "window[\"c8e057d0-d001-11ec-9d22-0242ac1c0002\"] = google.colab.output.getActiveOutputArea();\n",
              "//# sourceURL=js_7437127881"
            ]
          },
          "metadata": {}
        },
        {
          "output_type": "display_data",
          "data": {
            "text/plain": [
              "<IPython.core.display.Javascript object>"
            ],
            "application/javascript": [
              "window[\"c8e0d034-d001-11ec-9d22-0242ac1c0002\"] = document.querySelector(\"#id2-0-0\");\n",
              "//# sourceURL=js_9dc44a81c6"
            ]
          },
          "metadata": {}
        },
        {
          "output_type": "display_data",
          "data": {
            "text/plain": [
              "<IPython.core.display.Javascript object>"
            ],
            "application/javascript": [
              "window[\"c8e14ec4-d001-11ec-9d22-0242ac1c0002\"] = google.colab.output.setActiveOutputArea(window[\"c8e0d034-d001-11ec-9d22-0242ac1c0002\"]);\n",
              "//# sourceURL=js_44f7e2fae2"
            ]
          },
          "metadata": {}
        },
        {
          "output_type": "display_data",
          "data": {
            "text/plain": [
              "<IPython.core.display.Javascript object>"
            ],
            "application/javascript": [
              "window[\"c8ffb134-d001-11ec-9d22-0242ac1c0002\"] = google.colab.output.setActiveOutputArea(window[\"c8e057d0-d001-11ec-9d22-0242ac1c0002\"]);\n",
              "//# sourceURL=js_13f4f59b52"
            ]
          },
          "metadata": {}
        },
        {
          "output_type": "display_data",
          "data": {
            "text/plain": [
              "<IPython.core.display.Javascript object>"
            ],
            "application/javascript": [
              "window[\"c99b6d86-d001-11ec-9d22-0242ac1c0002\"] = google.colab.output.getActiveOutputArea();\n",
              "//# sourceURL=js_fdf716c425"
            ]
          },
          "metadata": {}
        },
        {
          "output_type": "display_data",
          "data": {
            "text/plain": [
              "<IPython.core.display.Javascript object>"
            ],
            "application/javascript": [
              "window[\"c99bfe4a-d001-11ec-9d22-0242ac1c0002\"] = document.querySelector(\"#id2-0-0\");\n",
              "//# sourceURL=js_540c72d48f"
            ]
          },
          "metadata": {}
        },
        {
          "output_type": "display_data",
          "data": {
            "text/plain": [
              "<IPython.core.display.Javascript object>"
            ],
            "application/javascript": [
              "window[\"c99c791a-d001-11ec-9d22-0242ac1c0002\"] = google.colab.output.setActiveOutputArea(window[\"c99bfe4a-d001-11ec-9d22-0242ac1c0002\"]);\n",
              "//# sourceURL=js_4c92b8a0a9"
            ]
          },
          "metadata": {}
        },
        {
          "output_type": "display_data",
          "data": {
            "text/plain": [
              "<IPython.core.display.Javascript object>"
            ],
            "application/javascript": [
              "window[\"c9bb709a-d001-11ec-9d22-0242ac1c0002\"] = google.colab.output.setActiveOutputArea(window[\"c99b6d86-d001-11ec-9d22-0242ac1c0002\"]);\n",
              "//# sourceURL=js_2803a35c9e"
            ]
          },
          "metadata": {}
        },
        {
          "output_type": "display_data",
          "data": {
            "text/plain": [
              "<IPython.core.display.Javascript object>"
            ],
            "application/javascript": [
              "window[\"ca56e53e-d001-11ec-9d22-0242ac1c0002\"] = google.colab.output.getActiveOutputArea();\n",
              "//# sourceURL=js_24fc696f2f"
            ]
          },
          "metadata": {}
        },
        {
          "output_type": "display_data",
          "data": {
            "text/plain": [
              "<IPython.core.display.Javascript object>"
            ],
            "application/javascript": [
              "window[\"ca57805c-d001-11ec-9d22-0242ac1c0002\"] = document.querySelector(\"#id2-0-0\");\n",
              "//# sourceURL=js_bf7be8e82c"
            ]
          },
          "metadata": {}
        },
        {
          "output_type": "display_data",
          "data": {
            "text/plain": [
              "<IPython.core.display.Javascript object>"
            ],
            "application/javascript": [
              "window[\"ca57f294-d001-11ec-9d22-0242ac1c0002\"] = google.colab.output.setActiveOutputArea(window[\"ca57805c-d001-11ec-9d22-0242ac1c0002\"]);\n",
              "//# sourceURL=js_f819934ff6"
            ]
          },
          "metadata": {}
        },
        {
          "output_type": "display_data",
          "data": {
            "text/plain": [
              "<IPython.core.display.Javascript object>"
            ],
            "application/javascript": [
              "window[\"ca762f0c-d001-11ec-9d22-0242ac1c0002\"] = google.colab.output.setActiveOutputArea(window[\"ca56e53e-d001-11ec-9d22-0242ac1c0002\"]);\n",
              "//# sourceURL=js_d1e4ec741b"
            ]
          },
          "metadata": {}
        },
        {
          "output_type": "display_data",
          "data": {
            "text/plain": [
              "<IPython.core.display.Javascript object>"
            ],
            "application/javascript": [
              "window[\"cb115374-d001-11ec-9d22-0242ac1c0002\"] = google.colab.output.getActiveOutputArea();\n",
              "//# sourceURL=js_13ea7147e5"
            ]
          },
          "metadata": {}
        },
        {
          "output_type": "display_data",
          "data": {
            "text/plain": [
              "<IPython.core.display.Javascript object>"
            ],
            "application/javascript": [
              "window[\"cb11d83a-d001-11ec-9d22-0242ac1c0002\"] = document.querySelector(\"#id2-0-0\");\n",
              "//# sourceURL=js_fab376ab80"
            ]
          },
          "metadata": {}
        },
        {
          "output_type": "display_data",
          "data": {
            "text/plain": [
              "<IPython.core.display.Javascript object>"
            ],
            "application/javascript": [
              "window[\"cb123820-d001-11ec-9d22-0242ac1c0002\"] = google.colab.output.setActiveOutputArea(window[\"cb11d83a-d001-11ec-9d22-0242ac1c0002\"]);\n",
              "//# sourceURL=js_e816f963fa"
            ]
          },
          "metadata": {}
        },
        {
          "output_type": "display_data",
          "data": {
            "text/plain": [
              "<IPython.core.display.Javascript object>"
            ],
            "application/javascript": [
              "window[\"cb4e3622-d001-11ec-9d22-0242ac1c0002\"] = google.colab.output.setActiveOutputArea(window[\"cb115374-d001-11ec-9d22-0242ac1c0002\"]);\n",
              "//# sourceURL=js_416d9d9550"
            ]
          },
          "metadata": {}
        },
        {
          "output_type": "display_data",
          "data": {
            "text/plain": [
              "<IPython.core.display.Javascript object>"
            ],
            "application/javascript": [
              "window[\"cbea532c-d001-11ec-9d22-0242ac1c0002\"] = google.colab.output.getActiveOutputArea();\n",
              "//# sourceURL=js_31c49b65f7"
            ]
          },
          "metadata": {}
        },
        {
          "output_type": "display_data",
          "data": {
            "text/plain": [
              "<IPython.core.display.Javascript object>"
            ],
            "application/javascript": [
              "window[\"cbead964-d001-11ec-9d22-0242ac1c0002\"] = document.querySelector(\"#id2-0-0\");\n",
              "//# sourceURL=js_0d5a12700a"
            ]
          },
          "metadata": {}
        },
        {
          "output_type": "display_data",
          "data": {
            "text/plain": [
              "<IPython.core.display.Javascript object>"
            ],
            "application/javascript": [
              "window[\"cbeb50a6-d001-11ec-9d22-0242ac1c0002\"] = google.colab.output.setActiveOutputArea(window[\"cbead964-d001-11ec-9d22-0242ac1c0002\"]);\n",
              "//# sourceURL=js_23f3534118"
            ]
          },
          "metadata": {}
        },
        {
          "output_type": "display_data",
          "data": {
            "text/plain": [
              "<IPython.core.display.Javascript object>"
            ],
            "application/javascript": [
              "window[\"cc128ebe-d001-11ec-9d22-0242ac1c0002\"] = google.colab.output.setActiveOutputArea(window[\"cbea532c-d001-11ec-9d22-0242ac1c0002\"]);\n",
              "//# sourceURL=js_9808a9aa08"
            ]
          },
          "metadata": {}
        },
        {
          "output_type": "display_data",
          "data": {
            "text/plain": [
              "<IPython.core.display.Javascript object>"
            ],
            "application/javascript": [
              "window[\"ccaf7ddc-d001-11ec-9d22-0242ac1c0002\"] = google.colab.output.getActiveOutputArea();\n",
              "//# sourceURL=js_214d9e5b4d"
            ]
          },
          "metadata": {}
        },
        {
          "output_type": "display_data",
          "data": {
            "text/plain": [
              "<IPython.core.display.Javascript object>"
            ],
            "application/javascript": [
              "window[\"ccb01594-d001-11ec-9d22-0242ac1c0002\"] = document.querySelector(\"#id2-0-0\");\n",
              "//# sourceURL=js_783ec80302"
            ]
          },
          "metadata": {}
        },
        {
          "output_type": "display_data",
          "data": {
            "text/plain": [
              "<IPython.core.display.Javascript object>"
            ],
            "application/javascript": [
              "window[\"ccb0f342-d001-11ec-9d22-0242ac1c0002\"] = google.colab.output.setActiveOutputArea(window[\"ccb01594-d001-11ec-9d22-0242ac1c0002\"]);\n",
              "//# sourceURL=js_ba9bfb08dc"
            ]
          },
          "metadata": {}
        },
        {
          "output_type": "display_data",
          "data": {
            "text/plain": [
              "<IPython.core.display.Javascript object>"
            ],
            "application/javascript": [
              "window[\"ccd11244-d001-11ec-9d22-0242ac1c0002\"] = google.colab.output.setActiveOutputArea(window[\"ccaf7ddc-d001-11ec-9d22-0242ac1c0002\"]);\n",
              "//# sourceURL=js_eaff274c6a"
            ]
          },
          "metadata": {}
        },
        {
          "output_type": "display_data",
          "data": {
            "text/plain": [
              "<IPython.core.display.Javascript object>"
            ],
            "application/javascript": [
              "window[\"cd6ea3b0-d001-11ec-9d22-0242ac1c0002\"] = google.colab.output.getActiveOutputArea();\n",
              "//# sourceURL=js_045f205c5d"
            ]
          },
          "metadata": {}
        },
        {
          "output_type": "display_data",
          "data": {
            "text/plain": [
              "<IPython.core.display.Javascript object>"
            ],
            "application/javascript": [
              "window[\"cd6f5f62-d001-11ec-9d22-0242ac1c0002\"] = document.querySelector(\"#id2-0-0\");\n",
              "//# sourceURL=js_e3ad35bb93"
            ]
          },
          "metadata": {}
        },
        {
          "output_type": "display_data",
          "data": {
            "text/plain": [
              "<IPython.core.display.Javascript object>"
            ],
            "application/javascript": [
              "window[\"cd6ff7f6-d001-11ec-9d22-0242ac1c0002\"] = google.colab.output.setActiveOutputArea(window[\"cd6f5f62-d001-11ec-9d22-0242ac1c0002\"]);\n",
              "//# sourceURL=js_ccfcd49636"
            ]
          },
          "metadata": {}
        },
        {
          "output_type": "display_data",
          "data": {
            "text/plain": [
              "<IPython.core.display.Javascript object>"
            ],
            "application/javascript": [
              "window[\"cd8fdc88-d001-11ec-9d22-0242ac1c0002\"] = google.colab.output.setActiveOutputArea(window[\"cd6ea3b0-d001-11ec-9d22-0242ac1c0002\"]);\n",
              "//# sourceURL=js_8d96b507a6"
            ]
          },
          "metadata": {}
        },
        {
          "output_type": "display_data",
          "data": {
            "text/plain": [
              "<IPython.core.display.Javascript object>"
            ],
            "application/javascript": [
              "window[\"ce2e025a-d001-11ec-9d22-0242ac1c0002\"] = google.colab.output.getActiveOutputArea();\n",
              "//# sourceURL=js_6a31c28ca0"
            ]
          },
          "metadata": {}
        },
        {
          "output_type": "display_data",
          "data": {
            "text/plain": [
              "<IPython.core.display.Javascript object>"
            ],
            "application/javascript": [
              "window[\"ce2eb3b2-d001-11ec-9d22-0242ac1c0002\"] = document.querySelector(\"#id2-0-0\");\n",
              "//# sourceURL=js_7e2860d69c"
            ]
          },
          "metadata": {}
        },
        {
          "output_type": "display_data",
          "data": {
            "text/plain": [
              "<IPython.core.display.Javascript object>"
            ],
            "application/javascript": [
              "window[\"ce2f38b4-d001-11ec-9d22-0242ac1c0002\"] = google.colab.output.setActiveOutputArea(window[\"ce2eb3b2-d001-11ec-9d22-0242ac1c0002\"]);\n",
              "//# sourceURL=js_bdb9c39ddf"
            ]
          },
          "metadata": {}
        },
        {
          "output_type": "display_data",
          "data": {
            "text/plain": [
              "<IPython.core.display.Javascript object>"
            ],
            "application/javascript": [
              "window[\"ce4d43ea-d001-11ec-9d22-0242ac1c0002\"] = google.colab.output.setActiveOutputArea(window[\"ce2e025a-d001-11ec-9d22-0242ac1c0002\"]);\n",
              "//# sourceURL=js_b961738341"
            ]
          },
          "metadata": {}
        },
        {
          "output_type": "display_data",
          "data": {
            "text/plain": [
              "<IPython.core.display.Javascript object>"
            ],
            "application/javascript": [
              "window[\"cee927d8-d001-11ec-9d22-0242ac1c0002\"] = google.colab.output.getActiveOutputArea();\n",
              "//# sourceURL=js_6f955915de"
            ]
          },
          "metadata": {}
        },
        {
          "output_type": "display_data",
          "data": {
            "text/plain": [
              "<IPython.core.display.Javascript object>"
            ],
            "application/javascript": [
              "window[\"ceea192c-d001-11ec-9d22-0242ac1c0002\"] = document.querySelector(\"#id2-0-0\");\n",
              "//# sourceURL=js_52718810a1"
            ]
          },
          "metadata": {}
        },
        {
          "output_type": "display_data",
          "data": {
            "text/plain": [
              "<IPython.core.display.Javascript object>"
            ],
            "application/javascript": [
              "window[\"ceeb03dc-d001-11ec-9d22-0242ac1c0002\"] = google.colab.output.setActiveOutputArea(window[\"ceea192c-d001-11ec-9d22-0242ac1c0002\"]);\n",
              "//# sourceURL=js_97f79664a9"
            ]
          },
          "metadata": {}
        },
        {
          "output_type": "display_data",
          "data": {
            "text/plain": [
              "<Figure size 432x288 with 1 Axes>"
            ],
            "image/png": "[encoded data removed]"
          },
          "metadata": {
            "needs_background": "light"
          }
        },
        {
          "output_type": "display_data",
          "data": {
            "text/plain": [
              "<IPython.core.display.Javascript object>"
            ],
            "application/javascript": [
              "window[\"cf07e83a-d001-11ec-9d22-0242ac1c0002\"] = google.colab.output.setActiveOutputArea(window[\"cee927d8-d001-11ec-9d22-0242ac1c0002\"]);\n",
              "//# sourceURL=js_58252c0777"
            ]
          },
          "metadata": {}
        }
      ],
      "source": [
        "#Random Action\n",
        "action = 2\n",
        "reward = 0.7\n",
        "for action in [1,0,1,2,3,3,3,3,1,1,1,2,2,2,0,0,0,0]:\n",
        "  obs, reward, done, _ = env.step(action)\n",
        "  with output_grid.output_to(0, 0):\n",
        "    output_grid.clear_cell()\n",
        "    env.render()\n",
        "  time.sleep(1)\n",
        "#print('Reward: ', reward)"
      ]
    },
    {
      "cell_type": "code",
      "execution_count": null,
      "metadata": {
        "colab": {
          "base_uri": "https://localhost:8080/",
          "height": 269
        },
        "id": "XSIvbuSJN778",
        "outputId": "dc098cd0-e2f6-487b-9780-81f1939bacf1"
      },
      "outputs": [
        {
          "output_type": "display_data",
          "data": {
            "text/plain": [
              "<IPython.core.display.Javascript object>"
            ],
            "application/javascript": [
              "window[\"cfa785b6-d001-11ec-9d22-0242ac1c0002\"] = google.colab.output.getActiveOutputArea();\n",
              "//# sourceURL=js_2f6049cc74"
            ]
          },
          "metadata": {}
        },
        {
          "output_type": "display_data",
          "data": {
            "text/plain": [
              "<IPython.core.display.Javascript object>"
            ],
            "application/javascript": [
              "window[\"cfa879e4-d001-11ec-9d22-0242ac1c0002\"] = document.querySelector(\"#id2-0-0\");\n",
              "//# sourceURL=js_537a4e66c3"
            ]
          },
          "metadata": {}
        },
        {
          "output_type": "display_data",
          "data": {
            "text/plain": [
              "<IPython.core.display.Javascript object>"
            ],
            "application/javascript": [
              "window[\"cfa9422a-d001-11ec-9d22-0242ac1c0002\"] = google.colab.output.setActiveOutputArea(window[\"cfa879e4-d001-11ec-9d22-0242ac1c0002\"]);\n",
              "//# sourceURL=js_8a8b707202"
            ]
          },
          "metadata": {}
        },
        {
          "output_type": "display_data",
          "data": {
            "text/plain": [
              "<IPython.core.display.Javascript object>"
            ],
            "application/javascript": [
              "window[\"cfc6c7f0-d001-11ec-9d22-0242ac1c0002\"] = google.colab.output.setActiveOutputArea(window[\"cfa785b6-d001-11ec-9d22-0242ac1c0002\"]);\n",
              "//# sourceURL=js_5c969629ce"
            ]
          },
          "metadata": {}
        },
        {
          "output_type": "display_data",
          "data": {
            "text/plain": [
              "<IPython.core.display.Javascript object>"
            ],
            "application/javascript": [
              "window[\"d06236c2-d001-11ec-9d22-0242ac1c0002\"] = google.colab.output.getActiveOutputArea();\n",
              "//# sourceURL=js_22d4857013"
            ]
          },
          "metadata": {}
        },
        {
          "output_type": "display_data",
          "data": {
            "text/plain": [
              "<IPython.core.display.Javascript object>"
            ],
            "application/javascript": [
              "window[\"d062e28e-d001-11ec-9d22-0242ac1c0002\"] = document.querySelector(\"#id2-0-0\");\n",
              "//# sourceURL=js_87d5d5a2f6"
            ]
          },
          "metadata": {}
        },
        {
          "output_type": "display_data",
          "data": {
            "text/plain": [
              "<IPython.core.display.Javascript object>"
            ],
            "application/javascript": [
              "window[\"d0639b70-d001-11ec-9d22-0242ac1c0002\"] = google.colab.output.setActiveOutputArea(window[\"d062e28e-d001-11ec-9d22-0242ac1c0002\"]);\n",
              "//# sourceURL=js_bfdcdd2204"
            ]
          },
          "metadata": {}
        },
        {
          "output_type": "display_data",
          "data": {
            "text/plain": [
              "<IPython.core.display.Javascript object>"
            ],
            "application/javascript": [
              "window[\"d0817bc2-d001-11ec-9d22-0242ac1c0002\"] = google.colab.output.setActiveOutputArea(window[\"d06236c2-d001-11ec-9d22-0242ac1c0002\"]);\n",
              "//# sourceURL=js_4f538275e9"
            ]
          },
          "metadata": {}
        },
        {
          "output_type": "display_data",
          "data": {
            "text/plain": [
              "<IPython.core.display.Javascript object>"
            ],
            "application/javascript": [
              "window[\"d11cbfec-d001-11ec-9d22-0242ac1c0002\"] = google.colab.output.getActiveOutputArea();\n",
              "//# sourceURL=js_f48fd66b3d"
            ]
          },
          "metadata": {}
        },
        {
          "output_type": "display_data",
          "data": {
            "text/plain": [
              "<IPython.core.display.Javascript object>"
            ],
            "application/javascript": [
              "window[\"d11cff66-d001-11ec-9d22-0242ac1c0002\"] = document.querySelector(\"#id2-0-0\");\n",
              "//# sourceURL=js_ced6e4d711"
            ]
          },
          "metadata": {}
        },
        {
          "output_type": "display_data",
          "data": {
            "text/plain": [
              "<IPython.core.display.Javascript object>"
            ],
            "application/javascript": [
              "window[\"d11d33e6-d001-11ec-9d22-0242ac1c0002\"] = google.colab.output.setActiveOutputArea(window[\"d11cff66-d001-11ec-9d22-0242ac1c0002\"]);\n",
              "//# sourceURL=js_e64726ae8a"
            ]
          },
          "metadata": {}
        },
        {
          "output_type": "display_data",
          "data": {
            "text/plain": [
              "<IPython.core.display.Javascript object>"
            ],
            "application/javascript": [
              "window[\"d13ef530-d001-11ec-9d22-0242ac1c0002\"] = google.colab.output.setActiveOutputArea(window[\"d11cbfec-d001-11ec-9d22-0242ac1c0002\"]);\n",
              "//# sourceURL=js_0dda121e04"
            ]
          },
          "metadata": {}
        },
        {
          "output_type": "display_data",
          "data": {
            "text/plain": [
              "<IPython.core.display.Javascript object>"
            ],
            "application/javascript": [
              "window[\"d1dc6090-d001-11ec-9d22-0242ac1c0002\"] = google.colab.output.getActiveOutputArea();\n",
              "//# sourceURL=js_ec6a864de2"
            ]
          },
          "metadata": {}
        },
        {
          "output_type": "display_data",
          "data": {
            "text/plain": [
              "<IPython.core.display.Javascript object>"
            ],
            "application/javascript": [
              "window[\"d1dcabae-d001-11ec-9d22-0242ac1c0002\"] = document.querySelector(\"#id2-0-0\");\n",
              "//# sourceURL=js_de6930826c"
            ]
          },
          "metadata": {}
        },
        {
          "output_type": "display_data",
          "data": {
            "text/plain": [
              "<IPython.core.display.Javascript object>"
            ],
            "application/javascript": [
              "window[\"d1dd2502-d001-11ec-9d22-0242ac1c0002\"] = google.colab.output.setActiveOutputArea(window[\"d1dcabae-d001-11ec-9d22-0242ac1c0002\"]);\n",
              "//# sourceURL=js_6921d47c0e"
            ]
          },
          "metadata": {}
        },
        {
          "output_type": "display_data",
          "data": {
            "text/plain": [
              "<IPython.core.display.Javascript object>"
            ],
            "application/javascript": [
              "window[\"d1f947c8-d001-11ec-9d22-0242ac1c0002\"] = google.colab.output.setActiveOutputArea(window[\"d1dc6090-d001-11ec-9d22-0242ac1c0002\"]);\n",
              "//# sourceURL=js_b03e542f48"
            ]
          },
          "metadata": {}
        },
        {
          "output_type": "display_data",
          "data": {
            "text/plain": [
              "<IPython.core.display.Javascript object>"
            ],
            "application/javascript": [
              "window[\"d2949cdc-d001-11ec-9d22-0242ac1c0002\"] = google.colab.output.getActiveOutputArea();\n",
              "//# sourceURL=js_a6a2c03773"
            ]
          },
          "metadata": {}
        },
        {
          "output_type": "display_data",
          "data": {
            "text/plain": [
              "<IPython.core.display.Javascript object>"
            ],
            "application/javascript": [
              "window[\"d29525da-d001-11ec-9d22-0242ac1c0002\"] = document.querySelector(\"#id2-0-0\");\n",
              "//# sourceURL=js_279660e06b"
            ]
          },
          "metadata": {}
        },
        {
          "output_type": "display_data",
          "data": {
            "text/plain": [
              "<IPython.core.display.Javascript object>"
            ],
            "application/javascript": [
              "window[\"d29604d2-d001-11ec-9d22-0242ac1c0002\"] = google.colab.output.setActiveOutputArea(window[\"d29525da-d001-11ec-9d22-0242ac1c0002\"]);\n",
              "//# sourceURL=js_d72e150b1b"
            ]
          },
          "metadata": {}
        },
        {
          "output_type": "display_data",
          "data": {
            "text/plain": [
              "<IPython.core.display.Javascript object>"
            ],
            "application/javascript": [
              "window[\"d2b3a9b0-d001-11ec-9d22-0242ac1c0002\"] = google.colab.output.setActiveOutputArea(window[\"d2949cdc-d001-11ec-9d22-0242ac1c0002\"]);\n",
              "//# sourceURL=js_3edc77100c"
            ]
          },
          "metadata": {}
        },
        {
          "output_type": "display_data",
          "data": {
            "text/plain": [
              "<IPython.core.display.Javascript object>"
            ],
            "application/javascript": [
              "window[\"d350b32c-d001-11ec-9d22-0242ac1c0002\"] = google.colab.output.getActiveOutputArea();\n",
              "//# sourceURL=js_35deb87c40"
            ]
          },
          "metadata": {}
        },
        {
          "output_type": "display_data",
          "data": {
            "text/plain": [
              "<IPython.core.display.Javascript object>"
            ],
            "application/javascript": [
              "window[\"d3513c02-d001-11ec-9d22-0242ac1c0002\"] = document.querySelector(\"#id2-0-0\");\n",
              "//# sourceURL=js_760d1fac48"
            ]
          },
          "metadata": {}
        },
        {
          "output_type": "display_data",
          "data": {
            "text/plain": [
              "<IPython.core.display.Javascript object>"
            ],
            "application/javascript": [
              "window[\"d351bbaa-d001-11ec-9d22-0242ac1c0002\"] = google.colab.output.setActiveOutputArea(window[\"d3513c02-d001-11ec-9d22-0242ac1c0002\"]);\n",
              "//# sourceURL=js_26476e04e5"
            ]
          },
          "metadata": {}
        },
        {
          "output_type": "display_data",
          "data": {
            "text/plain": [
              "<IPython.core.display.Javascript object>"
            ],
            "application/javascript": [
              "window[\"d372293a-d001-11ec-9d22-0242ac1c0002\"] = google.colab.output.setActiveOutputArea(window[\"d350b32c-d001-11ec-9d22-0242ac1c0002\"]);\n",
              "//# sourceURL=js_c19889efad"
            ]
          },
          "metadata": {}
        },
        {
          "output_type": "display_data",
          "data": {
            "text/plain": [
              "<IPython.core.display.Javascript object>"
            ],
            "application/javascript": [
              "window[\"d40f4b52-d001-11ec-9d22-0242ac1c0002\"] = google.colab.output.getActiveOutputArea();\n",
              "//# sourceURL=js_f3f634a0e5"
            ]
          },
          "metadata": {}
        },
        {
          "output_type": "display_data",
          "data": {
            "text/plain": [
              "<IPython.core.display.Javascript object>"
            ],
            "application/javascript": [
              "window[\"d410123a-d001-11ec-9d22-0242ac1c0002\"] = document.querySelector(\"#id2-0-0\");\n",
              "//# sourceURL=js_a2e478adca"
            ]
          },
          "metadata": {}
        },
        {
          "output_type": "display_data",
          "data": {
            "text/plain": [
              "<IPython.core.display.Javascript object>"
            ],
            "application/javascript": [
              "window[\"d410afa6-d001-11ec-9d22-0242ac1c0002\"] = google.colab.output.setActiveOutputArea(window[\"d410123a-d001-11ec-9d22-0242ac1c0002\"]);\n",
              "//# sourceURL=js_b6b277d357"
            ]
          },
          "metadata": {}
        },
        {
          "output_type": "display_data",
          "data": {
            "text/plain": [
              "<IPython.core.display.Javascript object>"
            ],
            "application/javascript": [
              "window[\"d43dedc2-d001-11ec-9d22-0242ac1c0002\"] = google.colab.output.setActiveOutputArea(window[\"d40f4b52-d001-11ec-9d22-0242ac1c0002\"]);\n",
              "//# sourceURL=js_736a76f52a"
            ]
          },
          "metadata": {}
        },
        {
          "output_type": "display_data",
          "data": {
            "text/plain": [
              "<IPython.core.display.Javascript object>"
            ],
            "application/javascript": [
              "window[\"d4d97792-d001-11ec-9d22-0242ac1c0002\"] = google.colab.output.getActiveOutputArea();\n",
              "//# sourceURL=js_edd9640acc"
            ]
          },
          "metadata": {}
        },
        {
          "output_type": "display_data",
          "data": {
            "text/plain": [
              "<IPython.core.display.Javascript object>"
            ],
            "application/javascript": [
              "window[\"d4d9e556-d001-11ec-9d22-0242ac1c0002\"] = document.querySelector(\"#id2-0-0\");\n",
              "//# sourceURL=js_e57b646e21"
            ]
          },
          "metadata": {}
        },
        {
          "output_type": "display_data",
          "data": {
            "text/plain": [
              "<IPython.core.display.Javascript object>"
            ],
            "application/javascript": [
              "window[\"d4dabb16-d001-11ec-9d22-0242ac1c0002\"] = google.colab.output.setActiveOutputArea(window[\"d4d9e556-d001-11ec-9d22-0242ac1c0002\"]);\n",
              "//# sourceURL=js_b0a7dbfa30"
            ]
          },
          "metadata": {}
        },
        {
          "output_type": "display_data",
          "data": {
            "text/plain": [
              "<IPython.core.display.Javascript object>"
            ],
            "application/javascript": [
              "window[\"d4f746c8-d001-11ec-9d22-0242ac1c0002\"] = google.colab.output.setActiveOutputArea(window[\"d4d97792-d001-11ec-9d22-0242ac1c0002\"]);\n",
              "//# sourceURL=js_5573b89bf3"
            ]
          },
          "metadata": {}
        },
        {
          "output_type": "display_data",
          "data": {
            "text/plain": [
              "<IPython.core.display.Javascript object>"
            ],
            "application/javascript": [
              "window[\"d594e9fa-d001-11ec-9d22-0242ac1c0002\"] = google.colab.output.getActiveOutputArea();\n",
              "//# sourceURL=js_b18f5a98ee"
            ]
          },
          "metadata": {}
        },
        {
          "output_type": "display_data",
          "data": {
            "text/plain": [
              "<IPython.core.display.Javascript object>"
            ],
            "application/javascript": [
              "window[\"d5955b4c-d001-11ec-9d22-0242ac1c0002\"] = document.querySelector(\"#id2-0-0\");\n",
              "//# sourceURL=js_a57a333846"
            ]
          },
          "metadata": {}
        },
        {
          "output_type": "display_data",
          "data": {
            "text/plain": [
              "<IPython.core.display.Javascript object>"
            ],
            "application/javascript": [
              "window[\"d5961dc0-d001-11ec-9d22-0242ac1c0002\"] = google.colab.output.setActiveOutputArea(window[\"d5955b4c-d001-11ec-9d22-0242ac1c0002\"]);\n",
              "//# sourceURL=js_d6e3674484"
            ]
          },
          "metadata": {}
        },
        {
          "output_type": "display_data",
          "data": {
            "text/plain": [
              "<IPython.core.display.Javascript object>"
            ],
            "application/javascript": [
              "window[\"d5b46f3c-d001-11ec-9d22-0242ac1c0002\"] = google.colab.output.setActiveOutputArea(window[\"d594e9fa-d001-11ec-9d22-0242ac1c0002\"]);\n",
              "//# sourceURL=js_2f99c5ab6e"
            ]
          },
          "metadata": {}
        },
        {
          "output_type": "display_data",
          "data": {
            "text/plain": [
              "<IPython.core.display.Javascript object>"
            ],
            "application/javascript": [
              "window[\"d6526174-d001-11ec-9d22-0242ac1c0002\"] = google.colab.output.getActiveOutputArea();\n",
              "//# sourceURL=js_1d981b8687"
            ]
          },
          "metadata": {}
        },
        {
          "output_type": "display_data",
          "data": {
            "text/plain": [
              "<IPython.core.display.Javascript object>"
            ],
            "application/javascript": [
              "window[\"d6532bfe-d001-11ec-9d22-0242ac1c0002\"] = document.querySelector(\"#id2-0-0\");\n",
              "//# sourceURL=js_41872e0882"
            ]
          },
          "metadata": {}
        },
        {
          "output_type": "display_data",
          "data": {
            "text/plain": [
              "<IPython.core.display.Javascript object>"
            ],
            "application/javascript": [
              "window[\"d6541ba4-d001-11ec-9d22-0242ac1c0002\"] = google.colab.output.setActiveOutputArea(window[\"d6532bfe-d001-11ec-9d22-0242ac1c0002\"]);\n",
              "//# sourceURL=js_1db0815de8"
            ]
          },
          "metadata": {}
        },
        {
          "output_type": "display_data",
          "data": {
            "text/plain": [
              "<IPython.core.display.Javascript object>"
            ],
            "application/javascript": [
              "window[\"d674e942-d001-11ec-9d22-0242ac1c0002\"] = google.colab.output.setActiveOutputArea(window[\"d6526174-d001-11ec-9d22-0242ac1c0002\"]);\n",
              "//# sourceURL=js_80d0bb099a"
            ]
          },
          "metadata": {}
        },
        {
          "output_type": "display_data",
          "data": {
            "text/plain": [
              "<IPython.core.display.Javascript object>"
            ],
            "application/javascript": [
              "window[\"d7108f0a-d001-11ec-9d22-0242ac1c0002\"] = google.colab.output.getActiveOutputArea();\n",
              "//# sourceURL=js_7dabc3c05a"
            ]
          },
          "metadata": {}
        },
        {
          "output_type": "display_data",
          "data": {
            "text/plain": [
              "<IPython.core.display.Javascript object>"
            ],
            "application/javascript": [
              "window[\"d71113b2-d001-11ec-9d22-0242ac1c0002\"] = document.querySelector(\"#id2-0-0\");\n",
              "//# sourceURL=js_cfdcb6e20a"
            ]
          },
          "metadata": {}
        },
        {
          "output_type": "display_data",
          "data": {
            "text/plain": [
              "<IPython.core.display.Javascript object>"
            ],
            "application/javascript": [
              "window[\"d71185ae-d001-11ec-9d22-0242ac1c0002\"] = google.colab.output.setActiveOutputArea(window[\"d71113b2-d001-11ec-9d22-0242ac1c0002\"]);\n",
              "//# sourceURL=js_c7337de642"
            ]
          },
          "metadata": {}
        },
        {
          "output_type": "display_data",
          "data": {
            "text/plain": [
              "<IPython.core.display.Javascript object>"
            ],
            "application/javascript": [
              "window[\"d72f4e04-d001-11ec-9d22-0242ac1c0002\"] = google.colab.output.setActiveOutputArea(window[\"d7108f0a-d001-11ec-9d22-0242ac1c0002\"]);\n",
              "//# sourceURL=js_61eb4b3ee7"
            ]
          },
          "metadata": {}
        },
        {
          "output_type": "display_data",
          "data": {
            "text/plain": [
              "<IPython.core.display.Javascript object>"
            ],
            "application/javascript": [
              "window[\"d7caa05c-d001-11ec-9d22-0242ac1c0002\"] = google.colab.output.getActiveOutputArea();\n",
              "//# sourceURL=js_94ee0483dc"
            ]
          },
          "metadata": {}
        },
        {
          "output_type": "display_data",
          "data": {
            "text/plain": [
              "<IPython.core.display.Javascript object>"
            ],
            "application/javascript": [
              "window[\"d7cb2838-d001-11ec-9d22-0242ac1c0002\"] = document.querySelector(\"#id2-0-0\");\n",
              "//# sourceURL=js_dfc6ed0ef6"
            ]
          },
          "metadata": {}
        },
        {
          "output_type": "display_data",
          "data": {
            "text/plain": [
              "<IPython.core.display.Javascript object>"
            ],
            "application/javascript": [
              "window[\"d7cba628-d001-11ec-9d22-0242ac1c0002\"] = google.colab.output.setActiveOutputArea(window[\"d7cb2838-d001-11ec-9d22-0242ac1c0002\"]);\n",
              "//# sourceURL=js_24b7b1113e"
            ]
          },
          "metadata": {}
        },
        {
          "output_type": "display_data",
          "data": {
            "text/plain": [
              "<IPython.core.display.Javascript object>"
            ],
            "application/javascript": [
              "window[\"d7eadb42-d001-11ec-9d22-0242ac1c0002\"] = google.colab.output.setActiveOutputArea(window[\"d7caa05c-d001-11ec-9d22-0242ac1c0002\"]);\n",
              "//# sourceURL=js_17f76169ea"
            ]
          },
          "metadata": {}
        },
        {
          "output_type": "display_data",
          "data": {
            "text/plain": [
              "<IPython.core.display.Javascript object>"
            ],
            "application/javascript": [
              "window[\"d88622a0-d001-11ec-9d22-0242ac1c0002\"] = google.colab.output.getActiveOutputArea();\n",
              "//# sourceURL=js_d8d6117eb2"
            ]
          },
          "metadata": {}
        },
        {
          "output_type": "display_data",
          "data": {
            "text/plain": [
              "<IPython.core.display.Javascript object>"
            ],
            "application/javascript": [
              "window[\"d8868416-d001-11ec-9d22-0242ac1c0002\"] = document.querySelector(\"#id2-0-0\");\n",
              "//# sourceURL=js_33ce4eaaaa"
            ]
          },
          "metadata": {}
        },
        {
          "output_type": "display_data",
          "data": {
            "text/plain": [
              "<IPython.core.display.Javascript object>"
            ],
            "application/javascript": [
              "window[\"d88756e8-d001-11ec-9d22-0242ac1c0002\"] = google.colab.output.setActiveOutputArea(window[\"d8868416-d001-11ec-9d22-0242ac1c0002\"]);\n",
              "//# sourceURL=js_e262e0d777"
            ]
          },
          "metadata": {}
        },
        {
          "output_type": "display_data",
          "data": {
            "text/plain": [
              "<IPython.core.display.Javascript object>"
            ],
            "application/javascript": [
              "window[\"d8a452d4-d001-11ec-9d22-0242ac1c0002\"] = google.colab.output.setActiveOutputArea(window[\"d88622a0-d001-11ec-9d22-0242ac1c0002\"]);\n",
              "//# sourceURL=js_0e5f232323"
            ]
          },
          "metadata": {}
        },
        {
          "output_type": "display_data",
          "data": {
            "text/plain": [
              "<IPython.core.display.Javascript object>"
            ],
            "application/javascript": [
              "window[\"d93f695e-d001-11ec-9d22-0242ac1c0002\"] = google.colab.output.getActiveOutputArea();\n",
              "//# sourceURL=js_a2ba56825a"
            ]
          },
          "metadata": {}
        },
        {
          "output_type": "display_data",
          "data": {
            "text/plain": [
              "<IPython.core.display.Javascript object>"
            ],
            "application/javascript": [
              "window[\"d93fb33c-d001-11ec-9d22-0242ac1c0002\"] = document.querySelector(\"#id2-0-0\");\n",
              "//# sourceURL=js_abc4330833"
            ]
          },
          "metadata": {}
        },
        {
          "output_type": "display_data",
          "data": {
            "text/plain": [
              "<IPython.core.display.Javascript object>"
            ],
            "application/javascript": [
              "window[\"d9401048-d001-11ec-9d22-0242ac1c0002\"] = google.colab.output.setActiveOutputArea(window[\"d93fb33c-d001-11ec-9d22-0242ac1c0002\"]);\n",
              "//# sourceURL=js_42a884e626"
            ]
          },
          "metadata": {}
        },
        {
          "output_type": "display_data",
          "data": {
            "text/plain": [
              "<IPython.core.display.Javascript object>"
            ],
            "application/javascript": [
              "window[\"d95d8b96-d001-11ec-9d22-0242ac1c0002\"] = google.colab.output.setActiveOutputArea(window[\"d93f695e-d001-11ec-9d22-0242ac1c0002\"]);\n",
              "//# sourceURL=js_5821195b88"
            ]
          },
          "metadata": {}
        },
        {
          "output_type": "display_data",
          "data": {
            "text/plain": [
              "<IPython.core.display.Javascript object>"
            ],
            "application/javascript": [
              "window[\"d9f95e2c-d001-11ec-9d22-0242ac1c0002\"] = google.colab.output.getActiveOutputArea();\n",
              "//# sourceURL=js_68619855de"
            ]
          },
          "metadata": {}
        },
        {
          "output_type": "display_data",
          "data": {
            "text/plain": [
              "<IPython.core.display.Javascript object>"
            ],
            "application/javascript": [
              "window[\"d9fa0728-d001-11ec-9d22-0242ac1c0002\"] = document.querySelector(\"#id2-0-0\");\n",
              "//# sourceURL=js_23eb6f2cdf"
            ]
          },
          "metadata": {}
        },
        {
          "output_type": "display_data",
          "data": {
            "text/plain": [
              "<IPython.core.display.Javascript object>"
            ],
            "application/javascript": [
              "window[\"d9fa9b3e-d001-11ec-9d22-0242ac1c0002\"] = google.colab.output.setActiveOutputArea(window[\"d9fa0728-d001-11ec-9d22-0242ac1c0002\"]);\n",
              "//# sourceURL=js_e84932c667"
            ]
          },
          "metadata": {}
        },
        {
          "output_type": "display_data",
          "data": {
            "text/plain": [
              "<IPython.core.display.Javascript object>"
            ],
            "application/javascript": [
              "window[\"da1980bc-d001-11ec-9d22-0242ac1c0002\"] = google.colab.output.setActiveOutputArea(window[\"d9f95e2c-d001-11ec-9d22-0242ac1c0002\"]);\n",
              "//# sourceURL=js_245a2ece15"
            ]
          },
          "metadata": {}
        },
        {
          "output_type": "display_data",
          "data": {
            "text/plain": [
              "<IPython.core.display.Javascript object>"
            ],
            "application/javascript": [
              "window[\"dab64e2e-d001-11ec-9d22-0242ac1c0002\"] = google.colab.output.getActiveOutputArea();\n",
              "//# sourceURL=js_a12fa48e2e"
            ]
          },
          "metadata": {}
        },
        {
          "output_type": "display_data",
          "data": {
            "text/plain": [
              "<IPython.core.display.Javascript object>"
            ],
            "application/javascript": [
              "window[\"dab75634-d001-11ec-9d22-0242ac1c0002\"] = document.querySelector(\"#id2-0-0\");\n",
              "//# sourceURL=js_1a30d8d0b3"
            ]
          },
          "metadata": {}
        },
        {
          "output_type": "display_data",
          "data": {
            "text/plain": [
              "<IPython.core.display.Javascript object>"
            ],
            "application/javascript": [
              "window[\"dab7d2c6-d001-11ec-9d22-0242ac1c0002\"] = google.colab.output.setActiveOutputArea(window[\"dab75634-d001-11ec-9d22-0242ac1c0002\"]);\n",
              "//# sourceURL=js_2f97c572a3"
            ]
          },
          "metadata": {}
        },
        {
          "output_type": "display_data",
          "data": {
            "text/plain": [
              "<IPython.core.display.Javascript object>"
            ],
            "application/javascript": [
              "window[\"dad6a19c-d001-11ec-9d22-0242ac1c0002\"] = google.colab.output.setActiveOutputArea(window[\"dab64e2e-d001-11ec-9d22-0242ac1c0002\"]);\n",
              "//# sourceURL=js_97f24c7c97"
            ]
          },
          "metadata": {}
        },
        {
          "output_type": "display_data",
          "data": {
            "text/plain": [
              "<IPython.core.display.Javascript object>"
            ],
            "application/javascript": [
              "window[\"db72079a-d001-11ec-9d22-0242ac1c0002\"] = google.colab.output.getActiveOutputArea();\n",
              "//# sourceURL=js_48f0f0680d"
            ]
          },
          "metadata": {}
        },
        {
          "output_type": "display_data",
          "data": {
            "text/plain": [
              "<IPython.core.display.Javascript object>"
            ],
            "application/javascript": [
              "window[\"db727f68-d001-11ec-9d22-0242ac1c0002\"] = document.querySelector(\"#id2-0-0\");\n",
              "//# sourceURL=js_611b5ec795"
            ]
          },
          "metadata": {}
        },
        {
          "output_type": "display_data",
          "data": {
            "text/plain": [
              "<IPython.core.display.Javascript object>"
            ],
            "application/javascript": [
              "window[\"db72f862-d001-11ec-9d22-0242ac1c0002\"] = google.colab.output.setActiveOutputArea(window[\"db727f68-d001-11ec-9d22-0242ac1c0002\"]);\n",
              "//# sourceURL=js_e354f78aa8"
            ]
          },
          "metadata": {}
        },
        {
          "output_type": "display_data",
          "data": {
            "text/plain": [
              "<IPython.core.display.Javascript object>"
            ],
            "application/javascript": [
              "window[\"db9058ee-d001-11ec-9d22-0242ac1c0002\"] = google.colab.output.setActiveOutputArea(window[\"db72079a-d001-11ec-9d22-0242ac1c0002\"]);\n",
              "//# sourceURL=js_f5ae494a0c"
            ]
          },
          "metadata": {}
        },
        {
          "output_type": "display_data",
          "data": {
            "text/plain": [
              "<IPython.core.display.Javascript object>"
            ],
            "application/javascript": [
              "window[\"dc2b8256-d001-11ec-9d22-0242ac1c0002\"] = google.colab.output.getActiveOutputArea();\n",
              "//# sourceURL=js_33252ef2be"
            ]
          },
          "metadata": {}
        },
        {
          "output_type": "display_data",
          "data": {
            "text/plain": [
              "<IPython.core.display.Javascript object>"
            ],
            "application/javascript": [
              "window[\"dc2bdb02-d001-11ec-9d22-0242ac1c0002\"] = document.querySelector(\"#id2-0-0\");\n",
              "//# sourceURL=js_c22e978a25"
            ]
          },
          "metadata": {}
        },
        {
          "output_type": "display_data",
          "data": {
            "text/plain": [
              "<IPython.core.display.Javascript object>"
            ],
            "application/javascript": [
              "window[\"dc2c6d92-d001-11ec-9d22-0242ac1c0002\"] = google.colab.output.setActiveOutputArea(window[\"dc2bdb02-d001-11ec-9d22-0242ac1c0002\"]);\n",
              "//# sourceURL=js_95e566cbf5"
            ]
          },
          "metadata": {}
        },
        {
          "output_type": "display_data",
          "data": {
            "text/plain": [
              "<Figure size 432x288 with 1 Axes>"
            ],
            "image/png": "[encoded data removed]"
          },
          "metadata": {
            "needs_background": "light"
          }
        },
        {
          "output_type": "display_data",
          "data": {
            "text/plain": [
              "<IPython.core.display.Javascript object>"
            ],
            "application/javascript": [
              "window[\"dc5ac930-d001-11ec-9d22-0242ac1c0002\"] = google.colab.output.setActiveOutputArea(window[\"dc2b8256-d001-11ec-9d22-0242ac1c0002\"]);\n",
              "//# sourceURL=js_f640b6d0a1"
            ]
          },
          "metadata": {}
        }
      ],
      "source": [
        "action = 2\n",
        "reward = 2\n",
        "for action in [1,0,1,2,3,3,3,3,1,1,1,2,2,2,0,0,0,0]:\n",
        "  obs, reward, done, _ = env.step(action)\n",
        "  with output_grid.output_to(0, 0):\n",
        "    output_grid.clear_cell()\n",
        "    env.render()\n",
        "  time.sleep(1)\n",
        "#print('Reward: ', reward)"
      ]
    },
    {
      "cell_type": "code",
      "execution_count": null,
      "metadata": {
        "colab": {
          "base_uri": "https://localhost:8080/",
          "height": 1000
        },
        "id": "dIENlebWOEks",
        "outputId": "f6d5d59d-48f4-4f7a-e3d6-4984630e8b05"
      },
      "outputs": [
        {
          "output_type": "display_data",
          "data": {
            "text/plain": [
              "<IPython.core.display.HTML object>"
            ],
            "text/html": [
              "<style>\n",
              "       table#id4, #id4 > tbody > tr > th, #id4 > tbody > tr > td {\n",
              "         border: 1px solid lightgray;\n",
              "         border-collapse:collapse;\n",
              "         \n",
              "        }</style>"
            ]
          },
          "metadata": {}
        },
        {
          "output_type": "display_data",
          "data": {
            "text/plain": [
              "<IPython.core.display.HTML object>"
            ],
            "text/html": [
              "<table id=id4><tr><td id=id4-0-0></td><td id=id4-0-1></td><td id=id4-0-2></td><td id=id4-0-3></td></tr><tr><td id=id4-1-0></td><td id=id4-1-1></td><td id=id4-1-2></td><td id=id4-1-3></td></tr><tr><td id=id4-2-0></td><td id=id4-2-1></td><td id=id4-2-2></td><td id=id4-2-3></td></tr><tr><td id=id4-3-0></td><td id=id4-3-1></td><td id=id4-3-2></td><td id=id4-3-3></td></tr></table>"
            ]
          },
          "metadata": {}
        },
        {
          "output_type": "stream",
          "name": "stdout",
          "text": [
            "0\n"
          ]
        },
        {
          "output_type": "display_data",
          "data": {
            "text/plain": [
              "<IPython.core.display.Javascript object>"
            ],
            "application/javascript": [
              "window[\"dcfe3296-d001-11ec-9d22-0242ac1c0002\"] = google.colab.output.getActiveOutputArea();\n",
              "//# sourceURL=js_5226a2bc29"
            ]
          },
          "metadata": {}
        },
        {
          "output_type": "display_data",
          "data": {
            "text/plain": [
              "<IPython.core.display.Javascript object>"
            ],
            "application/javascript": [
              "window[\"dcfea258-d001-11ec-9d22-0242ac1c0002\"] = document.querySelector(\"#id4-0-0\");\n",
              "//# sourceURL=js_46f0183e86"
            ]
          },
          "metadata": {}
        },
        {
          "output_type": "display_data",
          "data": {
            "text/plain": [
              "<IPython.core.display.Javascript object>"
            ],
            "application/javascript": [
              "window[\"dcff1346-d001-11ec-9d22-0242ac1c0002\"] = google.colab.output.setActiveOutputArea(window[\"dcfea258-d001-11ec-9d22-0242ac1c0002\"]);\n",
              "//# sourceURL=js_fd2bd4af6b"
            ]
          },
          "metadata": {}
        },
        {
          "output_type": "display_data",
          "data": {
            "text/plain": [
              "<Figure size 432x288 with 1 Axes>"
            ],
            "image/png": "[encoded data removed]"
          },
          "metadata": {
            "needs_background": "light"
          }
        },
        {
          "output_type": "display_data",
          "data": {
            "text/plain": [
              "<IPython.core.display.Javascript object>"
            ],
            "application/javascript": [
              "window[\"dd1f8504-d001-11ec-9d22-0242ac1c0002\"] = google.colab.output.setActiveOutputArea(window[\"dcfe3296-d001-11ec-9d22-0242ac1c0002\"]);\n",
              "//# sourceURL=js_2f89247534"
            ]
          },
          "metadata": {}
        },
        {
          "output_type": "stream",
          "name": "stdout",
          "text": [
            "-0.5\n"
          ]
        },
        {
          "output_type": "display_data",
          "data": {
            "text/plain": [
              "<IPython.core.display.Javascript object>"
            ],
            "application/javascript": [
              "window[\"ddbc07a8-d001-11ec-9d22-0242ac1c0002\"] = google.colab.output.getActiveOutputArea();\n",
              "//# sourceURL=js_394fcb4ead"
            ]
          },
          "metadata": {}
        },
        {
          "output_type": "display_data",
          "data": {
            "text/plain": [
              "<IPython.core.display.Javascript object>"
            ],
            "application/javascript": [
              "window[\"ddbc9b8c-d001-11ec-9d22-0242ac1c0002\"] = document.querySelector(\"#id4-0-1\");\n",
              "//# sourceURL=js_6f79c90794"
            ]
          },
          "metadata": {}
        },
        {
          "output_type": "display_data",
          "data": {
            "text/plain": [
              "<IPython.core.display.Javascript object>"
            ],
            "application/javascript": [
              "window[\"ddbd2278-d001-11ec-9d22-0242ac1c0002\"] = google.colab.output.setActiveOutputArea(window[\"ddbc9b8c-d001-11ec-9d22-0242ac1c0002\"]);\n",
              "//# sourceURL=js_0965c01134"
            ]
          },
          "metadata": {}
        },
        {
          "output_type": "display_data",
          "data": {
            "text/plain": [
              "<Figure size 432x288 with 1 Axes>"
            ],
            "image/png": "[encoded data removed]"
          },
          "metadata": {
            "needs_background": "light"
          }
        },
        {
          "output_type": "display_data",
          "data": {
            "text/plain": [
              "<IPython.core.display.Javascript object>"
            ],
            "application/javascript": [
              "window[\"dddc8690-d001-11ec-9d22-0242ac1c0002\"] = google.colab.output.setActiveOutputArea(window[\"ddbc07a8-d001-11ec-9d22-0242ac1c0002\"]);\n",
              "//# sourceURL=js_c43615538a"
            ]
          },
          "metadata": {}
        },
        {
          "output_type": "stream",
          "name": "stdout",
          "text": [
            "0\n"
          ]
        },
        {
          "output_type": "display_data",
          "data": {
            "text/plain": [
              "<IPython.core.display.Javascript object>"
            ],
            "application/javascript": [
              "window[\"de79aace-d001-11ec-9d22-0242ac1c0002\"] = google.colab.output.getActiveOutputArea();\n",
              "//# sourceURL=js_f5d5fd4d85"
            ]
          },
          "metadata": {}
        },
        {
          "output_type": "display_data",
          "data": {
            "text/plain": [
              "<IPython.core.display.Javascript object>"
            ],
            "application/javascript": [
              "window[\"de7a0c44-d001-11ec-9d22-0242ac1c0002\"] = document.querySelector(\"#id4-0-2\");\n",
              "//# sourceURL=js_5a2ca2aecd"
            ]
          },
          "metadata": {}
        },
        {
          "output_type": "display_data",
          "data": {
            "text/plain": [
              "<IPython.core.display.Javascript object>"
            ],
            "application/javascript": [
              "window[\"de7a7e72-d001-11ec-9d22-0242ac1c0002\"] = google.colab.output.setActiveOutputArea(window[\"de7a0c44-d001-11ec-9d22-0242ac1c0002\"]);\n",
              "//# sourceURL=js_94b9dcdc93"
            ]
          },
          "metadata": {}
        },
        {
          "output_type": "display_data",
          "data": {
            "text/plain": [
              "<Figure size 432x288 with 1 Axes>"
            ],
            "image/png": "[encoded data removed]"
          },
          "metadata": {
            "needs_background": "light"
          }
        },
        {
          "output_type": "display_data",
          "data": {
            "text/plain": [
              "<IPython.core.display.Javascript object>"
            ],
            "application/javascript": [
              "window[\"de96b4e8-d001-11ec-9d22-0242ac1c0002\"] = google.colab.output.setActiveOutputArea(window[\"de79aace-d001-11ec-9d22-0242ac1c0002\"]);\n",
              "//# sourceURL=js_4dcc3782f1"
            ]
          },
          "metadata": {}
        },
        {
          "output_type": "stream",
          "name": "stdout",
          "text": [
            "0\n"
          ]
        },
        {
          "output_type": "display_data",
          "data": {
            "text/plain": [
              "<IPython.core.display.Javascript object>"
            ],
            "application/javascript": [
              "window[\"df326532-d001-11ec-9d22-0242ac1c0002\"] = google.colab.output.getActiveOutputArea();\n",
              "//# sourceURL=js_7d7e83de8c"
            ]
          },
          "metadata": {}
        },
        {
          "output_type": "display_data",
          "data": {
            "text/plain": [
              "<IPython.core.display.Javascript object>"
            ],
            "application/javascript": [
              "window[\"df32d71a-d001-11ec-9d22-0242ac1c0002\"] = document.querySelector(\"#id4-0-3\");\n",
              "//# sourceURL=js_20a3c5ce9b"
            ]
          },
          "metadata": {}
        },
        {
          "output_type": "display_data",
          "data": {
            "text/plain": [
              "<IPython.core.display.Javascript object>"
            ],
            "application/javascript": [
              "window[\"df336856-d001-11ec-9d22-0242ac1c0002\"] = google.colab.output.setActiveOutputArea(window[\"df32d71a-d001-11ec-9d22-0242ac1c0002\"]);\n",
              "//# sourceURL=js_717a9e2124"
            ]
          },
          "metadata": {}
        },
        {
          "output_type": "display_data",
          "data": {
            "text/plain": [
              "<Figure size 432x288 with 1 Axes>"
            ],
            "image/png": "[encoded data removed]"
          },
          "metadata": {
            "needs_background": "light"
          }
        },
        {
          "output_type": "display_data",
          "data": {
            "text/plain": [
              "<IPython.core.display.Javascript object>"
            ],
            "application/javascript": [
              "window[\"df52d11e-d001-11ec-9d22-0242ac1c0002\"] = google.colab.output.setActiveOutputArea(window[\"df326532-d001-11ec-9d22-0242ac1c0002\"]);\n",
              "//# sourceURL=js_1bcbc9ea79"
            ]
          },
          "metadata": {}
        },
        {
          "output_type": "stream",
          "name": "stdout",
          "text": [
            "0\n"
          ]
        },
        {
          "output_type": "display_data",
          "data": {
            "text/plain": [
              "<IPython.core.display.Javascript object>"
            ],
            "application/javascript": [
              "window[\"dff00c90-d001-11ec-9d22-0242ac1c0002\"] = google.colab.output.getActiveOutputArea();\n",
              "//# sourceURL=js_9ea99a73cb"
            ]
          },
          "metadata": {}
        },
        {
          "output_type": "display_data",
          "data": {
            "text/plain": [
              "<IPython.core.display.Javascript object>"
            ],
            "application/javascript": [
              "window[\"dff0a22c-d001-11ec-9d22-0242ac1c0002\"] = document.querySelector(\"#id4-1-0\");\n",
              "//# sourceURL=js_2ab5e7579f"
            ]
          },
          "metadata": {}
        },
        {
          "output_type": "display_data",
          "data": {
            "text/plain": [
              "<IPython.core.display.Javascript object>"
            ],
            "application/javascript": [
              "window[\"dff179b8-d001-11ec-9d22-0242ac1c0002\"] = google.colab.output.setActiveOutputArea(window[\"dff0a22c-d001-11ec-9d22-0242ac1c0002\"]);\n",
              "//# sourceURL=js_8153472268"
            ]
          },
          "metadata": {}
        },
        {
          "output_type": "display_data",
          "data": {
            "text/plain": [
              "<Figure size 432x288 with 1 Axes>"
            ],
            "image/png": "[encoded data removed]"
          },
          "metadata": {
            "needs_background": "light"
          }
        },
        {
          "output_type": "display_data",
          "data": {
            "text/plain": [
              "<IPython.core.display.Javascript object>"
            ],
            "application/javascript": [
              "window[\"e010a6c6-d001-11ec-9d22-0242ac1c0002\"] = google.colab.output.setActiveOutputArea(window[\"dff00c90-d001-11ec-9d22-0242ac1c0002\"]);\n",
              "//# sourceURL=js_4f0ecaeb1d"
            ]
          },
          "metadata": {}
        },
        {
          "output_type": "stream",
          "name": "stdout",
          "text": [
            "0\n"
          ]
        },
        {
          "output_type": "display_data",
          "data": {
            "text/plain": [
              "<IPython.core.display.Javascript object>"
            ],
            "application/javascript": [
              "window[\"e0ac3fa0-d001-11ec-9d22-0242ac1c0002\"] = google.colab.output.getActiveOutputArea();\n",
              "//# sourceURL=js_74ce2a77a6"
            ]
          },
          "metadata": {}
        },
        {
          "output_type": "display_data",
          "data": {
            "text/plain": [
              "<IPython.core.display.Javascript object>"
            ],
            "application/javascript": [
              "window[\"e0acb584-d001-11ec-9d22-0242ac1c0002\"] = document.querySelector(\"#id4-1-1\");\n",
              "//# sourceURL=js_6d8f671c89"
            ]
          },
          "metadata": {}
        },
        {
          "output_type": "display_data",
          "data": {
            "text/plain": [
              "<IPython.core.display.Javascript object>"
            ],
            "application/javascript": [
              "window[\"e0ad161e-d001-11ec-9d22-0242ac1c0002\"] = google.colab.output.setActiveOutputArea(window[\"e0acb584-d001-11ec-9d22-0242ac1c0002\"]);\n",
              "//# sourceURL=js_eb99abb829"
            ]
          },
          "metadata": {}
        },
        {
          "output_type": "display_data",
          "data": {
            "text/plain": [
              "<Figure size 432x288 with 1 Axes>"
            ],
            "image/png": "[encoded data removed]"
          },
          "metadata": {
            "needs_background": "light"
          }
        },
        {
          "output_type": "display_data",
          "data": {
            "text/plain": [
              "<IPython.core.display.Javascript object>"
            ],
            "application/javascript": [
              "window[\"e0cf62f0-d001-11ec-9d22-0242ac1c0002\"] = google.colab.output.setActiveOutputArea(window[\"e0ac3fa0-d001-11ec-9d22-0242ac1c0002\"]);\n",
              "//# sourceURL=js_dcc4d0b8c0"
            ]
          },
          "metadata": {}
        },
        {
          "output_type": "stream",
          "name": "stdout",
          "text": [
            "0\n"
          ]
        },
        {
          "output_type": "display_data",
          "data": {
            "text/plain": [
              "<IPython.core.display.Javascript object>"
            ],
            "application/javascript": [
              "window[\"e16b0a02-d001-11ec-9d22-0242ac1c0002\"] = google.colab.output.getActiveOutputArea();\n",
              "//# sourceURL=js_b612f940e6"
            ]
          },
          "metadata": {}
        },
        {
          "output_type": "display_data",
          "data": {
            "text/plain": [
              "<IPython.core.display.Javascript object>"
            ],
            "application/javascript": [
              "window[\"e16b6cea-d001-11ec-9d22-0242ac1c0002\"] = document.querySelector(\"#id4-1-2\");\n",
              "//# sourceURL=js_c398a69cf3"
            ]
          },
          "metadata": {}
        },
        {
          "output_type": "display_data",
          "data": {
            "text/plain": [
              "<IPython.core.display.Javascript object>"
            ],
            "application/javascript": [
              "window[\"e16c00c4-d001-11ec-9d22-0242ac1c0002\"] = google.colab.output.setActiveOutputArea(window[\"e16b6cea-d001-11ec-9d22-0242ac1c0002\"]);\n",
              "//# sourceURL=js_cf1a0e903f"
            ]
          },
          "metadata": {}
        },
        {
          "output_type": "display_data",
          "data": {
            "text/plain": [
              "<Figure size 432x288 with 1 Axes>"
            ],
            "image/png": "[encoded data removed]"
          },
          "metadata": {
            "needs_background": "light"
          }
        },
        {
          "output_type": "display_data",
          "data": {
            "text/plain": [
              "<IPython.core.display.Javascript object>"
            ],
            "application/javascript": [
              "window[\"e18aad30-d001-11ec-9d22-0242ac1c0002\"] = google.colab.output.setActiveOutputArea(window[\"e16b0a02-d001-11ec-9d22-0242ac1c0002\"]);\n",
              "//# sourceURL=js_3a975fe02b"
            ]
          },
          "metadata": {}
        },
        {
          "output_type": "stream",
          "name": "stdout",
          "text": [
            "0\n"
          ]
        },
        {
          "output_type": "display_data",
          "data": {
            "text/plain": [
              "<IPython.core.display.Javascript object>"
            ],
            "application/javascript": [
              "window[\"e2265f0a-d001-11ec-9d22-0242ac1c0002\"] = google.colab.output.getActiveOutputArea();\n",
              "//# sourceURL=js_17970aa70b"
            ]
          },
          "metadata": {}
        },
        {
          "output_type": "display_data",
          "data": {
            "text/plain": [
              "<IPython.core.display.Javascript object>"
            ],
            "application/javascript": [
              "window[\"e226d44e-d001-11ec-9d22-0242ac1c0002\"] = document.querySelector(\"#id4-1-3\");\n",
              "//# sourceURL=js_acee965014"
            ]
          },
          "metadata": {}
        },
        {
          "output_type": "display_data",
          "data": {
            "text/plain": [
              "<IPython.core.display.Javascript object>"
            ],
            "application/javascript": [
              "window[\"e227b42c-d001-11ec-9d22-0242ac1c0002\"] = google.colab.output.setActiveOutputArea(window[\"e226d44e-d001-11ec-9d22-0242ac1c0002\"]);\n",
              "//# sourceURL=js_15459f8be6"
            ]
          },
          "metadata": {}
        },
        {
          "output_type": "display_data",
          "data": {
            "text/plain": [
              "<Figure size 432x288 with 1 Axes>"
            ],
            "image/png": "[encoded data removed]"
          },
          "metadata": {
            "needs_background": "light"
          }
        },
        {
          "output_type": "display_data",
          "data": {
            "text/plain": [
              "<IPython.core.display.Javascript object>"
            ],
            "application/javascript": [
              "window[\"e24788ec-d001-11ec-9d22-0242ac1c0002\"] = google.colab.output.setActiveOutputArea(window[\"e2265f0a-d001-11ec-9d22-0242ac1c0002\"]);\n",
              "//# sourceURL=js_c969e0da28"
            ]
          },
          "metadata": {}
        },
        {
          "output_type": "stream",
          "name": "stdout",
          "text": [
            "0\n"
          ]
        },
        {
          "output_type": "display_data",
          "data": {
            "text/plain": [
              "<IPython.core.display.Javascript object>"
            ],
            "application/javascript": [
              "window[\"e2e3ea02-d001-11ec-9d22-0242ac1c0002\"] = google.colab.output.getActiveOutputArea();\n",
              "//# sourceURL=js_0f26e811ce"
            ]
          },
          "metadata": {}
        },
        {
          "output_type": "display_data",
          "data": {
            "text/plain": [
              "<IPython.core.display.Javascript object>"
            ],
            "application/javascript": [
              "window[\"e2e4f762-d001-11ec-9d22-0242ac1c0002\"] = document.querySelector(\"#id4-2-0\");\n",
              "//# sourceURL=js_90147b344f"
            ]
          },
          "metadata": {}
        },
        {
          "output_type": "display_data",
          "data": {
            "text/plain": [
              "<IPython.core.display.Javascript object>"
            ],
            "application/javascript": [
              "window[\"e2e5aa68-d001-11ec-9d22-0242ac1c0002\"] = google.colab.output.setActiveOutputArea(window[\"e2e4f762-d001-11ec-9d22-0242ac1c0002\"]);\n",
              "//# sourceURL=js_05773e0e2f"
            ]
          },
          "metadata": {}
        },
        {
          "output_type": "display_data",
          "data": {
            "text/plain": [
              "<Figure size 432x288 with 1 Axes>"
            ],
            "image/png": "[encoded data removed]"
          },
          "metadata": {
            "needs_background": "light"
          }
        },
        {
          "output_type": "display_data",
          "data": {
            "text/plain": [
              "<IPython.core.display.Javascript object>"
            ],
            "application/javascript": [
              "window[\"e3076dd8-d001-11ec-9d22-0242ac1c0002\"] = google.colab.output.setActiveOutputArea(window[\"e2e3ea02-d001-11ec-9d22-0242ac1c0002\"]);\n",
              "//# sourceURL=js_cd3b43f9f7"
            ]
          },
          "metadata": {}
        },
        {
          "output_type": "stream",
          "name": "stdout",
          "text": [
            "0\n"
          ]
        },
        {
          "output_type": "display_data",
          "data": {
            "text/plain": [
              "<IPython.core.display.Javascript object>"
            ],
            "application/javascript": [
              "window[\"e3a409ea-d001-11ec-9d22-0242ac1c0002\"] = google.colab.output.getActiveOutputArea();\n",
              "//# sourceURL=js_08f2cbd2cb"
            ]
          },
          "metadata": {}
        },
        {
          "output_type": "display_data",
          "data": {
            "text/plain": [
              "<IPython.core.display.Javascript object>"
            ],
            "application/javascript": [
              "window[\"e3a493e2-d001-11ec-9d22-0242ac1c0002\"] = document.querySelector(\"#id4-2-1\");\n",
              "//# sourceURL=js_7cfcff2d49"
            ]
          },
          "metadata": {}
        },
        {
          "output_type": "display_data",
          "data": {
            "text/plain": [
              "<IPython.core.display.Javascript object>"
            ],
            "application/javascript": [
              "window[\"e3a57d34-d001-11ec-9d22-0242ac1c0002\"] = google.colab.output.setActiveOutputArea(window[\"e3a493e2-d001-11ec-9d22-0242ac1c0002\"]);\n",
              "//# sourceURL=js_7995a3b844"
            ]
          },
          "metadata": {}
        },
        {
          "output_type": "display_data",
          "data": {
            "text/plain": [
              "<Figure size 432x288 with 1 Axes>"
            ],
            "image/png": "[encoded data removed]"
          },
          "metadata": {
            "needs_background": "light"
          }
        },
        {
          "output_type": "display_data",
          "data": {
            "text/plain": [
              "<IPython.core.display.Javascript object>"
            ],
            "application/javascript": [
              "window[\"e3cc1b1a-d001-11ec-9d22-0242ac1c0002\"] = google.colab.output.setActiveOutputArea(window[\"e3a409ea-d001-11ec-9d22-0242ac1c0002\"]);\n",
              "//# sourceURL=js_520ea63d40"
            ]
          },
          "metadata": {}
        },
        {
          "output_type": "stream",
          "name": "stdout",
          "text": [
            "0\n"
          ]
        },
        {
          "output_type": "display_data",
          "data": {
            "text/plain": [
              "<IPython.core.display.Javascript object>"
            ],
            "application/javascript": [
              "window[\"e46812f4-d001-11ec-9d22-0242ac1c0002\"] = google.colab.output.getActiveOutputArea();\n",
              "//# sourceURL=js_9078311866"
            ]
          },
          "metadata": {}
        },
        {
          "output_type": "display_data",
          "data": {
            "text/plain": [
              "<IPython.core.display.Javascript object>"
            ],
            "application/javascript": [
              "window[\"e4695e3e-d001-11ec-9d22-0242ac1c0002\"] = document.querySelector(\"#id4-2-2\");\n",
              "//# sourceURL=js_e4974dd09c"
            ]
          },
          "metadata": {}
        },
        {
          "output_type": "display_data",
          "data": {
            "text/plain": [
              "<IPython.core.display.Javascript object>"
            ],
            "application/javascript": [
              "window[\"e469d800-d001-11ec-9d22-0242ac1c0002\"] = google.colab.output.setActiveOutputArea(window[\"e4695e3e-d001-11ec-9d22-0242ac1c0002\"]);\n",
              "//# sourceURL=js_8033d9fa80"
            ]
          },
          "metadata": {}
        },
        {
          "output_type": "display_data",
          "data": {
            "text/plain": [
              "<Figure size 432x288 with 1 Axes>"
            ],
            "image/png": "[encoded data removed]"
          },
          "metadata": {
            "needs_background": "light"
          }
        },
        {
          "output_type": "display_data",
          "data": {
            "text/plain": [
              "<IPython.core.display.Javascript object>"
            ],
            "application/javascript": [
              "window[\"e49c7fc6-d001-11ec-9d22-0242ac1c0002\"] = google.colab.output.setActiveOutputArea(window[\"e46812f4-d001-11ec-9d22-0242ac1c0002\"]);\n",
              "//# sourceURL=js_1d0fbda03c"
            ]
          },
          "metadata": {}
        },
        {
          "output_type": "stream",
          "name": "stdout",
          "text": [
            "0\n"
          ]
        },
        {
          "output_type": "display_data",
          "data": {
            "text/plain": [
              "<IPython.core.display.Javascript object>"
            ],
            "application/javascript": [
              "window[\"e53a1b50-d001-11ec-9d22-0242ac1c0002\"] = google.colab.output.getActiveOutputArea();\n",
              "//# sourceURL=js_59208e57cd"
            ]
          },
          "metadata": {}
        },
        {
          "output_type": "display_data",
          "data": {
            "text/plain": [
              "<IPython.core.display.Javascript object>"
            ],
            "application/javascript": [
              "window[\"e53ab6f0-d001-11ec-9d22-0242ac1c0002\"] = document.querySelector(\"#id4-2-3\");\n",
              "//# sourceURL=js_b2e500bfc7"
            ]
          },
          "metadata": {}
        },
        {
          "output_type": "display_data",
          "data": {
            "text/plain": [
              "<IPython.core.display.Javascript object>"
            ],
            "application/javascript": [
              "window[\"e53b7b1c-d001-11ec-9d22-0242ac1c0002\"] = google.colab.output.setActiveOutputArea(window[\"e53ab6f0-d001-11ec-9d22-0242ac1c0002\"]);\n",
              "//# sourceURL=js_ebdf4319e1"
            ]
          },
          "metadata": {}
        },
        {
          "output_type": "display_data",
          "data": {
            "text/plain": [
              "<Figure size 432x288 with 1 Axes>"
            ],
            "image/png": "[encoded data removed]"
          },
          "metadata": {
            "needs_background": "light"
          }
        },
        {
          "output_type": "display_data",
          "data": {
            "text/plain": [
              "<IPython.core.display.Javascript object>"
            ],
            "application/javascript": [
              "window[\"e5617c68-d001-11ec-9d22-0242ac1c0002\"] = google.colab.output.setActiveOutputArea(window[\"e53a1b50-d001-11ec-9d22-0242ac1c0002\"]);\n",
              "//# sourceURL=js_7d36d26e3a"
            ]
          },
          "metadata": {}
        },
        {
          "output_type": "stream",
          "name": "stdout",
          "text": [
            "1\n"
          ]
        },
        {
          "output_type": "display_data",
          "data": {
            "text/plain": [
              "<IPython.core.display.Javascript object>"
            ],
            "application/javascript": [
              "window[\"e5fdfbce-d001-11ec-9d22-0242ac1c0002\"] = google.colab.output.getActiveOutputArea();\n",
              "//# sourceURL=js_9ef36c90e0"
            ]
          },
          "metadata": {}
        },
        {
          "output_type": "display_data",
          "data": {
            "text/plain": [
              "<IPython.core.display.Javascript object>"
            ],
            "application/javascript": [
              "window[\"e5fe61ae-d001-11ec-9d22-0242ac1c0002\"] = document.querySelector(\"#id4-3-0\");\n",
              "//# sourceURL=js_9463c35366"
            ]
          },
          "metadata": {}
        },
        {
          "output_type": "display_data",
          "data": {
            "text/plain": [
              "<IPython.core.display.Javascript object>"
            ],
            "application/javascript": [
              "window[\"e5ffb13a-d001-11ec-9d22-0242ac1c0002\"] = google.colab.output.setActiveOutputArea(window[\"e5fe61ae-d001-11ec-9d22-0242ac1c0002\"]);\n",
              "//# sourceURL=js_f4579952e8"
            ]
          },
          "metadata": {}
        },
        {
          "output_type": "display_data",
          "data": {
            "text/plain": [
              "<Figure size 432x288 with 1 Axes>"
            ],
            "image/png": "[encoded data removed]"
          },
          "metadata": {
            "needs_background": "light"
          }
        },
        {
          "output_type": "display_data",
          "data": {
            "text/plain": [
              "<IPython.core.display.Javascript object>"
            ],
            "application/javascript": [
              "window[\"e624083c-d001-11ec-9d22-0242ac1c0002\"] = google.colab.output.setActiveOutputArea(window[\"e5fdfbce-d001-11ec-9d22-0242ac1c0002\"]);\n",
              "//# sourceURL=js_a970f833a9"
            ]
          },
          "metadata": {}
        },
        {
          "output_type": "stream",
          "name": "stdout",
          "text": [
            "0\n"
          ]
        },
        {
          "output_type": "display_data",
          "data": {
            "text/plain": [
              "<IPython.core.display.Javascript object>"
            ],
            "application/javascript": [
              "window[\"e6c07708-d001-11ec-9d22-0242ac1c0002\"] = google.colab.output.getActiveOutputArea();\n",
              "//# sourceURL=js_87e7a6d7f9"
            ]
          },
          "metadata": {}
        },
        {
          "output_type": "display_data",
          "data": {
            "text/plain": [
              "<IPython.core.display.Javascript object>"
            ],
            "application/javascript": [
              "window[\"e6c11d70-d001-11ec-9d22-0242ac1c0002\"] = document.querySelector(\"#id4-3-1\");\n",
              "//# sourceURL=js_bb1e2fc5ec"
            ]
          },
          "metadata": {}
        },
        {
          "output_type": "display_data",
          "data": {
            "text/plain": [
              "<IPython.core.display.Javascript object>"
            ],
            "application/javascript": [
              "window[\"e6c1fe34-d001-11ec-9d22-0242ac1c0002\"] = google.colab.output.setActiveOutputArea(window[\"e6c11d70-d001-11ec-9d22-0242ac1c0002\"]);\n",
              "//# sourceURL=js_d46053255b"
            ]
          },
          "metadata": {}
        },
        {
          "output_type": "display_data",
          "data": {
            "text/plain": [
              "<Figure size 432x288 with 1 Axes>"
            ],
            "image/png": "[encoded data removed]"
          },
          "metadata": {
            "needs_background": "light"
          }
        },
        {
          "output_type": "display_data",
          "data": {
            "text/plain": [
              "<IPython.core.display.Javascript object>"
            ],
            "application/javascript": [
              "window[\"e6e4cd9c-d001-11ec-9d22-0242ac1c0002\"] = google.colab.output.setActiveOutputArea(window[\"e6c07708-d001-11ec-9d22-0242ac1c0002\"]);\n",
              "//# sourceURL=js_cfff70bba2"
            ]
          },
          "metadata": {}
        },
        {
          "output_type": "stream",
          "name": "stdout",
          "text": [
            "0\n"
          ]
        },
        {
          "output_type": "display_data",
          "data": {
            "text/plain": [
              "<IPython.core.display.Javascript object>"
            ],
            "application/javascript": [
              "window[\"e780d692-d001-11ec-9d22-0242ac1c0002\"] = google.colab.output.getActiveOutputArea();\n",
              "//# sourceURL=js_0047054fcf"
            ]
          },
          "metadata": {}
        },
        {
          "output_type": "display_data",
          "data": {
            "text/plain": [
              "<IPython.core.display.Javascript object>"
            ],
            "application/javascript": [
              "window[\"e781c656-d001-11ec-9d22-0242ac1c0002\"] = document.querySelector(\"#id4-3-2\");\n",
              "//# sourceURL=js_a3b0e41bbe"
            ]
          },
          "metadata": {}
        },
        {
          "output_type": "display_data",
          "data": {
            "text/plain": [
              "<IPython.core.display.Javascript object>"
            ],
            "application/javascript": [
              "window[\"e7824400-d001-11ec-9d22-0242ac1c0002\"] = google.colab.output.setActiveOutputArea(window[\"e781c656-d001-11ec-9d22-0242ac1c0002\"]);\n",
              "//# sourceURL=js_24849d5626"
            ]
          },
          "metadata": {}
        },
        {
          "output_type": "display_data",
          "data": {
            "text/plain": [
              "<Figure size 432x288 with 1 Axes>"
            ],
            "image/png": "[encoded data removed]"
          },
          "metadata": {
            "needs_background": "light"
          }
        },
        {
          "output_type": "display_data",
          "data": {
            "text/plain": [
              "<IPython.core.display.Javascript object>"
            ],
            "application/javascript": [
              "window[\"e7a78468-d001-11ec-9d22-0242ac1c0002\"] = google.colab.output.setActiveOutputArea(window[\"e780d692-d001-11ec-9d22-0242ac1c0002\"]);\n",
              "//# sourceURL=js_602b610885"
            ]
          },
          "metadata": {}
        },
        {
          "output_type": "stream",
          "name": "stdout",
          "text": [
            "-0.5\n"
          ]
        },
        {
          "output_type": "display_data",
          "data": {
            "text/plain": [
              "<IPython.core.display.Javascript object>"
            ],
            "application/javascript": [
              "window[\"e8439ae2-d001-11ec-9d22-0242ac1c0002\"] = google.colab.output.getActiveOutputArea();\n",
              "//# sourceURL=js_d230a2b50d"
            ]
          },
          "metadata": {}
        },
        {
          "output_type": "display_data",
          "data": {
            "text/plain": [
              "<IPython.core.display.Javascript object>"
            ],
            "application/javascript": [
              "window[\"e8441d14-d001-11ec-9d22-0242ac1c0002\"] = document.querySelector(\"#id4-3-3\");\n",
              "//# sourceURL=js_e0be1fef13"
            ]
          },
          "metadata": {}
        },
        {
          "output_type": "display_data",
          "data": {
            "text/plain": [
              "<IPython.core.display.Javascript object>"
            ],
            "application/javascript": [
              "window[\"e844a52c-d001-11ec-9d22-0242ac1c0002\"] = google.colab.output.setActiveOutputArea(window[\"e8441d14-d001-11ec-9d22-0242ac1c0002\"]);\n",
              "//# sourceURL=js_64e08daed8"
            ]
          },
          "metadata": {}
        },
        {
          "output_type": "display_data",
          "data": {
            "text/plain": [
              "<Figure size 432x288 with 1 Axes>"
            ],
            "image/png": "[encoded data removed]"
          },
          "metadata": {
            "needs_background": "light"
          }
        },
        {
          "output_type": "display_data",
          "data": {
            "text/plain": [
              "<IPython.core.display.Javascript object>"
            ],
            "application/javascript": [
              "window[\"e8687434-d001-11ec-9d22-0242ac1c0002\"] = google.colab.output.setActiveOutputArea(window[\"e8439ae2-d001-11ec-9d22-0242ac1c0002\"]);\n",
              "//# sourceURL=js_bf320f8a58"
            ]
          },
          "metadata": {}
        },
        {
          "output_type": "stream",
          "name": "stdout",
          "text": [
            "Total Reward accumulated  0.0\n"
          ]
        }
      ],
      "source": [
        "action = 2\n",
        "reward2 = 0\n",
        "output_grid = widgets.Grid(4,4)\n",
        "row=0\n",
        "col=0\n",
        "for action in [1,0,1,2,3,3,3,1,1,1,2,2,2,0,0,0,0,0]:\n",
        "  obs, reward, done, _ = env.step(action)\n",
        "  reward2+=reward\n",
        "  print(reward)\n",
        "  with output_grid.output_to(row, col):\n",
        "    output_grid.clear_cell()\n",
        "    \n",
        "    env.render()\n",
        "  col+=1\n",
        "  if col>3:\n",
        "      col = 0\n",
        "      row+=1\n",
        "  if row>3:\n",
        "      break\n",
        "  time.sleep(1)\n",
        "print('Total Reward accumulated ', reward2)"
      ]
    },
    {
      "cell_type": "markdown",
      "source": [
        "# Part 2"
      ],
      "metadata": {
        "id": "9wPnmvwCXYG3"
      }
    },
    {
      "cell_type": "markdown",
      "source": [
        "We once again define the class grid Enviroment \n"
      ],
      "metadata": {
        "id": "_6nIHYYSrQxK"
      }
    },
    {
      "cell_type": "code",
      "source": [
        "class GridEnvironment(gym.Env):\n",
        "    def __init__(self, gamma, epsilon, epsilonDecay, alpha, episodes = 20, maxTimesteps = 10, rows = 4, cols = 4):\n",
        "        self.eventRecord = []\n",
        "        self.rows = rows\n",
        "        self.cols = cols\n",
        "        self.grid=np.zeros((3,3))\n",
        "        self.observation_space = spaces.Discrete(self.rows*self.cols)\n",
        "        self.actions = {\"UP\":0, \"RIGHT\":1, \"DOWN\":2,\"LEFT\":3}\n",
        "        self.maxTimesteps = maxTimesteps\n",
        "        self.state = np.zeros((self.rows, self.cols))\n",
        "        self.timestep = 0\n",
        "        self.agent_pos = [0, 0]\n",
        "        self.goal_pos = [self.rows-1, self.cols-1]\n",
        "        self.negative_r = [1,1]\n",
        "        self.bonus_pos = [0,3]\n",
        "        self.state = np.zeros((self.rows, self.cols))\n",
        "        self.env_state=np.zeros((3,3))\n",
        "        self.reward = {tuple(self.goal_pos): 2, tuple(self.negative_r) : -1, tuple(self.bonus_pos): 1}\n",
        "        self.rewardStates = {tuple(self.goal_pos), tuple(self.negative_r), tuple(self.bonus_pos)}\n",
        "        self.state[tuple(self.agent_pos)] = 2\n",
        "        self.state[tuple(self.goal_pos)] = 0.5\n",
        "        self.state[tuple(self.negative_r)] = 1.5\n",
        "        self.state[tuple(self.red_flag)] = -0.5\n",
        "        self.state[tuple(self.bonus_pos)] = 2.5\n",
        "        self.stat=(self.grid==self.env_state)\n",
        "        self.done=self.stat\n",
        "        self.gamma = gamma\n",
        "        self.epsilon = epsilon\n",
        "        self.epsilonDecay = epsilonDecay\n",
        "        self.alpha = alpha\n",
        "        self.episodes = episodes\n",
        "        self.maxTimesteps = maxTimesteps\n",
        "        self.cumulativeReward = 0\n",
        "        self.done = False\n",
        "\n",
        "        zero_state=[0,0,0,0]\n",
        "        self.qTable = {}\n",
        "        for i in range(self.rows):\n",
        "            for j in range(self.cols):\n",
        "                self.qTable[tuple([i,j])] = zero_state\n",
        "    \n",
        "    def reset(self):\n",
        "        #print(\"Episode ends\")\n",
        "        self.count+=1\n",
        "        self.timestep = 0\n",
        "        self.agent_pos = [0, 0]\n",
        "        self.goal_pos = [3, 3]\n",
        "        self.red_flag = [1,1]\n",
        "        self.inter_reward = [0,3]\n",
        "        self.inter_reward2 = [2,2]\n",
        "        self.state = np.zeros((4, 4))\n",
        "\n",
        "        self.state[tuple(self.agent_pos)] = 2\n",
        "        self.state[tuple(self.goal_pos)] = 0.5\n",
        "        self.state[tuple(self.inter_reward)] = 1.5\n",
        "        self.state[tuple(self.inter_reward2)]=2.5\n",
        "        self.state[tuple(self.red_flag)] = -0.5\n",
        "\n",
        "        self.cumulativeReward = 0\n",
        "        self.event = []\n",
        "\n",
        "        observation = self.state.flatten()\n",
        "        return observation\n",
        "\n",
        "    \n",
        "    def render(self):\n",
        "        plt.imshow(self.state)\n",
        "\n",
        "    def step(self, action):\n",
        "        randomN = np.random.random(1)[0]\n",
        "\n",
        "        if action == 0:\n",
        "            self.agent_pos[0] += -1\n",
        "        elif action == 1:\n",
        "            self.agent_pos[0] -= -1\n",
        "        elif action == 2:\n",
        "            self.agent_pos[1] += 1\n",
        "        elif action == 3:\n",
        "            self.agent_pos[1] -= 1\n",
        "    \n",
        "    #Define the clipping boundary\n",
        "        self.agent_pos = np.clip(self.agent_pos, 0, 3)\n",
        "        self.agent_pos = np.clip(self.agent_pos, 0, 3)\n",
        "        self.state = np.zeros((4,4))\n",
        "        self.state[tuple(self.agent_pos)] = 1\n",
        "        self.state[tuple(self.goal_pos)] = 0.5\n",
        "        observation = self.state.flatten()\n",
        "\n",
        "        reward = 0\n",
        "        if (self.agent_pos == self.goal_pos).all():\n",
        "            reward = 1\n",
        "        elif (self.agent_pos == self.inter_pos).all():\n",
        "            reward =+2\n",
        "        elif (self.agent_pos == self.inter_pos2).all():\n",
        "            reward=-0.5\n",
        "        self.timestep += 1\n",
        "        done = True if self.timestep >= self.max_timesteps else False\n",
        "        status = {}\n",
        "        return observation, reward, done, status\n",
        "    \n",
        "    def getValidActions(self):\n",
        "        actionAvailable = self.possibleAction(self.agent_pos)\n",
        "        stateAvailable = self.getAllFinalPosition(actionAvailable)\n",
        "        finalaction, finalstate = self.getStateActionPair(actionAvailable, stateAvailable)\n",
        "        return finalaction\n",
        "\n",
        "    def possible_actions(self, pos):\n",
        "        possible_actions = [0,1,2,3]\n",
        "        \n",
        "        changed_sa=[]\n",
        "        most_common_act=None\n",
        "        new_possible_actions=possible_actions.copy()\n",
        "\n",
        "        if pos[1]==0: \n",
        "          changed_sa.append(1)\n",
        "          new_possible_actions.remove(3)\n",
        "        if pos[1]==self.cols-1:\n",
        "            changed_sa.append(1)\n",
        "            new_possible_actions.remove(1)\n",
        "        if pos[0]==0:\n",
        "            new_possible_actions.remove(0)\n",
        "            changed_sa.append(0)\n",
        "        if pos[0]==self.rows-1:\n",
        "            changed_sa.append(0)\n",
        "            new_possible_actions.remove(2)\n",
        "        if pos[0]==self.rows-1 and pos[1]==self.cols-1:\n",
        "            self.done = True\n",
        "        \n",
        "        import collections\n",
        "        counter=collections.Counter(changed_sa)\n",
        "        \n",
        "        most_common_act=counter.values()\n",
        "        freq= counter()\n",
        "        return new_possible_actions\n",
        "\n",
        "    def getFinalPosAfterAction(self, action):\n",
        "        nextState = self.agent_pos.copy()\n",
        "        if action == 0:\n",
        "            nextState[0] -=1\n",
        "        elif action == 1:\n",
        "            nextState[1] +=1\n",
        "        elif action == 2:\n",
        "            nextState[0] +=1\n",
        "        elif action == 3:\n",
        "            nextState[1] -=1\n",
        "\n",
        "        if nextState[0]<0:\n",
        "            nextState[0] = 0\n",
        "        elif nextState[1]<0:\n",
        "            nextState[1] = 0\n",
        "        elif nextState[0]>=self.rows:\n",
        "            nextState[0] = self.rows-1\n",
        "        elif nextState[1]>=self.cols:\n",
        "            nextState[1] = self.cols-1\n",
        "\n",
        "        return nextState\n",
        "\n",
        "    def getReward(self,pos):\n",
        "        if tuple(pos) not in self.rewardStates:\n",
        "            return -0.2\n",
        "        else:\n",
        "            return self.reward[tuple(pos)]\n",
        "\n",
        "    def getStateActionPair(self, possibleAction, possibleStates):\n",
        "        action = -1\n",
        "        state = [-1,-1]\n",
        "        #Random Epsilon\n",
        "        if np.random.uniform(0,1) <= self.epsilon:\n",
        "            action, state, _, _ = self.greedy_Action(possibleAction, possibleStates)\n",
        "            remainingActions, remainingStates = [], []\n",
        "            for i in possibleAction:\n",
        "                if i!=action:\n",
        "                    remainingActions.append(i)\n",
        "            for i in possibleStates:\n",
        "                if not (i[0]==state[0] and i[1]==state[1]):\n",
        "                    remainingStates.append(i)\n",
        "            action = random.choice(remainingActions)\n",
        "            state = remainingStates[remainingActions.index(action)]\n",
        "        else:\n",
        "            action, state, _, _ = self.greedy_Action(possibleAction, possibleStates)\n",
        "        return action, state\n",
        "\n",
        "    def greedy_Action(self,possibleActions, possibleStates):\n",
        "        currentMax = None\n",
        "        fstate = None\n",
        "        faction = None\n",
        "        qValues = None\n",
        "        for action,state in zip(possibleActions, possibleStates):\n",
        "            if state[0] == self.rows-1 or state[1] == self.cols-1:\n",
        "                return action, state,0, 0 \n",
        "            if currentMax == None:\n",
        "                currentMax= self.qTable[tuple(self.agent_pos)][action]\n",
        "                fstate = state\n",
        "                faction = action\n",
        "                qValues = self.qTable[tuple(self.agent_pos)]\n",
        "            elif currentMax != None:\n",
        "                max1 = self.qTable[tuple(self.agent_pos)][action]\n",
        "                if max1 > currentMax:\n",
        "                    currentMax = max1\n",
        "                    fstate = state\n",
        "                    faction = action\n",
        "                    qValues = self.qTable[tuple(self.agent_pos)]\n",
        "        return faction, fstate, currentMax, qValues\n",
        "\n",
        "\n",
        "    def finQValuesSarsa(self):\n",
        "        self.eventRecord.reverse()\n",
        "        for i in range(len(self.eventRecord)-1):\n",
        "            # QValue = Old_QValue + alpha * (CurrentReward + gamma * max(previousStateQValues) - Old_QValue)\n",
        "            oldQvalue = self.qTable[tuple(self.eventRecord[i+1][0])][self.eventRecord[i][1]]\n",
        "            allStates = [i[0] for i in self.eventRecord]\n",
        "            actionChain = self.possibleAction(allStates)\n",
        "            if not self.done:\n",
        "                statesChain = self.getAllFinalPosition(actionChain, self.eventRecord[i][0])\n",
        "                actionSelected, stateSelected = self.getStateActionPair(actionChain, statesChain)\n",
        "                self.qTable[tuple(self.eventRecord[i+1][0])][self.eventRecord[i][1]] = oldQvalue + self.alpha * (self.eventRecord[i][2] + self.gamma * max(self.qTable[tuple(stateSelected)][actionSelected]) - oldQvalue)\n",
        "            \n",
        "            self.qTable[tuple(self.eventRecord[i+1][0])][self.eventRecord[i][1]] = oldQvalue + self.alpha * (self.eventRecord[i][2] - oldQvalue)\n",
        "\n",
        "    def trainSarsa(self):\n",
        "        self.rewardPerEpisode = []\n",
        "        self.epsilonValues = [self.epsilon]\n",
        "        episode = 0\n",
        "        episodes = []\n",
        "        for i in range(self.episodes):\n",
        "            self.timestamp = 0\n",
        "            self.done = False\n",
        "            self.reset()\n",
        "            while not self.done:\n",
        "                observation, reward, self.done, _ = self.step(self.getValidActions())\n",
        "                if self.done:\n",
        "                    self.rewardPerEpisode.append(reward)\n",
        "            self.finQValuesSarsa()\n",
        "            if self.epsilon>0:\n",
        "                self.epsilon -=self.epsilon*self.epsilonDecay\n",
        "            self.epsilonValues.append(self.epsilon)\n",
        "    \n",
        "    def test(self):\n",
        "        self.rewardPerEpisode = []\n",
        "        self.epsilonValues = [self.epsilon]\n",
        "        episode = 0\n",
        "        episodes = []\n",
        "        for i in range(100):\n",
        "            self.timestamp = 0\n",
        "            self.done = False\n",
        "            self.reset()\n",
        "            while not self.done:\n",
        "                actionAvailable = self.possibleAction(self.agent_pos)\n",
        "                stateAvailable = self.getAllFinalPosition(actionAvailable)\n",
        "                faction, fstate, currentMax, qValues =  self.greedy_Action(actionAvailable, stateAvailable)\n",
        "                observation, reward, self.done, _ = self.step(faction)\n",
        "                if self.done:\n",
        "                    self.rewardPerEpisode.append(reward)\n",
        "            self.finQValuesSarsa()\n",
        "            if self.epsilon>0:\n",
        "                self.epsilon -=self.epsilon*self.epsilonDecay\n",
        "            self.epsilonValues.append(self.epsilon)"
      ],
      "metadata": {
        "id": "Y9wTz_v3HSON"
      },
      "execution_count": null,
      "outputs": []
    },
    {
      "cell_type": "markdown",
      "source": [
        "# Vizualising results "
      ],
      "metadata": {
        "id": "mtg9SflKrYgo"
      }
    },
    {
      "cell_type": "code",
      "source": [
        "\n",
        "number_of_episodes=[10,100,500,1000]\n",
        "ep=0.9\n",
        "epsilonDecay=0.01\n",
        "epsilon_val=[]\n",
        "for i in range(1000):\n",
        "    epsilon_val.append(ep)\n",
        "    ep=(ep*(1-epsilonDecay))\n",
        "plt.plot(epsilon_val)\n",
        "plt.title(\"Epsilon Decay for 100 episodes with inital value 0.9 and decay rate 0.01\")\n",
        "plt.show()\n",
        "\n",
        "for episodes in number_of_episodes:\n",
        "    rewardDetSarsa = []\n",
        "\n",
        "    qLearningEnv = GridEnvironment(gamma = 0.99, epsilon = 0.9 , epsilonDecay=0.01 , alpha=0.5, episodes = episodes, maxTimesteps=15)\n",
        "    qLearningEnv.trainSarsa()\n",
        "    rewardDetSarsa = qLearningEnv.rewardPerEpisode\n",
        "\n",
        "    plt.plot(rewardDetSarsa,label=\"Sarsa\", color = \"red\")\n",
        "    plt.legend(loc='best')\n",
        "    plt.title(\"Using Sarsa with  number of Episodes as: {}\".format(episodes))\n",
        "    plt.ylabel(\"Reward\")\n",
        "    plt.xlabel(\"Episodes\")\n",
        "    plt.show()\n",
        "\n",
        "print(epsilon_val)\n",
        "\n",
        "\n"
      ],
      "metadata": {
        "colab": {
          "base_uri": "https://localhost:8080/",
          "height": 1000
        },
        "id": "Y2sZPxP_Hq25",
        "outputId": "28e178d4-b1d8-4745-c7d5-cd4beaf6eb25"
      },
      "execution_count": null,
      "outputs": [
        {
          "output_type": "display_data",
          "data": {
            "text/plain": [
              "<Figure size 432x288 with 1 Axes>"
            ],
            "image/png": "[encoded data removed]"
          },
          "metadata": {
            "needs_background": "light"
          }
        },
        {
          "output_type": "display_data",
          "data": {
            "text/plain": [
              "<Figure size 432x288 with 1 Axes>"
            ],
            "image/png": "[encoded data removed]"
          },
          "metadata": {
            "needs_background": "light"
          }
        },
        {
          "output_type": "display_data",
          "data": {
            "text/plain": [
              "<Figure size 432x288 with 1 Axes>"
            ],
            "image/png": "[encoded data removed]"
          },
          "metadata": {
            "needs_background": "light"
          }
        },
        {
          "output_type": "display_data",
          "data": {
            "text/plain": [
              "<Figure size 432x288 with 1 Axes>"
            ],
            "image/png": "[encoded data removed]"
          },
          "metadata": {
            "needs_background": "light"
          }
        },
        {
          "output_type": "display_data",
          "data": {
            "text/plain": [
              "<Figure size 432x288 with 1 Axes>"
            ],
            "image/png": "[encoded data removed]"
          },
          "metadata": {
            "needs_background": "light"
          }
        },
        {
          "output_type": "stream",
          "name": "stdout",
          "text": [
            "[0.9, 0.891, 0.88209, 0.8732691, 0.8645364090000001, 0.85589104491, 0.8473321344609, 0.8388588131162911, 0.8304702249851281, 0.8221655227352769, 0.8139438675079241, 0.8058044288328449, 0.7977463845445164, 0.7897689206990712, 0.7818712314920805, 0.7740525191771597, 0.7663119939853881, 0.7586488740455342, 0.7510623853050789, 0.7435517614520281, 0.7361162438375077, 0.7287550813991327, 0.7214675305851413, 0.7142528552792899, 0.707110326726497, 0.700039223459232, 0.6930388312246396, 0.6861084429123933, 0.6792473584832693, 0.6724548848984366, 0.6657303360494523, 0.6590730326889578, 0.6524823023620682, 0.6459574793384475, 0.6394979045450631, 0.6331029254996124, 0.6267718962446163, 0.6205041772821701, 0.6142991355093484, 0.608156144154255, 0.6020745827127124, 0.5960538368855853, 0.5900932985167294, 0.5841923655315622, 0.5783504418762465, 0.572566937457484, 0.5668412680829091, 0.5611728554020801, 0.5555611268480593, 0.5500055155795787, 0.5445054604237829, 0.5390604058195451, 0.5336698017613496, 0.5283331037437361, 0.5230497727062987, 0.5178192749792357, 0.5126410822294434, 0.5075146714071489, 0.5024395246930774, 0.49741512944614663, 0.49244097815168514, 0.48751656837016827, 0.4826414026864666, 0.4778149886596019, 0.4730368387730059, 0.46830647038527584, 0.4636234056814231, 0.45898717162460884, 0.45439729990836275, 0.4498533269092791, 0.4453547936401863, 0.4409012457037845, 0.43649223324674663, 0.43212731091427914, 0.4278060378051363, 0.423527977427085, 0.41929269765281413, 0.415099770676286, 0.41094877296952315, 0.40683928523982793, 0.40277089238742964, 0.39874318346355536, 0.3947557516289198, 0.39080819411263057, 0.3869001121715043, 0.3830311110497892, 0.3792007999392913, 0.37540879193989835, 0.3716547040204994, 0.36793815698029436, 0.3642587754104914, 0.3606161876563865, 0.3570100257798226, 0.35343992552202436, 0.3499055262668041, 0.3464064710041361, 0.3429424062940947, 0.3395129822311538, 0.33611785240884223, 0.33275667388475383, 0.3294291071459063, 0.3261348160744472, 0.32287346791370275, 0.3196447332345657, 0.3164482859022201, 0.31328380304319786, 0.3101509650127659, 0.3070494553626382, 0.3039789608090118, 0.30093917120092173, 0.2979297794889125, 0.2949504816940234, 0.29200097687708315, 0.2890809671083123, 0.2861901574372292, 0.2833282558628569, 0.28049497330422835, 0.27769002357118605, 0.2749131233354742, 0.27216399210211945, 0.26944235218109824, 0.26674792865928726, 0.26408044937269437, 0.2614396448789674, 0.25882524843017773, 0.25623699594587596, 0.2536746259864172, 0.25113787972655305, 0.2486265009292875, 0.24614023591999462, 0.24367883356079467, 0.24124204522518672, 0.23882962477293485, 0.2364413285252055, 0.23407691523995344, 0.2317361460875539, 0.22941878462667836, 0.22712459678041158, 0.22485335081260746, 0.2226048173044814, 0.22037876913143659, 0.2181749814401222, 0.21599323162572098, 0.21383329930946376, 0.21169496631636914, 0.20957801665320544, 0.20748223648667338, 0.20540741412180666, 0.20335333998058858, 0.2013198065807827, 0.19930660851497486, 0.1973135424298251, 0.19534040700552685, 0.1933870029354716, 0.19145313290611687, 0.1895386015770557, 0.18764321556128516, 0.1857667834056723, 0.18390911557161557, 0.18207002441589942, 0.18024932417174042, 0.178446830930023, 0.17666236262072277, 0.17489573899451555, 0.1731467816045704, 0.17141531378852468, 0.16970116065063942, 0.16800414904413302, 0.1663241075536917, 0.16466086647815478, 0.16301425781337323, 0.1613841152352395, 0.1597702740828871, 0.15817257134205823, 0.15659084562863765, 0.15502493717235127, 0.15347468780062776, 0.15193994092262147, 0.15042054151339526, 0.1489163360982613, 0.14742717273727868, 0.14595290100990588, 0.14449337199980683, 0.14304843827980876, 0.14161795389701068, 0.14020177435804057, 0.13879975661446017, 0.13741175904831557, 0.1360376414578324, 0.13467726504325409, 0.13333049239282155, 0.13199718746889333, 0.1306772155942044, 0.12937044343826234, 0.12807673900387972, 0.12679597161384093, 0.12552801189770252, 0.1242727317787255, 0.12303000446093824, 0.12179970441632886, 0.12058170737216556, 0.1193758902984439, 0.11818213139545947, 0.11700031008150487, 0.11583030698068982, 0.11467200391088292, 0.11352528387177409, 0.11239003103305635, 0.11126613072272579, 0.11015346941549853, 0.10905193472134354, 0.1079614153741301, 0.1068818012203888, 0.10581298320818491, 0.10475485337610306, 0.10370730484234203, 0.10267023179391861, 0.10164352947597942, 0.10062709418121962, 0.09962082323940742, 0.09862461500701335, 0.09763836885694321, 0.09666198516837378, 0.09569536531669004, 0.09473841166352313, 0.0937910275468879, 0.09285311727141901, 0.09192458609870482, 0.09100534023771778, 0.0900952868353406, 0.08919433396698719, 0.08830239062731732, 0.08741936672104414, 0.08654517305383369, 0.08567972132329535, 0.0848229241100624, 0.08397469486896177, 0.08313494792027215, 0.08230359844106942, 0.08148056245665873, 0.08066575683209214, 0.07985909926377122, 0.0790605082711335, 0.07826990318842217, 0.07748720415653794, 0.07671233211497255, 0.07594520879382283, 0.0751857567058846, 0.07443389913882574, 0.07368956014743748, 0.07295266454596311, 0.07222313790050347, 0.07150090652149843, 0.07078589745628344, 0.0700780384817206, 0.0693772580969034, 0.06868348551593437, 0.06799665066077502, 0.06731668415416728, 0.0666435173126256, 0.06597708213949935, 0.06531731131810435, 0.06466413820492331, 0.06401749682287408, 0.06337732185464534, 0.06274354863609889, 0.0621161131497379, 0.061494952018240526, 0.06088000249805812, 0.06027120247307754, 0.05966849044834676, 0.05907180554386329, 0.058481087488424656, 0.05789627661354041, 0.057317313847405, 0.056744140708930954, 0.056176699301841646, 0.05561493230882323, 0.055058782985734994, 0.054508195155877646, 0.05396311320431887, 0.05342348207227568, 0.052889247251552925, 0.052360354779037395, 0.05183675123124702, 0.05131838371893455, 0.05080519988174521, 0.05029714788292775, 0.04979417640409847, 0.04929623464005749, 0.04880327229365691, 0.04831523957072034, 0.04783208717501314, 0.047353766303263004, 0.04688022864023037, 0.04641142635382807, 0.04594731209028979, 0.045487838969386886, 0.04503296057969302, 0.04458263097389609, 0.04413680466415713, 0.04369543661751556, 0.0432584822513404, 0.042825897428826996, 0.04239763845453873, 0.04197366206999334, 0.04155392544929341, 0.04113838619480047, 0.040727002332852466, 0.04031973230952394, 0.0399165349864287, 0.03951736963656441, 0.039122195940198765, 0.03873097398079678, 0.03834366424098881, 0.03796022759857892, 0.03758062532259313, 0.0372048190693672, 0.03683277087867353, 0.0364644431698868, 0.03609979873818793, 0.03573880075080605, 0.03538141274329799, 0.035027598615865005, 0.03467732262970635, 0.03433054940340929, 0.033987243909375194, 0.03364737147028144, 0.033310897755578626, 0.03297778877802284, 0.032648010890242614, 0.03232153078134019, 0.03199831547352679, 0.03167833231879152, 0.0313615489956036, 0.031047933505647565, 0.03073745417059109, 0.03043007962888518, 0.030125778832596328, 0.029824521044270365, 0.02952627583382766, 0.029231013075489382, 0.02893870294473449, 0.028649315915287143, 0.028362822756134273, 0.02807919452857293, 0.0277984025832872, 0.027520418557454327, 0.027245214371879784, 0.026972762228160987, 0.02670303460587938, 0.026436004259820584, 0.02617164421722238, 0.025909927775050155, 0.025650828497299653, 0.025394320212326658, 0.025140377010203392, 0.024888973240101357, 0.024640083507700344, 0.02439368267262334, 0.024149745845897106, 0.023908248387438134, 0.02366916590356375, 0.02343247424452811, 0.02319814950208283, 0.022966168007062002, 0.022736506326991382, 0.022509141263721468, 0.022284049851084252, 0.02206120935257341, 0.021840597259047675, 0.021622191286457197, 0.021405969373592626, 0.0211919096798567, 0.020979990583058133, 0.020770190677227553, 0.020562488770455276, 0.020356863882750723, 0.020153295243923217, 0.019951762291483984, 0.019752244668569143, 0.019554722221883453, 0.01935917499966462, 0.01916558324966797, 0.018973927417171292, 0.018784188142999578, 0.01859634626156958, 0.018410382798953885, 0.018226278970964346, 0.018044016181254702, 0.017863576019442155, 0.017684940259247734, 0.017508090856655258, 0.017333009948088705, 0.017159679848607817, 0.016988083050121738, 0.01681820221962052, 0.016650020197424314, 0.01648351999545007, 0.016318684795495572, 0.016155497947540617, 0.015993942968065212, 0.01583400353838456, 0.015675663503000713, 0.015518906867970706, 0.015363717799290999, 0.015210080621298088, 0.015057979815085108, 0.014907400016934257, 0.014758326016764915, 0.014610742756597265, 0.014464635329031292, 0.014319988975740978, 0.014176789085983568, 0.014035021195123731, 0.013894670983172494, 0.013755724273340769, 0.01361816703060736, 0.013481985360301287, 0.013347165506698275, 0.013213693851631292, 0.013081556913114979, 0.01295074134398383, 0.01282123393054399, 0.01269302159123855, 0.012566091375326164, 0.012440430461572902, 0.012316026156957174, 0.012192865895387602, 0.012070937236433725, 0.011950227864069388, 0.011830725585428694, 0.011712418329574406, 0.011595294146278662, 0.011479341204815875, 0.011364547792767715, 0.011250902314840038, 0.011138393291691638, 0.01102700935877472, 0.010916739265186973, 0.010807571872535103, 0.010699496153809752, 0.010592501192271654, 0.010486576180348938, 0.010381710418545449, 0.010277893314359994, 0.010175114381216394, 0.01007336323740423, 0.009972629605030188, 0.009872903308979886, 0.009774174275890087, 0.009676432533131185, 0.009579668207799874, 0.009483871525721875, 0.009389032810464656, 0.009295142482360009, 0.009202191057536408, 0.009110169146961044, 0.009019067455491433, 0.008928876780936519, 0.008839588013127155, 0.008751192132995883, 0.008663680211665924, 0.008577043409549266, 0.008491272975453773, 0.008406360245699235, 0.008322296643242242, 0.00823907367680982, 0.008156682940041722, 0.008075116110641304, 0.00799436494953489, 0.007914421300039541, 0.007835277087039147, 0.007756924316168755, 0.007679355073007068, 0.0076025615222769976, 0.007526535907054228, 0.007451270547983686, 0.007376757842503849, 0.0073029902640788106, 0.007229960361438022, 0.007157660757823642, 0.007086084150245406, 0.0070152233087429515, 0.0069450710756555215, 0.006875620364898966, 0.006806864161249976, 0.006738795519637476, 0.006671407564441101, 0.006604693488796691, 0.006538646553908724, 0.006473260088369637, 0.00640852748748594, 0.006344442212611081, 0.00628099779048497, 0.00621818781258012, 0.0061560059344543195, 0.006094445875109776, 0.006033501416358678, 0.005973166402195091, 0.00591343473817314, 0.0058543003907914086, 0.005795757386883494, 0.005737799813014659, 0.005680421814884512, 0.005623617596735667, 0.0055673814207683105, 0.0055117076065606275, 0.005456590530495021, 0.005402024625190071, 0.00534800437893817, 0.005294524335148788, 0.0052415790917973, 0.005189163300879328, 0.005137271667870535, 0.0050858989511918294, 0.005035039961679911, 0.004984689562063112, 0.00493484266644248, 0.004885494239778056, 0.004836639297380275, 0.004788272904406472, 0.0047403901753624075, 0.004692986273608784, 0.004646056410872696, 0.004599595846763969, 0.00455359988829633, 0.004508063889413366, 0.004462983250519232, 0.00441835341801404, 0.004374169883833899, 0.00433042818499556, 0.004287123903145605, 0.004244252664114149, 0.004201810137473007, 0.004159792036098277, 0.004118194115737294, 0.004077012174579921, 0.004036242052834122, 0.0039958796323057814, 0.003955920835982724, 0.0039163616276228965, 0.0038771980113466676, 0.0038384260312332007, 0.003800041770920869, 0.0037620413532116603, 0.003724420939679544, 0.0036871767302827482, 0.0036503049629799207, 0.0036138019133501215, 0.00357766389421662, 0.003541887255274454, 0.0035064683827217094, 0.0034714036988944923, 0.0034366896619055474, 0.003402322765286492, 0.003368299537633627, 0.0033346165422572906, 0.0033012703768347178, 0.0032682576730663705, 0.003235575096335707, 0.00320321934537235, 0.0031711871519186263, 0.00313947528039944, 0.0031080805275954452, 0.0030769997223194906, 0.0030462297250962956, 0.0030157674278453324, 0.002985609753566879, 0.0029557536560312105, 0.0029261961194708983, 0.0028969341582761893, 0.0028679648166934275, 0.002839285168526493, 0.0028108923168412283, 0.002782783393672816, 0.002754955559736088, 0.002727406004138727, 0.00270013194409734, 0.0026731306246563667, 0.002646399318409803, 0.002619935325225705, 0.002593735971973448, 0.0025677986122537135, 0.002542120626131176, 0.0025166994198698644, 0.0024915324256711657, 0.002466617101414454, 0.0024419509304003093, 0.0024175314210963064, 0.002393356106885343, 0.0023694225458164896, 0.0023457283203583246, 0.0023222710371547414, 0.002299048326783194, 0.002276057843515362, 0.0022532972650802082, 0.0022307642924294063, 0.002208456649505112, 0.002186372083010061, 0.0021645083621799604, 0.002142863278558161, 0.0021214346457725792, 0.0021002202993148536, 0.002079218096321705, 0.002058425915358488, 0.002037841656204903, 0.002017463239642854, 0.0019972886072464253, 0.001977315721173961, 0.0019575425639622216, 0.0019379671383225993, 0.0019185874669393733, 0.0018994015922699796, 0.0018804075763472798, 0.001861603500583807, 0.001842987465577969, 0.001824557590922189, 0.0018063120150129672, 0.0017882488948628376, 0.0017703664059142091, 0.001752662741855067, 0.0017351361144365164, 0.0017177847532921513, 0.0017006069057592297, 0.0016836008367016374, 0.001666764828334621, 0.0016500971800512748, 0.001633596208250762, 0.0016172602461682545, 0.001601087643706572, 0.0015850767672695061, 0.001569225999596811, 0.0015535337396008428, 0.0015379984022048344, 0.001522618418182786, 0.0015073922340009581, 0.0014923183116609484, 0.0014773951285443389, 0.0014626211772588954, 0.0014479949654863063, 0.0014335150158314432, 0.0014191798656731287, 0.0014049880670163974, 0.0013909381863462336, 0.0013770288044827712, 0.0013632585164379434, 0.001349625931273564, 0.0013361296719608285, 0.0013227683752412202, 0.001309540691488808, 0.0012964452845739198, 0.0012834808317281805, 0.0012706460234108987, 0.0012579395631767897, 0.0012453601675450217, 0.0012329065658695714, 0.0012205775002108758, 0.001208371725208767, 0.0011962880079566791, 0.0011843251278771123, 0.0011724818765983412, 0.0011607570578323577, 0.0011491494872540341, 0.0011376579923814939, 0.001126281412457679, 0.0011150185983331022, 0.0011038684123497711, 0.0010928297282262734, 0.0010819014309440106, 0.0010710824166345705, 0.0010603715924682247, 0.0010497678765435425, 0.001039270197778107, 0.0010288774958003258, 0.0010185887208423224, 0.0010084028336338991, 0.0009983188052975602, 0.0009883356172445846, 0.0009784522610721386, 0.0009686677384614172, 0.000958981061076803, 0.000949391250466035, 0.0009398973379613747, 0.0009304983645817609, 0.0009211933809359433, 0.0009119814471265839, 0.000902861632655318, 0.0008938330163287649, 0.0008848946861654772, 0.0008760457393038224, 0.0008672852819107841, 0.0008586124290916763, 0.0008500263048007595, 0.000841526041752752, 0.0008331107813352245, 0.0008247796735218723, 0.0008165318767866535, 0.0008083665580187869, 0.0008002828924385991, 0.0007922800635142131, 0.000784357262879071, 0.0007765136902502803, 0.0007687485533477774, 0.0007610610678142996, 0.0007534504571361565, 0.0007459159525647949, 0.000738456793039147, 0.0007310722251087556, 0.000723761502857668, 0.0007165238878290913, 0.0007093586489508004, 0.0007022650624612924, 0.0006952424118366794, 0.0006882899877183127, 0.0006814070878411295, 0.0006745930169627183, 0.0006678470867930911, 0.0006611686159251602, 0.0006545569297659086, 0.0006480113604682495, 0.000641531246863567, 0.0006351159343949313, 0.000628764775050982, 0.0006224771273004722, 0.0006162523560274675, 0.0006100898324671928, 0.0006039889341425209, 0.0005979490448010956, 0.0005919695543530846, 0.0005860498588095538, 0.0005801893602214583, 0.0005743874666192437, 0.0005686435919530512, 0.0005629571560335207, 0.0005573275844731855, 0.0005517543086284536, 0.0005462367655421691, 0.0005407743978867475, 0.00053536665390788, 0.0005300129873688011, 0.0005247128574951131, 0.000519465728920162, 0.0005142710716309603, 0.0005091283609146508, 0.0005040370773055043, 0.0004989967065324492, 0.0004940067394671248, 0.0004890666720724535, 0.00048417600535172894, 0.00047933424529821164, 0.00047454090284522953, 0.00046979549381677725, 0.00046509753887860947, 0.00046044656348982337, 0.00045584209785492515, 0.0004512836768763759, 0.0004467708401076121, 0.000442303131706536, 0.00043788010038947064, 0.00043350129938557594, 0.00042916628639172016, 0.00042487462352780296, 0.0004206258772925249, 0.00041641961851959965, 0.00041225542233440366, 0.0004081328681110596, 0.000404051539429949, 0.00040001102403564953, 0.00039601091379529304, 0.0003920508046573401, 0.0003881302966107667, 0.000384248993644659, 0.0003804065037082124, 0.0003766024386711303, 0.00037283641428441903, 0.00036910805014157486, 0.0003654169696401591, 0.0003617627999437575, 0.00035814517194431993, 0.0003545637202248767, 0.0003510180830226279, 0.0003475079021924016, 0.0003440328231704776, 0.0003405924949387728, 0.00033718656998938507, 0.00033381470428949124, 0.0003304765572465963, 0.00032717179167413035, 0.00032390007375738904, 0.00032066107301981515, 0.000317454462289617, 0.0003142799176667208, 0.0003111371184900536, 0.00030802574730515305, 0.0003049454898321015, 0.0003018960349337805, 0.0002988770745844427, 0.0002958883038385983, 0.0002929294208002123, 0.0002900001265922102, 0.00028710012532628807, 0.0002842291240730252, 0.00028138683283229494, 0.000278572964503972, 0.00027578723485893226, 0.0002730293625103429, 0.00027029906888523947, 0.0002675960781963871, 0.0002649201174144232, 0.00026227091624027895, 0.0002596482070778762, 0.00025705172500709744, 0.00025448120775702646, 0.0002519363956794562, 0.0002494170317226616, 0.000246922861405435, 0.00024445363279138065, 0.00024200909646346683, 0.00023958900549883217, 0.00023719311544384385, 0.0002348211842894054, 0.00023247297244651134, 0.00023014824272204622, 0.00022784676029482574, 0.00022556829269187748, 0.0002233126097649587, 0.00022107948366730911, 0.00021886868883063602, 0.00021668000194232967, 0.00021451320192290637, 0.0002123680699036773, 0.00021024438920464052, 0.0002081419453125941, 0.00020606052585946816, 0.00020399992060087348, 0.00020195992139486474, 0.0001999403221809161, 0.00019794091895910694, 0.00019596150976951585, 0.0001940018946718207, 0.00019206187572510248, 0.00019014125696785144, 0.00018823984439817292, 0.0001863574459541912, 0.00018449387149464927, 0.00018264893277970278, 0.00018082244345190575, 0.00017901421901738668, 0.00017722407682721283, 0.0001754518360589407, 0.00017369731769835127, 0.00017196034452136776, 0.00017024074107615408, 0.00016853833366539255, 0.00016685295032873863, 0.00016518442082545125, 0.00016353257661719673, 0.00016189725085102475, 0.0001602782783425145, 0.00015867549555908936, 0.00015708874060349847, 0.00015551785319746348, 0.00015396267466548884, 0.00015242304791883394, 0.0001508988174396456, 0.00014938982926524915, 0.00014789593097259667, 0.0001464169716628707, 0.000144952801946242, 0.00014350327392677957, 0.00014206824118751177, 0.00014064755877563667, 0.0001392410831878803, 0.00013784867235600148, 0.00013647018563244147, 0.00013510548377611704, 0.00013375442893835587, 0.00013241688464897232, 0.0001310927158024826, 0.00012978178864445777, 0.00012848397075801318, 0.00012719913105043305, 0.0001259271397399287, 0.0001246678683425294, 0.00012342118965910412, 0.00012218697776251308, 0.00012096510798488795, 0.00011975545690503907, 0.00011855790233598868, 0.0001173723233126288, 0.00011619860007950251, 0.0001150366140787075, 0.00011388624793792043, 0.00011274738545854122, 0.0001116199116039558, 0.00011050371248791625, 0.00010939867536303709, 0.00010830468860940672, 0.00010722164172331265, 0.00010614942530607953, 0.00010508793105301873, 0.00010403705174248854, 0.00010299668122506365, 0.00010196671441281301, 0.00010094704726868488, 9.993757679599802e-05, 9.893820102803804e-05, 9.794881901775766e-05, 9.696933082758008e-05, 9.599963751930427e-05, 9.503964114411123e-05, 9.408924473267011e-05, 9.31483522853434e-05, 9.221686876248997e-05, 9.129470007486506e-05, 9.038175307411641e-05, 8.947793554337524e-05, 8.858315618794149e-05, 8.769732462606207e-05, 8.682035137980145e-05, 8.595214786600344e-05, 8.50926263873434e-05, 8.424170012346998e-05, 8.339928312223527e-05, 8.256529029101291e-05, 8.173963738810279e-05, 8.092224101422176e-05, 8.011301860407954e-05, 7.931188841803873e-05, 7.851876953385834e-05, 7.773358183851976e-05, 7.695624602013456e-05, 7.618668355993322e-05, 7.542481672433389e-05, 7.467056855709056e-05, 7.392386287151965e-05, 7.318462424280446e-05, 7.24527780003764e-05, 7.172825022037264e-05, 7.10109677181689e-05, 7.030085804098721e-05, 6.959784946057734e-05, 6.890187096597157e-05, 6.821285225631186e-05, 6.753072373374874e-05, 6.685541649641125e-05, 6.618686233144714e-05, 6.552499370813267e-05, 6.486974377105135e-05, 6.422104633334083e-05, 6.357883587000743e-05, 6.294304751130734e-05, 6.231361703619427e-05, 6.169048086583233e-05, 6.107357605717401e-05, 6.046284029660227e-05, 5.9858211893636245e-05, 5.925962977469988e-05, 5.8667033476952885e-05, 5.8080363142183356e-05, 5.749955951076152e-05, 5.6924563915653904e-05, 5.6355318276497366e-05, 5.579176509373239e-05, 5.523384744279507e-05, 5.4681508968367114e-05, 5.413469387868344e-05, 5.3593346939896605e-05, 5.305741347049764e-05, 5.252683933579266e-05, 5.2001570942434734e-05, 5.1481555233010384e-05, 5.096673968068028e-05, 5.0457072283873475e-05, 4.995250156103474e-05, 4.945297654542439e-05, 4.895844677997015e-05, 4.846886231217045e-05, 4.7984173689048746e-05, 4.750433195215826e-05, 4.702928863263667e-05, 4.655899574631031e-05, 4.609340578884721e-05, 4.563247173095873e-05, 4.517614701364914e-05, 4.472438554351265e-05, 4.427714168807752e-05, 4.383437027119675e-05, 4.339602656848478e-05, 4.2962066302799933e-05, 4.2532445639771936e-05, 4.2107121183374216e-05, 4.1686049971540476e-05, 4.126918947182507e-05, 4.085649757710682e-05, 4.044793260133575e-05, 4.004345327532239e-05, 3.964301874256916e-05, 3.924658855514347e-05]\n"
          ]
        }
      ]
    },
    {
      "cell_type": "markdown",
      "source": [
        "Hyperparameter Tuning and Bonus Not Attempted"
      ],
      "metadata": {
        "id": "W-XSVNDv9cCj"
      }
    },
    {
      "cell_type": "markdown",
      "source": [
        "References\n",
        "\n",
        "\n",
        "1.https://ikvibhav.medium.com/open-aigym-simple-sarsa-and-q-learning-reinforcement-learning-implementations-7d5ea6f1ff9\n",
        "2.https://www.cse.unsw.edu.au/~cs9417ml/RL1/algorithms.html\n",
        "3.https://en.wikipedia.org/wiki/State%E2%80%93action%E2%80%93reward%E2%80%93state%E2%80%93action\n",
        "4.Reinforcement Learning Project and assignment https://github.com/namantejaswi/Reinforcement_Learning_HW\n"
      ],
      "metadata": {
        "id": "GaOlYIawrjKz"
      }
    }
  ],
  "metadata": {
    "colab": {
      "collapsed_sections": [],
      "name": "ML_Assignment_4.ipynb",
      "provenance": []
    },
    "kernelspec": {
      "display_name": "Python 3",
      "name": "python3"
    },
    "language_info": {
      "name": "python"
    }
  },
  "nbformat": 4,
  "nbformat_minor": 0
}