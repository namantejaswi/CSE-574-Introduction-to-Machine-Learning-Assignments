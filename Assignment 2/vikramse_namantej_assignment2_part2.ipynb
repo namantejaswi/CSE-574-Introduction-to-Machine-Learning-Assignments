{
  "nbformat": 4,
  "nbformat_minor": 0,
  "metadata": {
    "colab": {
      "name": "vikramse_namantej_assignment2_part2.ipynb",
      "provenance": [],
      "collapsed_sections": []
    },
    "kernelspec": {
      "name": "python3",
      "display_name": "Python 3"
    },
    "language_info": {
      "name": "python"
    }
  },
  "cells": [
    {
      "cell_type": "code",
      "source": [
        "'''\n",
        "\"I (We) certify that the code and data in this assignment were generated independently,\n",
        "using only the tools and resources defined in the course and that I (we) did not receive\n",
        "any external help, coaching or contributions during the production of this work.\"\n",
        "'''"
      ],
      "metadata": {
        "id": "-5T5x9gG-zte",
        "colab": {
          "base_uri": "https://localhost:8080/",
          "height": 53
        },
        "outputId": "5a65c41f-eca8-47d4-c942-6bbbc2c3c2e4"
      },
      "execution_count": null,
      "outputs": [
        {
          "output_type": "execute_result",
          "data": {
            "text/plain": [
              "'\\n\"I (We) certify that the code and data in this assignment were generated independently,\\nusing only the tools and resources defined in the course and that I (we) did not receive\\nany external help, coaching or contributions during the production of this work.\"\\n'"
            ],
            "application/vnd.google.colaboratory.intrinsic+json": {
              "type": "string"
            }
          },
          "metadata": {},
          "execution_count": 490
        }
      ]
    },
    {
      "cell_type": "code",
      "execution_count": null,
      "metadata": {
        "id": "e79ZBiAU_z5f"
      },
      "outputs": [],
      "source": [
        "import pandas as pd\n",
        "import numpy as np\n",
        "import matplotlib.pyplot as plt\n",
        "import math"
      ]
    },
    {
      "cell_type": "code",
      "source": [
        "!pwd  #Present Working Director\n"
      ],
      "metadata": {
        "colab": {
          "base_uri": "https://localhost:8080/"
        },
        "id": "DmxBNRyLEwS4",
        "outputId": "fe49b39f-ad46-4402-c270-91b798541927"
      },
      "execution_count": null,
      "outputs": [
        {
          "output_type": "stream",
          "name": "stdout",
          "text": [
            "/content\n"
          ]
        }
      ]
    },
    {
      "cell_type": "code",
      "source": [
        "from google.colab import drive\n",
        "drive.mount(\"/content/drive\")\n"
      ],
      "metadata": {
        "colab": {
          "base_uri": "https://localhost:8080/"
        },
        "id": "QFFaLmvrFs8u",
        "outputId": "e9508478-ff38-4d52-f31f-26e534d44159"
      },
      "execution_count": null,
      "outputs": [
        {
          "output_type": "stream",
          "name": "stdout",
          "text": [
            "Mounted at /content/drive\n"
          ]
        }
      ]
    },
    {
      "cell_type": "code",
      "source": [
        "\n",
        "%cd ..\n",
        "%cd /content/drive/MyDrive\n",
        "\n"
      ],
      "metadata": {
        "colab": {
          "base_uri": "https://localhost:8080/"
        },
        "id": "TF92_UkiGqwR",
        "outputId": "3be57f18-2056-4ae5-b65f-1e2f5827a7e6"
      },
      "execution_count": null,
      "outputs": [
        {
          "output_type": "stream",
          "name": "stdout",
          "text": [
            "/\n",
            "/content/drive/MyDrive\n"
          ]
        }
      ]
    },
    {
      "cell_type": "code",
      "source": [
        "df=pd.read_csv(\"penguins.csv\")\n",
        "df.head()"
      ],
      "metadata": {
        "colab": {
          "base_uri": "https://localhost:8080/",
          "height": 206
        },
        "id": "xYZN_EP1I6Q8",
        "outputId": "517e833d-dd97-4783-8636-aedde549b7b8"
      },
      "execution_count": null,
      "outputs": [
        {
          "output_type": "execute_result",
          "data": {
            "text/plain": [
              "  species     island  bill_length_mm  bill_depth_mm  flipper_length_mm  \\\n",
              "0  Adelie  Torgersen            39.1           18.7              181.0   \n",
              "1  Adelie  Torgersen            39.5           17.4              186.0   \n",
              "2  Adelie  Torgersen            40.3           18.0              195.0   \n",
              "3  Adelie  Torgersen             NaN            NaN                NaN   \n",
              "4  Adelie  Torgersen            36.7           19.3              193.0   \n",
              "\n",
              "   body_mass_g     sex  year  \n",
              "0       3750.0    male  2007  \n",
              "1       3800.0  female  2007  \n",
              "2       3250.0  female  2007  \n",
              "3          NaN     NaN  2007  \n",
              "4       3450.0  female  2007  "
            ],
            "text/html": [
              "\n",
              "  <div id=\"df-54dc060b-934c-491d-8715-17b69e1f2036\">\n",
              "    <div class=\"colab-df-container\">\n",
              "      <div>\n",
              "<style scoped>\n",
              "    .dataframe tbody tr th:only-of-type {\n",
              "        vertical-align: middle;\n",
              "    }\n",
              "\n",
              "    .dataframe tbody tr th {\n",
              "        vertical-align: top;\n",
              "    }\n",
              "\n",
              "    .dataframe thead th {\n",
              "        text-align: right;\n",
              "    }\n",
              "</style>\n",
              "<table border=\"1\" class=\"dataframe\">\n",
              "  <thead>\n",
              "    <tr style=\"text-align: right;\">\n",
              "      <th></th>\n",
              "      <th>species</th>\n",
              "      <th>island</th>\n",
              "      <th>bill_length_mm</th>\n",
              "      <th>bill_depth_mm</th>\n",
              "      <th>flipper_length_mm</th>\n",
              "      <th>body_mass_g</th>\n",
              "      <th>sex</th>\n",
              "      <th>year</th>\n",
              "    </tr>\n",
              "  </thead>\n",
              "  <tbody>\n",
              "    <tr>\n",
              "      <th>0</th>\n",
              "      <td>Adelie</td>\n",
              "      <td>Torgersen</td>\n",
              "      <td>39.1</td>\n",
              "      <td>18.7</td>\n",
              "      <td>181.0</td>\n",
              "      <td>3750.0</td>\n",
              "      <td>male</td>\n",
              "      <td>2007</td>\n",
              "    </tr>\n",
              "    <tr>\n",
              "      <th>1</th>\n",
              "      <td>Adelie</td>\n",
              "      <td>Torgersen</td>\n",
              "      <td>39.5</td>\n",
              "      <td>17.4</td>\n",
              "      <td>186.0</td>\n",
              "      <td>3800.0</td>\n",
              "      <td>female</td>\n",
              "      <td>2007</td>\n",
              "    </tr>\n",
              "    <tr>\n",
              "      <th>2</th>\n",
              "      <td>Adelie</td>\n",
              "      <td>Torgersen</td>\n",
              "      <td>40.3</td>\n",
              "      <td>18.0</td>\n",
              "      <td>195.0</td>\n",
              "      <td>3250.0</td>\n",
              "      <td>female</td>\n",
              "      <td>2007</td>\n",
              "    </tr>\n",
              "    <tr>\n",
              "      <th>3</th>\n",
              "      <td>Adelie</td>\n",
              "      <td>Torgersen</td>\n",
              "      <td>NaN</td>\n",
              "      <td>NaN</td>\n",
              "      <td>NaN</td>\n",
              "      <td>NaN</td>\n",
              "      <td>NaN</td>\n",
              "      <td>2007</td>\n",
              "    </tr>\n",
              "    <tr>\n",
              "      <th>4</th>\n",
              "      <td>Adelie</td>\n",
              "      <td>Torgersen</td>\n",
              "      <td>36.7</td>\n",
              "      <td>19.3</td>\n",
              "      <td>193.0</td>\n",
              "      <td>3450.0</td>\n",
              "      <td>female</td>\n",
              "      <td>2007</td>\n",
              "    </tr>\n",
              "  </tbody>\n",
              "</table>\n",
              "</div>\n",
              "      <button class=\"colab-df-convert\" onclick=\"convertToInteractive('df-54dc060b-934c-491d-8715-17b69e1f2036')\"\n",
              "              title=\"Convert this dataframe to an interactive table.\"\n",
              "              style=\"display:none;\">\n",
              "        \n",
              "  <svg xmlns=\"http://www.w3.org/2000/svg\" height=\"24px\"viewBox=\"0 0 24 24\"\n",
              "       width=\"24px\">\n",
              "    <path d=\"M0 0h24v24H0V0z\" fill=\"none\"/>\n",
              "    <path d=\"M18.56 5.44l.94 2.06.94-2.06 2.06-.94-2.06-.94-.94-2.06-.94 2.06-2.06.94zm-11 1L8.5 8.5l.94-2.06 2.06-.94-2.06-.94L8.5 2.5l-.94 2.06-2.06.94zm10 10l.94 2.06.94-2.06 2.06-.94-2.06-.94-.94-2.06-.94 2.06-2.06.94z\"/><path d=\"M17.41 7.96l-1.37-1.37c-.4-.4-.92-.59-1.43-.59-.52 0-1.04.2-1.43.59L10.3 9.45l-7.72 7.72c-.78.78-.78 2.05 0 2.83L4 21.41c.39.39.9.59 1.41.59.51 0 1.02-.2 1.41-.59l7.78-7.78 2.81-2.81c.8-.78.8-2.07 0-2.86zM5.41 20L4 18.59l7.72-7.72 1.47 1.35L5.41 20z\"/>\n",
              "  </svg>\n",
              "      </button>\n",
              "      \n",
              "  <style>\n",
              "    .colab-df-container {\n",
              "      display:flex;\n",
              "      flex-wrap:wrap;\n",
              "      gap: 12px;\n",
              "    }\n",
              "\n",
              "    .colab-df-convert {\n",
              "      background-color: #E8F0FE;\n",
              "      border: none;\n",
              "      border-radius: 50%;\n",
              "      cursor: pointer;\n",
              "      display: none;\n",
              "      fill: #1967D2;\n",
              "      height: 32px;\n",
              "      padding: 0 0 0 0;\n",
              "      width: 32px;\n",
              "    }\n",
              "\n",
              "    .colab-df-convert:hover {\n",
              "      background-color: #E2EBFA;\n",
              "      box-shadow: 0px 1px 2px rgba(60, 64, 67, 0.3), 0px 1px 3px 1px rgba(60, 64, 67, 0.15);\n",
              "      fill: #174EA6;\n",
              "    }\n",
              "\n",
              "    [theme=dark] .colab-df-convert {\n",
              "      background-color: #3B4455;\n",
              "      fill: #D2E3FC;\n",
              "    }\n",
              "\n",
              "    [theme=dark] .colab-df-convert:hover {\n",
              "      background-color: #434B5C;\n",
              "      box-shadow: 0px 1px 3px 1px rgba(0, 0, 0, 0.15);\n",
              "      filter: drop-shadow(0px 1px 2px rgba(0, 0, 0, 0.3));\n",
              "      fill: #FFFFFF;\n",
              "    }\n",
              "  </style>\n",
              "\n",
              "      <script>\n",
              "        const buttonEl =\n",
              "          document.querySelector('#df-54dc060b-934c-491d-8715-17b69e1f2036 button.colab-df-convert');\n",
              "        buttonEl.style.display =\n",
              "          google.colab.kernel.accessAllowed ? 'block' : 'none';\n",
              "\n",
              "        async function convertToInteractive(key) {\n",
              "          const element = document.querySelector('#df-54dc060b-934c-491d-8715-17b69e1f2036');\n",
              "          const dataTable =\n",
              "            await google.colab.kernel.invokeFunction('convertToInteractive',\n",
              "                                                     [key], {});\n",
              "          if (!dataTable) return;\n",
              "\n",
              "          const docLinkHtml = 'Like what you see? Visit the ' +\n",
              "            '<a target=\"_blank\" href=https://colab.research.google.com/notebooks/data_table.ipynb>data table notebook</a>'\n",
              "            + ' to learn more about interactive tables.';\n",
              "          element.innerHTML = '';\n",
              "          dataTable['output_type'] = 'display_data';\n",
              "          await google.colab.output.renderOutput(dataTable, element);\n",
              "          const docLink = document.createElement('div');\n",
              "          docLink.innerHTML = docLinkHtml;\n",
              "          element.appendChild(docLink);\n",
              "        }\n",
              "      </script>\n",
              "    </div>\n",
              "  </div>\n",
              "  "
            ]
          },
          "metadata": {},
          "execution_count": 5
        }
      ]
    },
    {
      "cell_type": "code",
      "source": [
        "df.shape"
      ],
      "metadata": {
        "colab": {
          "base_uri": "https://localhost:8080/"
        },
        "id": "VroUByzdJKOC",
        "outputId": "c5dd01a9-3ac6-454b-ab6f-e892d8edc65f"
      },
      "execution_count": null,
      "outputs": [
        {
          "output_type": "execute_result",
          "data": {
            "text/plain": [
              "(344, 8)"
            ]
          },
          "metadata": {},
          "execution_count": 496
        }
      ]
    },
    {
      "cell_type": "code",
      "source": [
        "df.describe()"
      ],
      "metadata": {
        "colab": {
          "base_uri": "https://localhost:8080/",
          "height": 300
        },
        "id": "lEtQ2wE3JQFq",
        "outputId": "38478cae-4b76-44fd-a640-c315c720c7d2"
      },
      "execution_count": null,
      "outputs": [
        {
          "output_type": "execute_result",
          "data": {
            "text/plain": [
              "       bill_length_mm  bill_depth_mm  flipper_length_mm  body_mass_g  \\\n",
              "count      342.000000     342.000000         342.000000   342.000000   \n",
              "mean        43.921930      17.151170         200.915205  4201.754386   \n",
              "std          5.459584       1.974793          14.061714   801.954536   \n",
              "min         32.100000      13.100000         172.000000  2700.000000   \n",
              "25%         39.225000      15.600000         190.000000  3550.000000   \n",
              "50%         44.450000      17.300000         197.000000  4050.000000   \n",
              "75%         48.500000      18.700000         213.000000  4750.000000   \n",
              "max         59.600000      21.500000         231.000000  6300.000000   \n",
              "\n",
              "              year  \n",
              "count   344.000000  \n",
              "mean   2008.029070  \n",
              "std       0.818356  \n",
              "min    2007.000000  \n",
              "25%    2007.000000  \n",
              "50%    2008.000000  \n",
              "75%    2009.000000  \n",
              "max    2009.000000  "
            ],
            "text/html": [
              "\n",
              "  <div id=\"df-ca358991-496f-4353-989c-0cb82854bb6b\">\n",
              "    <div class=\"colab-df-container\">\n",
              "      <div>\n",
              "<style scoped>\n",
              "    .dataframe tbody tr th:only-of-type {\n",
              "        vertical-align: middle;\n",
              "    }\n",
              "\n",
              "    .dataframe tbody tr th {\n",
              "        vertical-align: top;\n",
              "    }\n",
              "\n",
              "    .dataframe thead th {\n",
              "        text-align: right;\n",
              "    }\n",
              "</style>\n",
              "<table border=\"1\" class=\"dataframe\">\n",
              "  <thead>\n",
              "    <tr style=\"text-align: right;\">\n",
              "      <th></th>\n",
              "      <th>bill_length_mm</th>\n",
              "      <th>bill_depth_mm</th>\n",
              "      <th>flipper_length_mm</th>\n",
              "      <th>body_mass_g</th>\n",
              "      <th>year</th>\n",
              "    </tr>\n",
              "  </thead>\n",
              "  <tbody>\n",
              "    <tr>\n",
              "      <th>count</th>\n",
              "      <td>342.000000</td>\n",
              "      <td>342.000000</td>\n",
              "      <td>342.000000</td>\n",
              "      <td>342.000000</td>\n",
              "      <td>344.000000</td>\n",
              "    </tr>\n",
              "    <tr>\n",
              "      <th>mean</th>\n",
              "      <td>43.921930</td>\n",
              "      <td>17.151170</td>\n",
              "      <td>200.915205</td>\n",
              "      <td>4201.754386</td>\n",
              "      <td>2008.029070</td>\n",
              "    </tr>\n",
              "    <tr>\n",
              "      <th>std</th>\n",
              "      <td>5.459584</td>\n",
              "      <td>1.974793</td>\n",
              "      <td>14.061714</td>\n",
              "      <td>801.954536</td>\n",
              "      <td>0.818356</td>\n",
              "    </tr>\n",
              "    <tr>\n",
              "      <th>min</th>\n",
              "      <td>32.100000</td>\n",
              "      <td>13.100000</td>\n",
              "      <td>172.000000</td>\n",
              "      <td>2700.000000</td>\n",
              "      <td>2007.000000</td>\n",
              "    </tr>\n",
              "    <tr>\n",
              "      <th>25%</th>\n",
              "      <td>39.225000</td>\n",
              "      <td>15.600000</td>\n",
              "      <td>190.000000</td>\n",
              "      <td>3550.000000</td>\n",
              "      <td>2007.000000</td>\n",
              "    </tr>\n",
              "    <tr>\n",
              "      <th>50%</th>\n",
              "      <td>44.450000</td>\n",
              "      <td>17.300000</td>\n",
              "      <td>197.000000</td>\n",
              "      <td>4050.000000</td>\n",
              "      <td>2008.000000</td>\n",
              "    </tr>\n",
              "    <tr>\n",
              "      <th>75%</th>\n",
              "      <td>48.500000</td>\n",
              "      <td>18.700000</td>\n",
              "      <td>213.000000</td>\n",
              "      <td>4750.000000</td>\n",
              "      <td>2009.000000</td>\n",
              "    </tr>\n",
              "    <tr>\n",
              "      <th>max</th>\n",
              "      <td>59.600000</td>\n",
              "      <td>21.500000</td>\n",
              "      <td>231.000000</td>\n",
              "      <td>6300.000000</td>\n",
              "      <td>2009.000000</td>\n",
              "    </tr>\n",
              "  </tbody>\n",
              "</table>\n",
              "</div>\n",
              "      <button class=\"colab-df-convert\" onclick=\"convertToInteractive('df-ca358991-496f-4353-989c-0cb82854bb6b')\"\n",
              "              title=\"Convert this dataframe to an interactive table.\"\n",
              "              style=\"display:none;\">\n",
              "        \n",
              "  <svg xmlns=\"http://www.w3.org/2000/svg\" height=\"24px\"viewBox=\"0 0 24 24\"\n",
              "       width=\"24px\">\n",
              "    <path d=\"M0 0h24v24H0V0z\" fill=\"none\"/>\n",
              "    <path d=\"M18.56 5.44l.94 2.06.94-2.06 2.06-.94-2.06-.94-.94-2.06-.94 2.06-2.06.94zm-11 1L8.5 8.5l.94-2.06 2.06-.94-2.06-.94L8.5 2.5l-.94 2.06-2.06.94zm10 10l.94 2.06.94-2.06 2.06-.94-2.06-.94-.94-2.06-.94 2.06-2.06.94z\"/><path d=\"M17.41 7.96l-1.37-1.37c-.4-.4-.92-.59-1.43-.59-.52 0-1.04.2-1.43.59L10.3 9.45l-7.72 7.72c-.78.78-.78 2.05 0 2.83L4 21.41c.39.39.9.59 1.41.59.51 0 1.02-.2 1.41-.59l7.78-7.78 2.81-2.81c.8-.78.8-2.07 0-2.86zM5.41 20L4 18.59l7.72-7.72 1.47 1.35L5.41 20z\"/>\n",
              "  </svg>\n",
              "      </button>\n",
              "      \n",
              "  <style>\n",
              "    .colab-df-container {\n",
              "      display:flex;\n",
              "      flex-wrap:wrap;\n",
              "      gap: 12px;\n",
              "    }\n",
              "\n",
              "    .colab-df-convert {\n",
              "      background-color: #E8F0FE;\n",
              "      border: none;\n",
              "      border-radius: 50%;\n",
              "      cursor: pointer;\n",
              "      display: none;\n",
              "      fill: #1967D2;\n",
              "      height: 32px;\n",
              "      padding: 0 0 0 0;\n",
              "      width: 32px;\n",
              "    }\n",
              "\n",
              "    .colab-df-convert:hover {\n",
              "      background-color: #E2EBFA;\n",
              "      box-shadow: 0px 1px 2px rgba(60, 64, 67, 0.3), 0px 1px 3px 1px rgba(60, 64, 67, 0.15);\n",
              "      fill: #174EA6;\n",
              "    }\n",
              "\n",
              "    [theme=dark] .colab-df-convert {\n",
              "      background-color: #3B4455;\n",
              "      fill: #D2E3FC;\n",
              "    }\n",
              "\n",
              "    [theme=dark] .colab-df-convert:hover {\n",
              "      background-color: #434B5C;\n",
              "      box-shadow: 0px 1px 3px 1px rgba(0, 0, 0, 0.15);\n",
              "      filter: drop-shadow(0px 1px 2px rgba(0, 0, 0, 0.3));\n",
              "      fill: #FFFFFF;\n",
              "    }\n",
              "  </style>\n",
              "\n",
              "      <script>\n",
              "        const buttonEl =\n",
              "          document.querySelector('#df-ca358991-496f-4353-989c-0cb82854bb6b button.colab-df-convert');\n",
              "        buttonEl.style.display =\n",
              "          google.colab.kernel.accessAllowed ? 'block' : 'none';\n",
              "\n",
              "        async function convertToInteractive(key) {\n",
              "          const element = document.querySelector('#df-ca358991-496f-4353-989c-0cb82854bb6b');\n",
              "          const dataTable =\n",
              "            await google.colab.kernel.invokeFunction('convertToInteractive',\n",
              "                                                     [key], {});\n",
              "          if (!dataTable) return;\n",
              "\n",
              "          const docLinkHtml = 'Like what you see? Visit the ' +\n",
              "            '<a target=\"_blank\" href=https://colab.research.google.com/notebooks/data_table.ipynb>data table notebook</a>'\n",
              "            + ' to learn more about interactive tables.';\n",
              "          element.innerHTML = '';\n",
              "          dataTable['output_type'] = 'display_data';\n",
              "          await google.colab.output.renderOutput(dataTable, element);\n",
              "          const docLink = document.createElement('div');\n",
              "          docLink.innerHTML = docLinkHtml;\n",
              "          element.appendChild(docLink);\n",
              "        }\n",
              "      </script>\n",
              "    </div>\n",
              "  </div>\n",
              "  "
            ]
          },
          "metadata": {},
          "execution_count": 6
        }
      ]
    },
    {
      "cell_type": "code",
      "source": [
        "df.columns\n"
      ],
      "metadata": {
        "colab": {
          "base_uri": "https://localhost:8080/"
        },
        "id": "WOiBYAd9JTx-",
        "outputId": "17a0a366-933e-4466-d7c3-50afbd3c41ab"
      },
      "execution_count": null,
      "outputs": [
        {
          "output_type": "execute_result",
          "data": {
            "text/plain": [
              "Index(['species', 'island', 'bill_length_mm', 'bill_depth_mm',\n",
              "       'flipper_length_mm', 'body_mass_g', 'sex', 'year'],\n",
              "      dtype='object')"
            ]
          },
          "metadata": {},
          "execution_count": 7
        }
      ]
    },
    {
      "cell_type": "code",
      "source": [
        "df.info()"
      ],
      "metadata": {
        "colab": {
          "base_uri": "https://localhost:8080/"
        },
        "id": "T6qUKs0XLTeR",
        "outputId": "25ea22be-3f29-4f41-fb64-b1d5dadfe204"
      },
      "execution_count": null,
      "outputs": [
        {
          "output_type": "stream",
          "name": "stdout",
          "text": [
            "<class 'pandas.core.frame.DataFrame'>\n",
            "RangeIndex: 344 entries, 0 to 343\n",
            "Data columns (total 8 columns):\n",
            " #   Column             Non-Null Count  Dtype  \n",
            "---  ------             --------------  -----  \n",
            " 0   species            344 non-null    object \n",
            " 1   island             344 non-null    object \n",
            " 2   bill_length_mm     342 non-null    float64\n",
            " 3   bill_depth_mm      342 non-null    float64\n",
            " 4   flipper_length_mm  342 non-null    float64\n",
            " 5   body_mass_g        342 non-null    float64\n",
            " 6   sex                333 non-null    object \n",
            " 7   year               344 non-null    int64  \n",
            "dtypes: float64(4), int64(1), object(3)\n",
            "memory usage: 21.6+ KB\n"
          ]
        }
      ]
    },
    {
      "cell_type": "code",
      "source": [
        "df.dtypes"
      ],
      "metadata": {
        "colab": {
          "base_uri": "https://localhost:8080/"
        },
        "id": "5UA79gTYLhNn",
        "outputId": "a5776c19-3920-46a8-b217-eb953d54b8b6"
      },
      "execution_count": null,
      "outputs": [
        {
          "output_type": "execute_result",
          "data": {
            "text/plain": [
              "species               object\n",
              "island                object\n",
              "bill_length_mm       float64\n",
              "bill_depth_mm        float64\n",
              "flipper_length_mm    float64\n",
              "body_mass_g          float64\n",
              "sex                   object\n",
              "year                   int64\n",
              "dtype: object"
            ]
          },
          "metadata": {},
          "execution_count": 9
        }
      ]
    },
    {
      "cell_type": "code",
      "source": [
        "\n",
        "n_species=(df['species'].value_counts())\n",
        "print(n_species)"
      ],
      "metadata": {
        "colab": {
          "base_uri": "https://localhost:8080/"
        },
        "id": "VMbPbbjyNX_0",
        "outputId": "ebd326ec-1fc0-48db-85fc-d5cb41c48532"
      },
      "execution_count": null,
      "outputs": [
        {
          "output_type": "stream",
          "name": "stdout",
          "text": [
            "Adelie       152\n",
            "Gentoo       124\n",
            "Chinstrap     68\n",
            "Name: species, dtype: int64\n"
          ]
        }
      ]
    },
    {
      "cell_type": "code",
      "source": [
        "n_islands=df['island'].value_counts()\n",
        "print(n_islands)"
      ],
      "metadata": {
        "colab": {
          "base_uri": "https://localhost:8080/"
        },
        "id": "qLBvn4Gi9gTg",
        "outputId": "09982a81-427e-43d2-e20a-93be11bca161"
      },
      "execution_count": null,
      "outputs": [
        {
          "output_type": "stream",
          "name": "stdout",
          "text": [
            "Biscoe       168\n",
            "Dream        124\n",
            "Torgersen     52\n",
            "Name: island, dtype: int64\n"
          ]
        }
      ]
    },
    {
      "cell_type": "markdown",
      "source": [
        "# The feilds species, islands and sex need to be mapped to numeric values\n",
        "## We use 0 for female and 1 for male\n",
        "## we use 1 for the species Adelie, 2 for the species Gentoo and 3 for the species Chinstrap\n",
        "## We use 1 for Biscoe 2 for Dream and 3 for Torgersen\n",
        "\n"
      ],
      "metadata": {
        "id": "cRy1zFVXMPOp"
      }
    },
    {
      "cell_type": "code",
      "source": [
        "df['sex'].replace(['female','male'],[0,1],inplace=True)\n",
        "df['species'].replace(['Adeloe','Gento','chinstrap'],[1,2,3],inplace=True)\n",
        "df['island'].replace(['Biscoe','Dream','Torgersen'],[1,2,3],inplace=True)\n",
        "df.head()"
      ],
      "metadata": {
        "colab": {
          "base_uri": "https://localhost:8080/",
          "height": 206
        },
        "id": "00NKifbQ992H",
        "outputId": "043f4c76-a845-442b-f354-b1c224cf74b2"
      },
      "execution_count": null,
      "outputs": [
        {
          "output_type": "execute_result",
          "data": {
            "text/plain": [
              "  species  island  bill_length_mm  bill_depth_mm  flipper_length_mm  \\\n",
              "0  Adelie       3            39.1           18.7              181.0   \n",
              "1  Adelie       3            39.5           17.4              186.0   \n",
              "2  Adelie       3            40.3           18.0              195.0   \n",
              "3  Adelie       3             NaN            NaN                NaN   \n",
              "4  Adelie       3            36.7           19.3              193.0   \n",
              "\n",
              "   body_mass_g  sex  year  \n",
              "0       3750.0  1.0  2007  \n",
              "1       3800.0  0.0  2007  \n",
              "2       3250.0  0.0  2007  \n",
              "3          NaN  NaN  2007  \n",
              "4       3450.0  0.0  2007  "
            ],
            "text/html": [
              "\n",
              "  <div id=\"df-0e5a2371-0f18-4abf-8dee-210ed19b0029\">\n",
              "    <div class=\"colab-df-container\">\n",
              "      <div>\n",
              "<style scoped>\n",
              "    .dataframe tbody tr th:only-of-type {\n",
              "        vertical-align: middle;\n",
              "    }\n",
              "\n",
              "    .dataframe tbody tr th {\n",
              "        vertical-align: top;\n",
              "    }\n",
              "\n",
              "    .dataframe thead th {\n",
              "        text-align: right;\n",
              "    }\n",
              "</style>\n",
              "<table border=\"1\" class=\"dataframe\">\n",
              "  <thead>\n",
              "    <tr style=\"text-align: right;\">\n",
              "      <th></th>\n",
              "      <th>species</th>\n",
              "      <th>island</th>\n",
              "      <th>bill_length_mm</th>\n",
              "      <th>bill_depth_mm</th>\n",
              "      <th>flipper_length_mm</th>\n",
              "      <th>body_mass_g</th>\n",
              "      <th>sex</th>\n",
              "      <th>year</th>\n",
              "    </tr>\n",
              "  </thead>\n",
              "  <tbody>\n",
              "    <tr>\n",
              "      <th>0</th>\n",
              "      <td>Adelie</td>\n",
              "      <td>3</td>\n",
              "      <td>39.1</td>\n",
              "      <td>18.7</td>\n",
              "      <td>181.0</td>\n",
              "      <td>3750.0</td>\n",
              "      <td>1.0</td>\n",
              "      <td>2007</td>\n",
              "    </tr>\n",
              "    <tr>\n",
              "      <th>1</th>\n",
              "      <td>Adelie</td>\n",
              "      <td>3</td>\n",
              "      <td>39.5</td>\n",
              "      <td>17.4</td>\n",
              "      <td>186.0</td>\n",
              "      <td>3800.0</td>\n",
              "      <td>0.0</td>\n",
              "      <td>2007</td>\n",
              "    </tr>\n",
              "    <tr>\n",
              "      <th>2</th>\n",
              "      <td>Adelie</td>\n",
              "      <td>3</td>\n",
              "      <td>40.3</td>\n",
              "      <td>18.0</td>\n",
              "      <td>195.0</td>\n",
              "      <td>3250.0</td>\n",
              "      <td>0.0</td>\n",
              "      <td>2007</td>\n",
              "    </tr>\n",
              "    <tr>\n",
              "      <th>3</th>\n",
              "      <td>Adelie</td>\n",
              "      <td>3</td>\n",
              "      <td>NaN</td>\n",
              "      <td>NaN</td>\n",
              "      <td>NaN</td>\n",
              "      <td>NaN</td>\n",
              "      <td>NaN</td>\n",
              "      <td>2007</td>\n",
              "    </tr>\n",
              "    <tr>\n",
              "      <th>4</th>\n",
              "      <td>Adelie</td>\n",
              "      <td>3</td>\n",
              "      <td>36.7</td>\n",
              "      <td>19.3</td>\n",
              "      <td>193.0</td>\n",
              "      <td>3450.0</td>\n",
              "      <td>0.0</td>\n",
              "      <td>2007</td>\n",
              "    </tr>\n",
              "  </tbody>\n",
              "</table>\n",
              "</div>\n",
              "      <button class=\"colab-df-convert\" onclick=\"convertToInteractive('df-0e5a2371-0f18-4abf-8dee-210ed19b0029')\"\n",
              "              title=\"Convert this dataframe to an interactive table.\"\n",
              "              style=\"display:none;\">\n",
              "        \n",
              "  <svg xmlns=\"http://www.w3.org/2000/svg\" height=\"24px\"viewBox=\"0 0 24 24\"\n",
              "       width=\"24px\">\n",
              "    <path d=\"M0 0h24v24H0V0z\" fill=\"none\"/>\n",
              "    <path d=\"M18.56 5.44l.94 2.06.94-2.06 2.06-.94-2.06-.94-.94-2.06-.94 2.06-2.06.94zm-11 1L8.5 8.5l.94-2.06 2.06-.94-2.06-.94L8.5 2.5l-.94 2.06-2.06.94zm10 10l.94 2.06.94-2.06 2.06-.94-2.06-.94-.94-2.06-.94 2.06-2.06.94z\"/><path d=\"M17.41 7.96l-1.37-1.37c-.4-.4-.92-.59-1.43-.59-.52 0-1.04.2-1.43.59L10.3 9.45l-7.72 7.72c-.78.78-.78 2.05 0 2.83L4 21.41c.39.39.9.59 1.41.59.51 0 1.02-.2 1.41-.59l7.78-7.78 2.81-2.81c.8-.78.8-2.07 0-2.86zM5.41 20L4 18.59l7.72-7.72 1.47 1.35L5.41 20z\"/>\n",
              "  </svg>\n",
              "      </button>\n",
              "      \n",
              "  <style>\n",
              "    .colab-df-container {\n",
              "      display:flex;\n",
              "      flex-wrap:wrap;\n",
              "      gap: 12px;\n",
              "    }\n",
              "\n",
              "    .colab-df-convert {\n",
              "      background-color: #E8F0FE;\n",
              "      border: none;\n",
              "      border-radius: 50%;\n",
              "      cursor: pointer;\n",
              "      display: none;\n",
              "      fill: #1967D2;\n",
              "      height: 32px;\n",
              "      padding: 0 0 0 0;\n",
              "      width: 32px;\n",
              "    }\n",
              "\n",
              "    .colab-df-convert:hover {\n",
              "      background-color: #E2EBFA;\n",
              "      box-shadow: 0px 1px 2px rgba(60, 64, 67, 0.3), 0px 1px 3px 1px rgba(60, 64, 67, 0.15);\n",
              "      fill: #174EA6;\n",
              "    }\n",
              "\n",
              "    [theme=dark] .colab-df-convert {\n",
              "      background-color: #3B4455;\n",
              "      fill: #D2E3FC;\n",
              "    }\n",
              "\n",
              "    [theme=dark] .colab-df-convert:hover {\n",
              "      background-color: #434B5C;\n",
              "      box-shadow: 0px 1px 3px 1px rgba(0, 0, 0, 0.15);\n",
              "      filter: drop-shadow(0px 1px 2px rgba(0, 0, 0, 0.3));\n",
              "      fill: #FFFFFF;\n",
              "    }\n",
              "  </style>\n",
              "\n",
              "      <script>\n",
              "        const buttonEl =\n",
              "          document.querySelector('#df-0e5a2371-0f18-4abf-8dee-210ed19b0029 button.colab-df-convert');\n",
              "        buttonEl.style.display =\n",
              "          google.colab.kernel.accessAllowed ? 'block' : 'none';\n",
              "\n",
              "        async function convertToInteractive(key) {\n",
              "          const element = document.querySelector('#df-0e5a2371-0f18-4abf-8dee-210ed19b0029');\n",
              "          const dataTable =\n",
              "            await google.colab.kernel.invokeFunction('convertToInteractive',\n",
              "                                                     [key], {});\n",
              "          if (!dataTable) return;\n",
              "\n",
              "          const docLinkHtml = 'Like what you see? Visit the ' +\n",
              "            '<a target=\"_blank\" href=https://colab.research.google.com/notebooks/data_table.ipynb>data table notebook</a>'\n",
              "            + ' to learn more about interactive tables.';\n",
              "          element.innerHTML = '';\n",
              "          dataTable['output_type'] = 'display_data';\n",
              "          await google.colab.output.renderOutput(dataTable, element);\n",
              "          const docLink = document.createElement('div');\n",
              "          docLink.innerHTML = docLinkHtml;\n",
              "          element.appendChild(docLink);\n",
              "        }\n",
              "      </script>\n",
              "    </div>\n",
              "  </div>\n",
              "  "
            ]
          },
          "metadata": {},
          "execution_count": 12
        }
      ]
    },
    {
      "cell_type": "code",
      "source": [
        "df.tail()"
      ],
      "metadata": {
        "colab": {
          "base_uri": "https://localhost:8080/",
          "height": 206
        },
        "id": "h4CuqGzhB_vx",
        "outputId": "f7b9ffb2-72bf-480e-8ebd-951a6eef28a2"
      },
      "execution_count": null,
      "outputs": [
        {
          "output_type": "execute_result",
          "data": {
            "text/plain": [
              "       species  island  bill_length_mm  bill_depth_mm  flipper_length_mm  \\\n",
              "339  Chinstrap       2            55.8           19.8              207.0   \n",
              "340  Chinstrap       2            43.5           18.1              202.0   \n",
              "341  Chinstrap       2            49.6           18.2              193.0   \n",
              "342  Chinstrap       2            50.8           19.0              210.0   \n",
              "343  Chinstrap       2            50.2           18.7              198.0   \n",
              "\n",
              "     body_mass_g  sex  year  \n",
              "339       4000.0  1.0  2009  \n",
              "340       3400.0  0.0  2009  \n",
              "341       3775.0  1.0  2009  \n",
              "342       4100.0  1.0  2009  \n",
              "343       3775.0  0.0  2009  "
            ],
            "text/html": [
              "\n",
              "  <div id=\"df-1740da7b-f9d5-48c7-909a-ffcaa97c5ee5\">\n",
              "    <div class=\"colab-df-container\">\n",
              "      <div>\n",
              "<style scoped>\n",
              "    .dataframe tbody tr th:only-of-type {\n",
              "        vertical-align: middle;\n",
              "    }\n",
              "\n",
              "    .dataframe tbody tr th {\n",
              "        vertical-align: top;\n",
              "    }\n",
              "\n",
              "    .dataframe thead th {\n",
              "        text-align: right;\n",
              "    }\n",
              "</style>\n",
              "<table border=\"1\" class=\"dataframe\">\n",
              "  <thead>\n",
              "    <tr style=\"text-align: right;\">\n",
              "      <th></th>\n",
              "      <th>species</th>\n",
              "      <th>island</th>\n",
              "      <th>bill_length_mm</th>\n",
              "      <th>bill_depth_mm</th>\n",
              "      <th>flipper_length_mm</th>\n",
              "      <th>body_mass_g</th>\n",
              "      <th>sex</th>\n",
              "      <th>year</th>\n",
              "    </tr>\n",
              "  </thead>\n",
              "  <tbody>\n",
              "    <tr>\n",
              "      <th>339</th>\n",
              "      <td>Chinstrap</td>\n",
              "      <td>2</td>\n",
              "      <td>55.8</td>\n",
              "      <td>19.8</td>\n",
              "      <td>207.0</td>\n",
              "      <td>4000.0</td>\n",
              "      <td>1.0</td>\n",
              "      <td>2009</td>\n",
              "    </tr>\n",
              "    <tr>\n",
              "      <th>340</th>\n",
              "      <td>Chinstrap</td>\n",
              "      <td>2</td>\n",
              "      <td>43.5</td>\n",
              "      <td>18.1</td>\n",
              "      <td>202.0</td>\n",
              "      <td>3400.0</td>\n",
              "      <td>0.0</td>\n",
              "      <td>2009</td>\n",
              "    </tr>\n",
              "    <tr>\n",
              "      <th>341</th>\n",
              "      <td>Chinstrap</td>\n",
              "      <td>2</td>\n",
              "      <td>49.6</td>\n",
              "      <td>18.2</td>\n",
              "      <td>193.0</td>\n",
              "      <td>3775.0</td>\n",
              "      <td>1.0</td>\n",
              "      <td>2009</td>\n",
              "    </tr>\n",
              "    <tr>\n",
              "      <th>342</th>\n",
              "      <td>Chinstrap</td>\n",
              "      <td>2</td>\n",
              "      <td>50.8</td>\n",
              "      <td>19.0</td>\n",
              "      <td>210.0</td>\n",
              "      <td>4100.0</td>\n",
              "      <td>1.0</td>\n",
              "      <td>2009</td>\n",
              "    </tr>\n",
              "    <tr>\n",
              "      <th>343</th>\n",
              "      <td>Chinstrap</td>\n",
              "      <td>2</td>\n",
              "      <td>50.2</td>\n",
              "      <td>18.7</td>\n",
              "      <td>198.0</td>\n",
              "      <td>3775.0</td>\n",
              "      <td>0.0</td>\n",
              "      <td>2009</td>\n",
              "    </tr>\n",
              "  </tbody>\n",
              "</table>\n",
              "</div>\n",
              "      <button class=\"colab-df-convert\" onclick=\"convertToInteractive('df-1740da7b-f9d5-48c7-909a-ffcaa97c5ee5')\"\n",
              "              title=\"Convert this dataframe to an interactive table.\"\n",
              "              style=\"display:none;\">\n",
              "        \n",
              "  <svg xmlns=\"http://www.w3.org/2000/svg\" height=\"24px\"viewBox=\"0 0 24 24\"\n",
              "       width=\"24px\">\n",
              "    <path d=\"M0 0h24v24H0V0z\" fill=\"none\"/>\n",
              "    <path d=\"M18.56 5.44l.94 2.06.94-2.06 2.06-.94-2.06-.94-.94-2.06-.94 2.06-2.06.94zm-11 1L8.5 8.5l.94-2.06 2.06-.94-2.06-.94L8.5 2.5l-.94 2.06-2.06.94zm10 10l.94 2.06.94-2.06 2.06-.94-2.06-.94-.94-2.06-.94 2.06-2.06.94z\"/><path d=\"M17.41 7.96l-1.37-1.37c-.4-.4-.92-.59-1.43-.59-.52 0-1.04.2-1.43.59L10.3 9.45l-7.72 7.72c-.78.78-.78 2.05 0 2.83L4 21.41c.39.39.9.59 1.41.59.51 0 1.02-.2 1.41-.59l7.78-7.78 2.81-2.81c.8-.78.8-2.07 0-2.86zM5.41 20L4 18.59l7.72-7.72 1.47 1.35L5.41 20z\"/>\n",
              "  </svg>\n",
              "      </button>\n",
              "      \n",
              "  <style>\n",
              "    .colab-df-container {\n",
              "      display:flex;\n",
              "      flex-wrap:wrap;\n",
              "      gap: 12px;\n",
              "    }\n",
              "\n",
              "    .colab-df-convert {\n",
              "      background-color: #E8F0FE;\n",
              "      border: none;\n",
              "      border-radius: 50%;\n",
              "      cursor: pointer;\n",
              "      display: none;\n",
              "      fill: #1967D2;\n",
              "      height: 32px;\n",
              "      padding: 0 0 0 0;\n",
              "      width: 32px;\n",
              "    }\n",
              "\n",
              "    .colab-df-convert:hover {\n",
              "      background-color: #E2EBFA;\n",
              "      box-shadow: 0px 1px 2px rgba(60, 64, 67, 0.3), 0px 1px 3px 1px rgba(60, 64, 67, 0.15);\n",
              "      fill: #174EA6;\n",
              "    }\n",
              "\n",
              "    [theme=dark] .colab-df-convert {\n",
              "      background-color: #3B4455;\n",
              "      fill: #D2E3FC;\n",
              "    }\n",
              "\n",
              "    [theme=dark] .colab-df-convert:hover {\n",
              "      background-color: #434B5C;\n",
              "      box-shadow: 0px 1px 3px 1px rgba(0, 0, 0, 0.15);\n",
              "      filter: drop-shadow(0px 1px 2px rgba(0, 0, 0, 0.3));\n",
              "      fill: #FFFFFF;\n",
              "    }\n",
              "  </style>\n",
              "\n",
              "      <script>\n",
              "        const buttonEl =\n",
              "          document.querySelector('#df-1740da7b-f9d5-48c7-909a-ffcaa97c5ee5 button.colab-df-convert');\n",
              "        buttonEl.style.display =\n",
              "          google.colab.kernel.accessAllowed ? 'block' : 'none';\n",
              "\n",
              "        async function convertToInteractive(key) {\n",
              "          const element = document.querySelector('#df-1740da7b-f9d5-48c7-909a-ffcaa97c5ee5');\n",
              "          const dataTable =\n",
              "            await google.colab.kernel.invokeFunction('convertToInteractive',\n",
              "                                                     [key], {});\n",
              "          if (!dataTable) return;\n",
              "\n",
              "          const docLinkHtml = 'Like what you see? Visit the ' +\n",
              "            '<a target=\"_blank\" href=https://colab.research.google.com/notebooks/data_table.ipynb>data table notebook</a>'\n",
              "            + ' to learn more about interactive tables.';\n",
              "          element.innerHTML = '';\n",
              "          dataTable['output_type'] = 'display_data';\n",
              "          await google.colab.output.renderOutput(dataTable, element);\n",
              "          const docLink = document.createElement('div');\n",
              "          docLink.innerHTML = docLinkHtml;\n",
              "          element.appendChild(docLink);\n",
              "        }\n",
              "      </script>\n",
              "    </div>\n",
              "  </div>\n",
              "  "
            ]
          },
          "metadata": {},
          "execution_count": 13
        }
      ]
    },
    {
      "cell_type": "code",
      "source": [
        "df.describe()"
      ],
      "metadata": {
        "colab": {
          "base_uri": "https://localhost:8080/",
          "height": 300
        },
        "id": "T8McJGp7CTJ5",
        "outputId": "2a9e84a7-be42-430b-ae42-ba2f4875c649"
      },
      "execution_count": null,
      "outputs": [
        {
          "output_type": "execute_result",
          "data": {
            "text/plain": [
              "           island  bill_length_mm  bill_depth_mm  flipper_length_mm  \\\n",
              "count  344.000000      342.000000     342.000000         342.000000   \n",
              "mean     1.662791       43.921930      17.151170         200.915205   \n",
              "std      0.726194        5.459584       1.974793          14.061714   \n",
              "min      1.000000       32.100000      13.100000         172.000000   \n",
              "25%      1.000000       39.225000      15.600000         190.000000   \n",
              "50%      2.000000       44.450000      17.300000         197.000000   \n",
              "75%      2.000000       48.500000      18.700000         213.000000   \n",
              "max      3.000000       59.600000      21.500000         231.000000   \n",
              "\n",
              "       body_mass_g         sex         year  \n",
              "count   342.000000  333.000000   344.000000  \n",
              "mean   4201.754386    0.504505  2008.029070  \n",
              "std     801.954536    0.500732     0.818356  \n",
              "min    2700.000000    0.000000  2007.000000  \n",
              "25%    3550.000000    0.000000  2007.000000  \n",
              "50%    4050.000000    1.000000  2008.000000  \n",
              "75%    4750.000000    1.000000  2009.000000  \n",
              "max    6300.000000    1.000000  2009.000000  "
            ],
            "text/html": [
              "\n",
              "  <div id=\"df-6d3e4768-b149-485d-841e-e7a1c10bd5d4\">\n",
              "    <div class=\"colab-df-container\">\n",
              "      <div>\n",
              "<style scoped>\n",
              "    .dataframe tbody tr th:only-of-type {\n",
              "        vertical-align: middle;\n",
              "    }\n",
              "\n",
              "    .dataframe tbody tr th {\n",
              "        vertical-align: top;\n",
              "    }\n",
              "\n",
              "    .dataframe thead th {\n",
              "        text-align: right;\n",
              "    }\n",
              "</style>\n",
              "<table border=\"1\" class=\"dataframe\">\n",
              "  <thead>\n",
              "    <tr style=\"text-align: right;\">\n",
              "      <th></th>\n",
              "      <th>island</th>\n",
              "      <th>bill_length_mm</th>\n",
              "      <th>bill_depth_mm</th>\n",
              "      <th>flipper_length_mm</th>\n",
              "      <th>body_mass_g</th>\n",
              "      <th>sex</th>\n",
              "      <th>year</th>\n",
              "    </tr>\n",
              "  </thead>\n",
              "  <tbody>\n",
              "    <tr>\n",
              "      <th>count</th>\n",
              "      <td>344.000000</td>\n",
              "      <td>342.000000</td>\n",
              "      <td>342.000000</td>\n",
              "      <td>342.000000</td>\n",
              "      <td>342.000000</td>\n",
              "      <td>333.000000</td>\n",
              "      <td>344.000000</td>\n",
              "    </tr>\n",
              "    <tr>\n",
              "      <th>mean</th>\n",
              "      <td>1.662791</td>\n",
              "      <td>43.921930</td>\n",
              "      <td>17.151170</td>\n",
              "      <td>200.915205</td>\n",
              "      <td>4201.754386</td>\n",
              "      <td>0.504505</td>\n",
              "      <td>2008.029070</td>\n",
              "    </tr>\n",
              "    <tr>\n",
              "      <th>std</th>\n",
              "      <td>0.726194</td>\n",
              "      <td>5.459584</td>\n",
              "      <td>1.974793</td>\n",
              "      <td>14.061714</td>\n",
              "      <td>801.954536</td>\n",
              "      <td>0.500732</td>\n",
              "      <td>0.818356</td>\n",
              "    </tr>\n",
              "    <tr>\n",
              "      <th>min</th>\n",
              "      <td>1.000000</td>\n",
              "      <td>32.100000</td>\n",
              "      <td>13.100000</td>\n",
              "      <td>172.000000</td>\n",
              "      <td>2700.000000</td>\n",
              "      <td>0.000000</td>\n",
              "      <td>2007.000000</td>\n",
              "    </tr>\n",
              "    <tr>\n",
              "      <th>25%</th>\n",
              "      <td>1.000000</td>\n",
              "      <td>39.225000</td>\n",
              "      <td>15.600000</td>\n",
              "      <td>190.000000</td>\n",
              "      <td>3550.000000</td>\n",
              "      <td>0.000000</td>\n",
              "      <td>2007.000000</td>\n",
              "    </tr>\n",
              "    <tr>\n",
              "      <th>50%</th>\n",
              "      <td>2.000000</td>\n",
              "      <td>44.450000</td>\n",
              "      <td>17.300000</td>\n",
              "      <td>197.000000</td>\n",
              "      <td>4050.000000</td>\n",
              "      <td>1.000000</td>\n",
              "      <td>2008.000000</td>\n",
              "    </tr>\n",
              "    <tr>\n",
              "      <th>75%</th>\n",
              "      <td>2.000000</td>\n",
              "      <td>48.500000</td>\n",
              "      <td>18.700000</td>\n",
              "      <td>213.000000</td>\n",
              "      <td>4750.000000</td>\n",
              "      <td>1.000000</td>\n",
              "      <td>2009.000000</td>\n",
              "    </tr>\n",
              "    <tr>\n",
              "      <th>max</th>\n",
              "      <td>3.000000</td>\n",
              "      <td>59.600000</td>\n",
              "      <td>21.500000</td>\n",
              "      <td>231.000000</td>\n",
              "      <td>6300.000000</td>\n",
              "      <td>1.000000</td>\n",
              "      <td>2009.000000</td>\n",
              "    </tr>\n",
              "  </tbody>\n",
              "</table>\n",
              "</div>\n",
              "      <button class=\"colab-df-convert\" onclick=\"convertToInteractive('df-6d3e4768-b149-485d-841e-e7a1c10bd5d4')\"\n",
              "              title=\"Convert this dataframe to an interactive table.\"\n",
              "              style=\"display:none;\">\n",
              "        \n",
              "  <svg xmlns=\"http://www.w3.org/2000/svg\" height=\"24px\"viewBox=\"0 0 24 24\"\n",
              "       width=\"24px\">\n",
              "    <path d=\"M0 0h24v24H0V0z\" fill=\"none\"/>\n",
              "    <path d=\"M18.56 5.44l.94 2.06.94-2.06 2.06-.94-2.06-.94-.94-2.06-.94 2.06-2.06.94zm-11 1L8.5 8.5l.94-2.06 2.06-.94-2.06-.94L8.5 2.5l-.94 2.06-2.06.94zm10 10l.94 2.06.94-2.06 2.06-.94-2.06-.94-.94-2.06-.94 2.06-2.06.94z\"/><path d=\"M17.41 7.96l-1.37-1.37c-.4-.4-.92-.59-1.43-.59-.52 0-1.04.2-1.43.59L10.3 9.45l-7.72 7.72c-.78.78-.78 2.05 0 2.83L4 21.41c.39.39.9.59 1.41.59.51 0 1.02-.2 1.41-.59l7.78-7.78 2.81-2.81c.8-.78.8-2.07 0-2.86zM5.41 20L4 18.59l7.72-7.72 1.47 1.35L5.41 20z\"/>\n",
              "  </svg>\n",
              "      </button>\n",
              "      \n",
              "  <style>\n",
              "    .colab-df-container {\n",
              "      display:flex;\n",
              "      flex-wrap:wrap;\n",
              "      gap: 12px;\n",
              "    }\n",
              "\n",
              "    .colab-df-convert {\n",
              "      background-color: #E8F0FE;\n",
              "      border: none;\n",
              "      border-radius: 50%;\n",
              "      cursor: pointer;\n",
              "      display: none;\n",
              "      fill: #1967D2;\n",
              "      height: 32px;\n",
              "      padding: 0 0 0 0;\n",
              "      width: 32px;\n",
              "    }\n",
              "\n",
              "    .colab-df-convert:hover {\n",
              "      background-color: #E2EBFA;\n",
              "      box-shadow: 0px 1px 2px rgba(60, 64, 67, 0.3), 0px 1px 3px 1px rgba(60, 64, 67, 0.15);\n",
              "      fill: #174EA6;\n",
              "    }\n",
              "\n",
              "    [theme=dark] .colab-df-convert {\n",
              "      background-color: #3B4455;\n",
              "      fill: #D2E3FC;\n",
              "    }\n",
              "\n",
              "    [theme=dark] .colab-df-convert:hover {\n",
              "      background-color: #434B5C;\n",
              "      box-shadow: 0px 1px 3px 1px rgba(0, 0, 0, 0.15);\n",
              "      filter: drop-shadow(0px 1px 2px rgba(0, 0, 0, 0.3));\n",
              "      fill: #FFFFFF;\n",
              "    }\n",
              "  </style>\n",
              "\n",
              "      <script>\n",
              "        const buttonEl =\n",
              "          document.querySelector('#df-6d3e4768-b149-485d-841e-e7a1c10bd5d4 button.colab-df-convert');\n",
              "        buttonEl.style.display =\n",
              "          google.colab.kernel.accessAllowed ? 'block' : 'none';\n",
              "\n",
              "        async function convertToInteractive(key) {\n",
              "          const element = document.querySelector('#df-6d3e4768-b149-485d-841e-e7a1c10bd5d4');\n",
              "          const dataTable =\n",
              "            await google.colab.kernel.invokeFunction('convertToInteractive',\n",
              "                                                     [key], {});\n",
              "          if (!dataTable) return;\n",
              "\n",
              "          const docLinkHtml = 'Like what you see? Visit the ' +\n",
              "            '<a target=\"_blank\" href=https://colab.research.google.com/notebooks/data_table.ipynb>data table notebook</a>'\n",
              "            + ' to learn more about interactive tables.';\n",
              "          element.innerHTML = '';\n",
              "          dataTable['output_type'] = 'display_data';\n",
              "          await google.colab.output.renderOutput(dataTable, element);\n",
              "          const docLink = document.createElement('div');\n",
              "          docLink.innerHTML = docLinkHtml;\n",
              "          element.appendChild(docLink);\n",
              "        }\n",
              "      </script>\n",
              "    </div>\n",
              "  </div>\n",
              "  "
            ]
          },
          "metadata": {},
          "execution_count": 14
        }
      ]
    },
    {
      "cell_type": "markdown",
      "source": [
        "# Data Cleaning\n",
        "## Removing nan not a number values"
      ],
      "metadata": {
        "id": "AIVlz3Z5nMxW"
      }
    },
    {
      "cell_type": "code",
      "source": [
        "print(df.isnull().values.any())\n",
        "print(\"Total count of all null values\",df.isnull().sum().sum())\n"
      ],
      "metadata": {
        "colab": {
          "base_uri": "https://localhost:8080/"
        },
        "id": "yn7JOClOCWPw",
        "outputId": "e9d30101-726b-4cc8-a0dd-96731d4d5492"
      },
      "execution_count": null,
      "outputs": [
        {
          "output_type": "stream",
          "name": "stdout",
          "text": [
            "True\n",
            "Total count of all null values 19\n"
          ]
        }
      ]
    },
    {
      "cell_type": "code",
      "source": [
        "df=df.dropna()"
      ],
      "metadata": {
        "id": "qV6vbEuxmtvx"
      },
      "execution_count": null,
      "outputs": []
    },
    {
      "cell_type": "code",
      "source": [
        "print(df.isnull().values.any())\n",
        "print(\"Total count of all null values\",df.isnull().sum().sum())"
      ],
      "metadata": {
        "colab": {
          "base_uri": "https://localhost:8080/"
        },
        "id": "NMdWSDuHnBg4",
        "outputId": "d407ffe3-0788-42ba-adc0-68b01202a3b0"
      },
      "execution_count": null,
      "outputs": [
        {
          "output_type": "stream",
          "name": "stdout",
          "text": [
            "False\n",
            "Total count of all null values 0\n"
          ]
        }
      ]
    },
    {
      "cell_type": "markdown",
      "source": [
        "Normalize non-categorical features "
      ],
      "metadata": {
        "id": "TIqN3TvSn6gI"
      }
    },
    {
      "cell_type": "code",
      "source": [
        "def normalize(feature):\n",
        "  mx=df[feature].max()\n",
        "  mi=df[feature].min()\n",
        "\n",
        "\n",
        "  df[feature]=(df[feature]-mi)/(mx-mi)\n",
        "  print(\"Maximum Value of\",feature,mx,\"Minimum Value of \",feature,mi)\n"
      ],
      "metadata": {
        "id": "9NH18eCRpQIv"
      },
      "execution_count": null,
      "outputs": []
    },
    {
      "cell_type": "code",
      "source": [
        "normalize('bill_length_mm')\n",
        "normalize('bill_depth_mm')\n",
        "normalize('flipper_length_mm')\n",
        "normalize('body_mass_g')\n"
      ],
      "metadata": {
        "colab": {
          "base_uri": "https://localhost:8080/"
        },
        "id": "GGg7-zKhqWid",
        "outputId": "be70eb1a-9a49-45bd-f3c3-c2a0df3c63ec"
      },
      "execution_count": null,
      "outputs": [
        {
          "output_type": "stream",
          "name": "stdout",
          "text": [
            "Maximum Value of bill_length_mm 59.6 Minimum Value of  bill_length_mm 32.1\n",
            "Maximum Value of bill_depth_mm 21.5 Minimum Value of  bill_depth_mm 13.1\n",
            "Maximum Value of flipper_length_mm 231.0 Minimum Value of  flipper_length_mm 172.0\n",
            "Maximum Value of body_mass_g 6300.0 Minimum Value of  body_mass_g 2700.0\n"
          ]
        }
      ]
    },
    {
      "cell_type": "code",
      "source": [
        "df.describe()"
      ],
      "metadata": {
        "colab": {
          "base_uri": "https://localhost:8080/",
          "height": 300
        },
        "id": "19I-AFzBuaK1",
        "outputId": "093a2e06-359c-4162-edf9-2c2dcdfb6626"
      },
      "execution_count": null,
      "outputs": [
        {
          "output_type": "execute_result",
          "data": {
            "text/plain": [
              "           island  bill_length_mm  bill_depth_mm  flipper_length_mm  \\\n",
              "count  333.000000      333.000000     333.000000         333.000000   \n",
              "mean     1.651652        0.432465       0.483912           0.490966   \n",
              "std      0.714715        0.198861       0.234433           0.237555   \n",
              "min      1.000000        0.000000       0.000000           0.000000   \n",
              "25%      1.000000        0.269091       0.297619           0.305085   \n",
              "50%      2.000000        0.450909       0.500000           0.423729   \n",
              "75%      2.000000        0.600000       0.666667           0.694915   \n",
              "max      3.000000        1.000000       1.000000           1.000000   \n",
              "\n",
              "       body_mass_g         sex         year  \n",
              "count   333.000000  333.000000   333.000000  \n",
              "mean      0.418627    0.504505  2008.042042  \n",
              "std       0.223671    0.500732     0.812944  \n",
              "min       0.000000    0.000000  2007.000000  \n",
              "25%       0.236111    0.000000  2007.000000  \n",
              "50%       0.375000    1.000000  2008.000000  \n",
              "75%       0.576389    1.000000  2009.000000  \n",
              "max       1.000000    1.000000  2009.000000  "
            ],
            "text/html": [
              "\n",
              "  <div id=\"df-a376b7f5-65ad-4eb0-9b37-da91a245be31\">\n",
              "    <div class=\"colab-df-container\">\n",
              "      <div>\n",
              "<style scoped>\n",
              "    .dataframe tbody tr th:only-of-type {\n",
              "        vertical-align: middle;\n",
              "    }\n",
              "\n",
              "    .dataframe tbody tr th {\n",
              "        vertical-align: top;\n",
              "    }\n",
              "\n",
              "    .dataframe thead th {\n",
              "        text-align: right;\n",
              "    }\n",
              "</style>\n",
              "<table border=\"1\" class=\"dataframe\">\n",
              "  <thead>\n",
              "    <tr style=\"text-align: right;\">\n",
              "      <th></th>\n",
              "      <th>island</th>\n",
              "      <th>bill_length_mm</th>\n",
              "      <th>bill_depth_mm</th>\n",
              "      <th>flipper_length_mm</th>\n",
              "      <th>body_mass_g</th>\n",
              "      <th>sex</th>\n",
              "      <th>year</th>\n",
              "    </tr>\n",
              "  </thead>\n",
              "  <tbody>\n",
              "    <tr>\n",
              "      <th>count</th>\n",
              "      <td>333.000000</td>\n",
              "      <td>333.000000</td>\n",
              "      <td>333.000000</td>\n",
              "      <td>333.000000</td>\n",
              "      <td>333.000000</td>\n",
              "      <td>333.000000</td>\n",
              "      <td>333.000000</td>\n",
              "    </tr>\n",
              "    <tr>\n",
              "      <th>mean</th>\n",
              "      <td>1.651652</td>\n",
              "      <td>0.432465</td>\n",
              "      <td>0.483912</td>\n",
              "      <td>0.490966</td>\n",
              "      <td>0.418627</td>\n",
              "      <td>0.504505</td>\n",
              "      <td>2008.042042</td>\n",
              "    </tr>\n",
              "    <tr>\n",
              "      <th>std</th>\n",
              "      <td>0.714715</td>\n",
              "      <td>0.198861</td>\n",
              "      <td>0.234433</td>\n",
              "      <td>0.237555</td>\n",
              "      <td>0.223671</td>\n",
              "      <td>0.500732</td>\n",
              "      <td>0.812944</td>\n",
              "    </tr>\n",
              "    <tr>\n",
              "      <th>min</th>\n",
              "      <td>1.000000</td>\n",
              "      <td>0.000000</td>\n",
              "      <td>0.000000</td>\n",
              "      <td>0.000000</td>\n",
              "      <td>0.000000</td>\n",
              "      <td>0.000000</td>\n",
              "      <td>2007.000000</td>\n",
              "    </tr>\n",
              "    <tr>\n",
              "      <th>25%</th>\n",
              "      <td>1.000000</td>\n",
              "      <td>0.269091</td>\n",
              "      <td>0.297619</td>\n",
              "      <td>0.305085</td>\n",
              "      <td>0.236111</td>\n",
              "      <td>0.000000</td>\n",
              "      <td>2007.000000</td>\n",
              "    </tr>\n",
              "    <tr>\n",
              "      <th>50%</th>\n",
              "      <td>2.000000</td>\n",
              "      <td>0.450909</td>\n",
              "      <td>0.500000</td>\n",
              "      <td>0.423729</td>\n",
              "      <td>0.375000</td>\n",
              "      <td>1.000000</td>\n",
              "      <td>2008.000000</td>\n",
              "    </tr>\n",
              "    <tr>\n",
              "      <th>75%</th>\n",
              "      <td>2.000000</td>\n",
              "      <td>0.600000</td>\n",
              "      <td>0.666667</td>\n",
              "      <td>0.694915</td>\n",
              "      <td>0.576389</td>\n",
              "      <td>1.000000</td>\n",
              "      <td>2009.000000</td>\n",
              "    </tr>\n",
              "    <tr>\n",
              "      <th>max</th>\n",
              "      <td>3.000000</td>\n",
              "      <td>1.000000</td>\n",
              "      <td>1.000000</td>\n",
              "      <td>1.000000</td>\n",
              "      <td>1.000000</td>\n",
              "      <td>1.000000</td>\n",
              "      <td>2009.000000</td>\n",
              "    </tr>\n",
              "  </tbody>\n",
              "</table>\n",
              "</div>\n",
              "      <button class=\"colab-df-convert\" onclick=\"convertToInteractive('df-a376b7f5-65ad-4eb0-9b37-da91a245be31')\"\n",
              "              title=\"Convert this dataframe to an interactive table.\"\n",
              "              style=\"display:none;\">\n",
              "        \n",
              "  <svg xmlns=\"http://www.w3.org/2000/svg\" height=\"24px\"viewBox=\"0 0 24 24\"\n",
              "       width=\"24px\">\n",
              "    <path d=\"M0 0h24v24H0V0z\" fill=\"none\"/>\n",
              "    <path d=\"M18.56 5.44l.94 2.06.94-2.06 2.06-.94-2.06-.94-.94-2.06-.94 2.06-2.06.94zm-11 1L8.5 8.5l.94-2.06 2.06-.94-2.06-.94L8.5 2.5l-.94 2.06-2.06.94zm10 10l.94 2.06.94-2.06 2.06-.94-2.06-.94-.94-2.06-.94 2.06-2.06.94z\"/><path d=\"M17.41 7.96l-1.37-1.37c-.4-.4-.92-.59-1.43-.59-.52 0-1.04.2-1.43.59L10.3 9.45l-7.72 7.72c-.78.78-.78 2.05 0 2.83L4 21.41c.39.39.9.59 1.41.59.51 0 1.02-.2 1.41-.59l7.78-7.78 2.81-2.81c.8-.78.8-2.07 0-2.86zM5.41 20L4 18.59l7.72-7.72 1.47 1.35L5.41 20z\"/>\n",
              "  </svg>\n",
              "      </button>\n",
              "      \n",
              "  <style>\n",
              "    .colab-df-container {\n",
              "      display:flex;\n",
              "      flex-wrap:wrap;\n",
              "      gap: 12px;\n",
              "    }\n",
              "\n",
              "    .colab-df-convert {\n",
              "      background-color: #E8F0FE;\n",
              "      border: none;\n",
              "      border-radius: 50%;\n",
              "      cursor: pointer;\n",
              "      display: none;\n",
              "      fill: #1967D2;\n",
              "      height: 32px;\n",
              "      padding: 0 0 0 0;\n",
              "      width: 32px;\n",
              "    }\n",
              "\n",
              "    .colab-df-convert:hover {\n",
              "      background-color: #E2EBFA;\n",
              "      box-shadow: 0px 1px 2px rgba(60, 64, 67, 0.3), 0px 1px 3px 1px rgba(60, 64, 67, 0.15);\n",
              "      fill: #174EA6;\n",
              "    }\n",
              "\n",
              "    [theme=dark] .colab-df-convert {\n",
              "      background-color: #3B4455;\n",
              "      fill: #D2E3FC;\n",
              "    }\n",
              "\n",
              "    [theme=dark] .colab-df-convert:hover {\n",
              "      background-color: #434B5C;\n",
              "      box-shadow: 0px 1px 3px 1px rgba(0, 0, 0, 0.15);\n",
              "      filter: drop-shadow(0px 1px 2px rgba(0, 0, 0, 0.3));\n",
              "      fill: #FFFFFF;\n",
              "    }\n",
              "  </style>\n",
              "\n",
              "      <script>\n",
              "        const buttonEl =\n",
              "          document.querySelector('#df-a376b7f5-65ad-4eb0-9b37-da91a245be31 button.colab-df-convert');\n",
              "        buttonEl.style.display =\n",
              "          google.colab.kernel.accessAllowed ? 'block' : 'none';\n",
              "\n",
              "        async function convertToInteractive(key) {\n",
              "          const element = document.querySelector('#df-a376b7f5-65ad-4eb0-9b37-da91a245be31');\n",
              "          const dataTable =\n",
              "            await google.colab.kernel.invokeFunction('convertToInteractive',\n",
              "                                                     [key], {});\n",
              "          if (!dataTable) return;\n",
              "\n",
              "          const docLinkHtml = 'Like what you see? Visit the ' +\n",
              "            '<a target=\"_blank\" href=https://colab.research.google.com/notebooks/data_table.ipynb>data table notebook</a>'\n",
              "            + ' to learn more about interactive tables.';\n",
              "          element.innerHTML = '';\n",
              "          dataTable['output_type'] = 'display_data';\n",
              "          await google.colab.output.renderOutput(dataTable, element);\n",
              "          const docLink = document.createElement('div');\n",
              "          docLink.innerHTML = docLinkHtml;\n",
              "          element.appendChild(docLink);\n",
              "        }\n",
              "      </script>\n",
              "    </div>\n",
              "  </div>\n",
              "  "
            ]
          },
          "metadata": {},
          "execution_count": 19
        }
      ]
    },
    {
      "cell_type": "markdown",
      "source": [
        "## Target Variable Y is sex 0 or 1 i.e female or male\n",
        "## Input features bill_length_mm,\tbill_depth_mm, flipper_length_mm, body_mass_g"
      ],
      "metadata": {
        "id": "OMnFbRW1yoit"
      }
    },
    {
      "cell_type": "code",
      "source": [
        "#Output  N x 1 dim\n",
        "Y=df['sex']\n",
        "print(Y)\n",
        "print(Y.shape)"
      ],
      "metadata": {
        "colab": {
          "base_uri": "https://localhost:8080/"
        },
        "id": "sq5DSvuPwsLc",
        "outputId": "0cb63780-fb3c-4fab-b4c9-14523c71ecb9"
      },
      "execution_count": null,
      "outputs": [
        {
          "output_type": "stream",
          "name": "stdout",
          "text": [
            "0      1.0\n",
            "1      0.0\n",
            "2      0.0\n",
            "4      0.0\n",
            "5      1.0\n",
            "      ... \n",
            "339    1.0\n",
            "340    0.0\n",
            "341    1.0\n",
            "342    1.0\n",
            "343    0.0\n",
            "Name: sex, Length: 333, dtype: float64\n",
            "(333,)\n"
          ]
        }
      ]
    },
    {
      "cell_type": "code",
      "source": [
        "#Input  N x 4 dim\n",
        "\n",
        "X = pd.concat([df['bill_length_mm'], df['bill_depth_mm'],df['flipper_length_mm'],df['body_mass_g']], axis = 1)\n",
        "print(X)\n"
      ],
      "metadata": {
        "colab": {
          "base_uri": "https://localhost:8080/"
        },
        "id": "CLKIAXAa9Kw5",
        "outputId": "8bc48d11-162d-47db-882e-98014d71cd05"
      },
      "execution_count": null,
      "outputs": [
        {
          "output_type": "stream",
          "name": "stdout",
          "text": [
            "     bill_length_mm  bill_depth_mm  flipper_length_mm  body_mass_g\n",
            "0          0.254545       0.666667           0.152542     0.291667\n",
            "1          0.269091       0.511905           0.237288     0.305556\n",
            "2          0.298182       0.583333           0.389831     0.152778\n",
            "4          0.167273       0.738095           0.355932     0.208333\n",
            "5          0.261818       0.892857           0.305085     0.263889\n",
            "..              ...            ...                ...          ...\n",
            "339        0.861818       0.797619           0.593220     0.361111\n",
            "340        0.414545       0.595238           0.508475     0.194444\n",
            "341        0.636364       0.607143           0.355932     0.298611\n",
            "342        0.680000       0.702381           0.644068     0.388889\n",
            "343        0.658182       0.666667           0.440678     0.298611\n",
            "\n",
            "[333 rows x 4 columns]\n"
          ]
        }
      ]
    },
    {
      "cell_type": "markdown",
      "source": [
        "# Now we have to traing to find the weight vector W which tells us how much does each of the 4 feature contrubute to your prediction"
      ],
      "metadata": {
        "id": "99QOjAbQBLWE"
      }
    },
    {
      "cell_type": "markdown",
      "source": [
        "## y_predict = sigmoid(W^T.X + b)\n",
        " "
      ],
      "metadata": {
        "id": "R94wLzlAKmi7"
      }
    },
    {
      "cell_type": "code",
      "source": [
        "#We shuffle our dataframe and then select the first 80% as train and last 20% as test\n",
        "shuffled_df=df.sample(frac=1)\n",
        "shuffled_df.head()"
      ],
      "metadata": {
        "colab": {
          "base_uri": "https://localhost:8080/",
          "height": 206
        },
        "id": "2Fls0Hv0CUKt",
        "outputId": "11c25c4b-a0d7-4f4d-d380-39ee4626a7f5"
      },
      "execution_count": null,
      "outputs": [
        {
          "output_type": "execute_result",
          "data": {
            "text/plain": [
              "       species  island  bill_length_mm  bill_depth_mm  flipper_length_mm  \\\n",
              "46      Adelie       2        0.327273       0.702381           0.169492   \n",
              "96      Adelie       2        0.218182       0.654762           0.305085   \n",
              "138     Adelie       2        0.178182       0.404762           0.220339   \n",
              "167     Gentoo       1        0.625455       0.309524           0.762712   \n",
              "323  Chinstrap       2        0.614545       0.773810           0.677966   \n",
              "\n",
              "     body_mass_g  sex  year  \n",
              "46      0.201389  1.0  2007  \n",
              "96      0.277778  0.0  2008  \n",
              "138     0.194444  0.0  2009  \n",
              "167     0.875000  1.0  2007  \n",
              "323     0.444444  1.0  2009  "
            ],
            "text/html": [
              "\n",
              "  <div id=\"df-93868b5e-bb78-4522-9396-1dee5888beb4\">\n",
              "    <div class=\"colab-df-container\">\n",
              "      <div>\n",
              "<style scoped>\n",
              "    .dataframe tbody tr th:only-of-type {\n",
              "        vertical-align: middle;\n",
              "    }\n",
              "\n",
              "    .dataframe tbody tr th {\n",
              "        vertical-align: top;\n",
              "    }\n",
              "\n",
              "    .dataframe thead th {\n",
              "        text-align: right;\n",
              "    }\n",
              "</style>\n",
              "<table border=\"1\" class=\"dataframe\">\n",
              "  <thead>\n",
              "    <tr style=\"text-align: right;\">\n",
              "      <th></th>\n",
              "      <th>species</th>\n",
              "      <th>island</th>\n",
              "      <th>bill_length_mm</th>\n",
              "      <th>bill_depth_mm</th>\n",
              "      <th>flipper_length_mm</th>\n",
              "      <th>body_mass_g</th>\n",
              "      <th>sex</th>\n",
              "      <th>year</th>\n",
              "    </tr>\n",
              "  </thead>\n",
              "  <tbody>\n",
              "    <tr>\n",
              "      <th>46</th>\n",
              "      <td>Adelie</td>\n",
              "      <td>2</td>\n",
              "      <td>0.327273</td>\n",
              "      <td>0.702381</td>\n",
              "      <td>0.169492</td>\n",
              "      <td>0.201389</td>\n",
              "      <td>1.0</td>\n",
              "      <td>2007</td>\n",
              "    </tr>\n",
              "    <tr>\n",
              "      <th>96</th>\n",
              "      <td>Adelie</td>\n",
              "      <td>2</td>\n",
              "      <td>0.218182</td>\n",
              "      <td>0.654762</td>\n",
              "      <td>0.305085</td>\n",
              "      <td>0.277778</td>\n",
              "      <td>0.0</td>\n",
              "      <td>2008</td>\n",
              "    </tr>\n",
              "    <tr>\n",
              "      <th>138</th>\n",
              "      <td>Adelie</td>\n",
              "      <td>2</td>\n",
              "      <td>0.178182</td>\n",
              "      <td>0.404762</td>\n",
              "      <td>0.220339</td>\n",
              "      <td>0.194444</td>\n",
              "      <td>0.0</td>\n",
              "      <td>2009</td>\n",
              "    </tr>\n",
              "    <tr>\n",
              "      <th>167</th>\n",
              "      <td>Gentoo</td>\n",
              "      <td>1</td>\n",
              "      <td>0.625455</td>\n",
              "      <td>0.309524</td>\n",
              "      <td>0.762712</td>\n",
              "      <td>0.875000</td>\n",
              "      <td>1.0</td>\n",
              "      <td>2007</td>\n",
              "    </tr>\n",
              "    <tr>\n",
              "      <th>323</th>\n",
              "      <td>Chinstrap</td>\n",
              "      <td>2</td>\n",
              "      <td>0.614545</td>\n",
              "      <td>0.773810</td>\n",
              "      <td>0.677966</td>\n",
              "      <td>0.444444</td>\n",
              "      <td>1.0</td>\n",
              "      <td>2009</td>\n",
              "    </tr>\n",
              "  </tbody>\n",
              "</table>\n",
              "</div>\n",
              "      <button class=\"colab-df-convert\" onclick=\"convertToInteractive('df-93868b5e-bb78-4522-9396-1dee5888beb4')\"\n",
              "              title=\"Convert this dataframe to an interactive table.\"\n",
              "              style=\"display:none;\">\n",
              "        \n",
              "  <svg xmlns=\"http://www.w3.org/2000/svg\" height=\"24px\"viewBox=\"0 0 24 24\"\n",
              "       width=\"24px\">\n",
              "    <path d=\"M0 0h24v24H0V0z\" fill=\"none\"/>\n",
              "    <path d=\"M18.56 5.44l.94 2.06.94-2.06 2.06-.94-2.06-.94-.94-2.06-.94 2.06-2.06.94zm-11 1L8.5 8.5l.94-2.06 2.06-.94-2.06-.94L8.5 2.5l-.94 2.06-2.06.94zm10 10l.94 2.06.94-2.06 2.06-.94-2.06-.94-.94-2.06-.94 2.06-2.06.94z\"/><path d=\"M17.41 7.96l-1.37-1.37c-.4-.4-.92-.59-1.43-.59-.52 0-1.04.2-1.43.59L10.3 9.45l-7.72 7.72c-.78.78-.78 2.05 0 2.83L4 21.41c.39.39.9.59 1.41.59.51 0 1.02-.2 1.41-.59l7.78-7.78 2.81-2.81c.8-.78.8-2.07 0-2.86zM5.41 20L4 18.59l7.72-7.72 1.47 1.35L5.41 20z\"/>\n",
              "  </svg>\n",
              "      </button>\n",
              "      \n",
              "  <style>\n",
              "    .colab-df-container {\n",
              "      display:flex;\n",
              "      flex-wrap:wrap;\n",
              "      gap: 12px;\n",
              "    }\n",
              "\n",
              "    .colab-df-convert {\n",
              "      background-color: #E8F0FE;\n",
              "      border: none;\n",
              "      border-radius: 50%;\n",
              "      cursor: pointer;\n",
              "      display: none;\n",
              "      fill: #1967D2;\n",
              "      height: 32px;\n",
              "      padding: 0 0 0 0;\n",
              "      width: 32px;\n",
              "    }\n",
              "\n",
              "    .colab-df-convert:hover {\n",
              "      background-color: #E2EBFA;\n",
              "      box-shadow: 0px 1px 2px rgba(60, 64, 67, 0.3), 0px 1px 3px 1px rgba(60, 64, 67, 0.15);\n",
              "      fill: #174EA6;\n",
              "    }\n",
              "\n",
              "    [theme=dark] .colab-df-convert {\n",
              "      background-color: #3B4455;\n",
              "      fill: #D2E3FC;\n",
              "    }\n",
              "\n",
              "    [theme=dark] .colab-df-convert:hover {\n",
              "      background-color: #434B5C;\n",
              "      box-shadow: 0px 1px 3px 1px rgba(0, 0, 0, 0.15);\n",
              "      filter: drop-shadow(0px 1px 2px rgba(0, 0, 0, 0.3));\n",
              "      fill: #FFFFFF;\n",
              "    }\n",
              "  </style>\n",
              "\n",
              "      <script>\n",
              "        const buttonEl =\n",
              "          document.querySelector('#df-93868b5e-bb78-4522-9396-1dee5888beb4 button.colab-df-convert');\n",
              "        buttonEl.style.display =\n",
              "          google.colab.kernel.accessAllowed ? 'block' : 'none';\n",
              "\n",
              "        async function convertToInteractive(key) {\n",
              "          const element = document.querySelector('#df-93868b5e-bb78-4522-9396-1dee5888beb4');\n",
              "          const dataTable =\n",
              "            await google.colab.kernel.invokeFunction('convertToInteractive',\n",
              "                                                     [key], {});\n",
              "          if (!dataTable) return;\n",
              "\n",
              "          const docLinkHtml = 'Like what you see? Visit the ' +\n",
              "            '<a target=\"_blank\" href=https://colab.research.google.com/notebooks/data_table.ipynb>data table notebook</a>'\n",
              "            + ' to learn more about interactive tables.';\n",
              "          element.innerHTML = '';\n",
              "          dataTable['output_type'] = 'display_data';\n",
              "          await google.colab.output.renderOutput(dataTable, element);\n",
              "          const docLink = document.createElement('div');\n",
              "          docLink.innerHTML = docLinkHtml;\n",
              "          element.appendChild(docLink);\n",
              "        }\n",
              "      </script>\n",
              "    </div>\n",
              "  </div>\n",
              "  "
            ]
          },
          "metadata": {},
          "execution_count": 22
        }
      ]
    },
    {
      "cell_type": "code",
      "source": [
        "plt.scatter(df['body_mass_g'],df['sex'],s=10)\n",
        "plt.show()"
      ],
      "metadata": {
        "colab": {
          "base_uri": "https://localhost:8080/",
          "height": 265
        },
        "id": "bwJ-6p4rIEjC",
        "outputId": "79e49b16-9c98-4581-dbf3-b083304a4eec"
      },
      "execution_count": null,
      "outputs": [
        {
          "output_type": "display_data",
          "data": {
            "text/plain": [
              "<Figure size 432x288 with 1 Axes>"
            ],
            "image/png": "[encoded data removed]"
          },
          "metadata": {
            "needs_background": "light"
          }
        }
      ]
    },
    {
      "cell_type": "code",
      "source": [
        "plt.scatter(df['flipper_length_mm'],df['sex'],color='red',s=10)\n",
        "plt.show()"
      ],
      "metadata": {
        "colab": {
          "base_uri": "https://localhost:8080/",
          "height": 265
        },
        "id": "OKe8avt9IXON",
        "outputId": "2e4c366d-d443-4629-ae8c-809d38e8d20c"
      },
      "execution_count": null,
      "outputs": [
        {
          "output_type": "display_data",
          "data": {
            "text/plain": [
              "<Figure size 432x288 with 1 Axes>"
            ],
            "image/png": "[encoded data removed]"
          },
          "metadata": {
            "needs_background": "light"
          }
        }
      ]
    },
    {
      "cell_type": "code",
      "source": [
        "plt.scatter(df['bill_depth_mm'],df['sex'],color='green',s=10)\n",
        "plt.show()"
      ],
      "metadata": {
        "colab": {
          "base_uri": "https://localhost:8080/",
          "height": 265
        },
        "id": "T3EfIrh9IkTp",
        "outputId": "4c8c6ce0-bb3c-445b-8524-656ebb7b1e0b"
      },
      "execution_count": null,
      "outputs": [
        {
          "output_type": "display_data",
          "data": {
            "text/plain": [
              "<Figure size 432x288 with 1 Axes>"
            ],
            "image/png": "[encoded data removed]"
          },
          "metadata": {
            "needs_background": "light"
          }
        }
      ]
    },
    {
      "cell_type": "code",
      "source": [
        "plt.scatter(df['bill_length_mm'],df['sex'],color='orange',s=10)\n",
        "plt.show()"
      ],
      "metadata": {
        "colab": {
          "base_uri": "https://localhost:8080/",
          "height": 265
        },
        "id": "1Qsj0eJNJIcs",
        "outputId": "9db173f2-b1f9-4901-ac1b-6ccd8586e421"
      },
      "execution_count": null,
      "outputs": [
        {
          "output_type": "display_data",
          "data": {
            "text/plain": [
              "<Figure size 432x288 with 1 Axes>"
            ],
            "image/png": "[encoded data removed]"
          },
          "metadata": {
            "needs_background": "light"
          }
        }
      ]
    },
    {
      "cell_type": "markdown",
      "source": [
        "# From the above visualization bodymass and bill length seem important features to pick for logistic regression"
      ],
      "metadata": {
        "id": "_0WgUFWHwYZj"
      }
    },
    {
      "cell_type": "code",
      "source": [
        "training_size= int(len(shuffled_df)*0.8)\n",
        "train_df=shuffled_df[:training_size]\n",
        "test_df=shuffled_df[training_size:]\n",
        "\n",
        "\n",
        "X_train= pd.concat([train_df['bill_length_mm'],train_df['body_mass_g'],train_df['bill_depth_mm'],train_df['bill_depth_mm']], axis = 1)\n",
        "Y_train=train_df['sex']\n",
        "\n",
        "x_test=pd.concat([test_df['bill_length_mm'],test_df['body_mass_g'],test_df['bill_depth_mm'],test_df['bill_depth_mm']], axis = 1)\n",
        "y_test=test_df['sex']"
      ],
      "metadata": {
        "id": "buUXGC1FrtrI"
      },
      "execution_count": null,
      "outputs": []
    },
    {
      "cell_type": "code",
      "source": [
        "print(X_train.shape)\n",
        "print(Y_train.shape)\n",
        "print(x_test.shape)\n",
        "print(y_test.shape)"
      ],
      "metadata": {
        "colab": {
          "base_uri": "https://localhost:8080/"
        },
        "id": "OLMkj64XvwWj",
        "outputId": "943952a7-3197-44f7-8bbe-ca6f818ba9bd"
      },
      "execution_count": null,
      "outputs": [
        {
          "output_type": "stream",
          "name": "stdout",
          "text": [
            "(266, 4)\n",
            "(266,)\n",
            "(67, 4)\n",
            "(67,)\n"
          ]
        }
      ]
    },
    {
      "cell_type": "code",
      "source": [
        "print(x_test)\n",
        "print(y_test)\n"
      ],
      "metadata": {
        "id": "EpkYJVo_kBcr",
        "colab": {
          "base_uri": "https://localhost:8080/"
        },
        "outputId": "904b551d-1c87-452e-f961-fa407744fbf4"
      },
      "execution_count": null,
      "outputs": [
        {
          "output_type": "stream",
          "name": "stdout",
          "text": [
            "     bill_length_mm  body_mass_g  bill_depth_mm  bill_depth_mm\n",
            "183        0.389091     0.555556       0.130952       0.130952\n",
            "135        0.327273     0.333333       0.523810       0.523810\n",
            "1          0.269091     0.305556       0.511905       0.511905\n",
            "224        0.585455     0.666667       0.297619       0.297619\n",
            "65         0.345455     0.347222       0.583333       0.583333\n",
            "..              ...          ...            ...            ...\n",
            "187        0.592727     0.750000       0.380952       0.380952\n",
            "222        0.567273     0.569444       0.226190       0.226190\n",
            "147        0.163636     0.215278       0.630952       0.630952\n",
            "104        0.210909     0.062500       0.654762       0.654762\n",
            "236        0.465455     0.569444       0.083333       0.083333\n",
            "\n",
            "[67 rows x 4 columns]\n",
            "183    0.0\n",
            "135    1.0\n",
            "1      0.0\n",
            "224    1.0\n",
            "65     1.0\n",
            "      ... \n",
            "187    1.0\n",
            "222    0.0\n",
            "147    0.0\n",
            "104    0.0\n",
            "236    0.0\n",
            "Name: sex, Length: 67, dtype: float64\n"
          ]
        }
      ]
    },
    {
      "cell_type": "code",
      "source": [
        "\n",
        "class LogitRegression():\n",
        "\n",
        "  def __init__(self,alpha,n,X_train,Y_train,x_test,y_test) -> None:\n",
        "      self.learning_rate=alpha\n",
        "      self.iter=n\n",
        "      self.predictions=[]\n",
        "      self.loss_itr=[]\n",
        "      self.X_train=X_train\n",
        "      self.Y_train=Y_train\n",
        "      self.x_test=x_test\n",
        "      self.y_test=y_test\n",
        "      \n",
        "\n",
        "  def sigmoid(self, z):\n",
        "    return 1 / (1 + np.exp(-z))\n",
        "\n",
        "  def cost(self, p, y):\n",
        "    return np.mean(-y.T * np.log(p) - (1 - y.T) * np.log(1 - p))\n",
        "\n",
        "  def fit(self):\n",
        "\n",
        "    m,n=self.X_train.shape\n",
        "    self.weights=np.zeros(n)\n",
        "    \n",
        "    print(\"Initial random weights\",self.weights)\n",
        "    #self.weights=np.zeros(n)\n",
        "    self.bias=0\n",
        "\n",
        "    for i in range(self.iter):\n",
        "\n",
        "      s=self.sigmoid(np.dot(self.weights,self.X_train.T))+self.bias\n",
        "\n",
        "      delta=self.cost(s,self.Y_train)\n",
        "\n",
        "      self.loss_itr.append(delta)\n",
        "\n",
        "      dw=(1/m)*(np.dot(self.X_train.T,(s-self.Y_train)))\n",
        "      db = (1/m)*np.sum((s - Y_train)) \n",
        "      \n",
        "\n",
        "      self.weights-=self.learning_rate*dw\n",
        "      self.bias-=self.learning_rate*db\n",
        "\n",
        "  def predict(self):\n",
        "    \n",
        "      print(self.weights)\n",
        "      print(self.x_test)\n",
        "      s=self.sigmoid(np.dot(self.weights,x_test.T))+self.bias\n",
        "      print(\"shape of sigmoid output\",s.shape)\n",
        "      print(\"predictions\",s)\n",
        "      \n",
        "      for i in s:\n",
        "        if i>=0.5:\n",
        "          self.predictions.append(1)\n",
        "        else: \n",
        "          self.predictions.append(0)\n",
        "\n",
        "      \n",
        "      y_test=list(self.y_test)\n",
        "      count=0\n",
        "      #print(\"predicted vlassification\",self.predictions)\n",
        "\n",
        "\n",
        "      for i in range(len(model.predictions)):\n",
        "        if self.predictions[i]==y_test[i]:\n",
        "          count+=1\n",
        "      print(count/len(y_test))\n",
        "  \n",
        "\n",
        "model=LogitRegression(0.0001,100000,X_train,Y_train,x_test,y_test)\n",
        "model.fit()\n",
        "\n",
        "print(\"Weights after training \",model.weights)"
      ],
      "metadata": {
        "colab": {
          "base_uri": "https://localhost:8080/"
        },
        "id": "0cKJMpJBwHtC",
        "outputId": "a1fc7ddb-cca7-43f5-b307-c98c0df20116"
      },
      "execution_count": null,
      "outputs": [
        {
          "output_type": "stream",
          "name": "stdout",
          "text": [
            "Initial random weights [0. 0. 0. 0.]\n",
            "Weights after training  [0.29585341 0.45005679 0.34935934 0.34935934]\n"
          ]
        }
      ]
    },
    {
      "cell_type": "code",
      "source": [
        "model.predict()"
      ],
      "metadata": {
        "colab": {
          "base_uri": "https://localhost:8080/"
        },
        "id": "h8tmPZUB6MMZ",
        "outputId": "68173f7a-d80a-4f0a-9f96-ffb91b2114f6"
      },
      "execution_count": null,
      "outputs": [
        {
          "output_type": "stream",
          "name": "stdout",
          "text": [
            "[0.28498529 0.46680545 0.30475668 0.30475668]\n",
            "     bill_length_mm  body_mass_g  bill_depth_mm  bill_depth_mm\n",
            "204        0.472727     0.472222       0.154762       0.154762\n",
            "70         0.050909     0.250000       0.702381       0.702381\n",
            "279        0.483636     0.229167       0.666667       0.666667\n",
            "332        0.476364     0.152778       0.416667       0.416667\n",
            "310        0.640000     0.250000       0.654762       0.654762\n",
            "..              ...          ...            ...            ...\n",
            "220        0.414545     0.555556       0.130952       0.130952\n",
            "278        0.698182     0.263889       0.726190       0.726190\n",
            "294        0.520000     0.208333       0.654762       0.654762\n",
            "168        0.360000     0.402778       0.047619       0.047619\n",
            "173        0.472727     0.638889       0.166667       0.166667\n",
            "\n",
            "[67 rows x 4 columns]\n",
            "shape of sigmoid output (67,)\n",
            "predictions [0.48924148 0.51501979 0.53599359 0.49198493 0.54650824 0.49756442\n",
            " 0.54773233 0.55658491 0.47422854 0.46399763 0.54786655 0.52781315\n",
            " 0.55403242 0.52319034 0.51077562 0.54352603 0.49135043 0.50666391\n",
            " 0.4798108  0.53445382 0.50778726 0.55358108 0.53970164 0.52954299\n",
            " 0.57762886 0.51573133 0.55808794 0.54307151 0.53881746 0.52054654\n",
            " 0.44843761 0.49775658 0.54433453 0.53539133 0.57374497 0.56306506\n",
            " 0.50759392 0.50236307 0.50190613 0.52378359 0.50396328 0.4744772\n",
            " 0.57346058 0.53072224 0.55401014 0.48937299 0.52527342 0.47851205\n",
            " 0.52363763 0.54642056 0.4573385  0.58442326 0.51152997 0.45780793\n",
            " 0.53585919 0.50545072 0.5421739  0.50793428 0.5690439  0.49867538\n",
            " 0.48782563 0.53360615 0.49109633 0.56111497 0.5345012  0.45796057\n",
            " 0.50926653]\n",
            "0.7313432835820896\n"
          ]
        }
      ]
    },
    {
      "cell_type": "code",
      "source": [
        "print(model.predictions)"
      ],
      "metadata": {
        "colab": {
          "base_uri": "https://localhost:8080/"
        },
        "id": "8saFvWFmFSA1",
        "outputId": "64dec834-a97c-40e6-e4f8-45c67e11eac6"
      },
      "execution_count": null,
      "outputs": [
        {
          "output_type": "stream",
          "name": "stdout",
          "text": [
            "[0, 1, 1, 0, 1, 0, 1, 1, 0, 0, 1, 1, 1, 1, 1, 1, 0, 1, 0, 1, 1, 1, 1, 1, 1, 1, 1, 1, 1, 1, 0, 0, 1, 1, 1, 1, 1, 1, 1, 1, 1, 0, 1, 1, 1, 0, 1, 0, 1, 1, 0, 1, 1, 0, 1, 1, 1, 1, 1, 0, 0, 1, 0, 1, 1, 0, 1]\n"
          ]
        }
      ]
    },
    {
      "cell_type": "markdown",
      "source": [
        ""
      ],
      "metadata": {
        "id": "J7kTBmQSjETQ"
      }
    },
    {
      "cell_type": "code",
      "source": [
        "print(model.weights)\n",
        "plt.plot(model.loss_itr)\n",
        "plt.title(\"Loss vs number of gradient update iterations\")\n",
        "plt.show()"
      ],
      "metadata": {
        "colab": {
          "base_uri": "https://localhost:8080/",
          "height": 299
        },
        "id": "D8WEmqGTzoVu",
        "outputId": "b5b3198c-629b-4ffa-8c8a-a3d9401c72c3"
      },
      "execution_count": null,
      "outputs": [
        {
          "output_type": "stream",
          "name": "stdout",
          "text": [
            "[0.28498529 0.46680545 0.30475668 0.30475668]\n"
          ]
        },
        {
          "output_type": "display_data",
          "data": {
            "text/plain": [
              "<Figure size 432x288 with 1 Axes>"
            ],
            "image/png": "[encoded data removed]"
          },
          "metadata": {
            "needs_background": "light"
          }
        }
      ]
    },
    {
      "cell_type": "code",
      "source": [
        "count=0\n",
        "res=model.predictions\n",
        "for i in range(len(model.predictions)):\n",
        "\n",
        "  if model.predictions[i]==list(y_test)[i]:\n",
        "    count+=1\n",
        "print(\"Accuracy is\",100*(count)/len(model.predictions))"
      ],
      "metadata": {
        "colab": {
          "base_uri": "https://localhost:8080/"
        },
        "id": "BGgSnJ4ON9j4",
        "outputId": "273e564a-8a98-4607-cb33-c374f8db38cc"
      },
      "execution_count": null,
      "outputs": [
        {
          "output_type": "stream",
          "name": "stdout",
          "text": [
            "Accuracy is 73.13432835820896\n"
          ]
        }
      ]
    },
    {
      "cell_type": "markdown",
      "source": [
        "# Changing Hyperparameters"
      ],
      "metadata": {
        "id": "TgYIT7Ee7uzB"
      }
    },
    {
      "cell_type": "code",
      "source": [
        "#Increasing the learning rate and reducing the number of iterations\n",
        "model=LogitRegression(0.001,10000,X_train,Y_train,x_test,y_test)\n",
        "model.fit()\n",
        "model.predict()\n",
        "#print(model.weights)\n",
        "plt.plot(model.loss_itr)\n",
        "plt.title(\"Loss vs number of gradient update iterations\")\n",
        "plt.show()\n",
        "count=0\n",
        "res=model.predictions\n",
        "for i in range(len(model.predictions)):\n",
        "\n",
        "  if model.predictions[i]==list(y_test)[i]:\n",
        "    count+=1\n",
        "print(\"Accuracy is\",100*(count)/len(model.predictions))"
      ],
      "metadata": {
        "colab": {
          "base_uri": "https://localhost:8080/",
          "height": 837
        },
        "id": "k5I3Hc777txy",
        "outputId": "f2e6af2a-ba2d-4428-938e-6cb3c6d8d615"
      },
      "execution_count": null,
      "outputs": [
        {
          "output_type": "stream",
          "name": "stdout",
          "text": [
            "Initial random weights [0. 0. 0. 0.]\n",
            "[0.29585471 0.45005798 0.34936119 0.34936119]\n",
            "     bill_length_mm  body_mass_g  bill_depth_mm  bill_depth_mm\n",
            "183        0.389091     0.555556       0.130952       0.130952\n",
            "135        0.327273     0.333333       0.523810       0.523810\n",
            "1          0.269091     0.305556       0.511905       0.511905\n",
            "224        0.585455     0.666667       0.297619       0.297619\n",
            "65         0.345455     0.347222       0.583333       0.583333\n",
            "..              ...          ...            ...            ...\n",
            "187        0.592727     0.750000       0.380952       0.380952\n",
            "222        0.567273     0.569444       0.226190       0.226190\n",
            "147        0.163636     0.215278       0.630952       0.630952\n",
            "104        0.210909     0.062500       0.654762       0.654762\n",
            "236        0.465455     0.569444       0.083333       0.083333\n",
            "\n",
            "[67 rows x 4 columns]\n",
            "shape of sigmoid output (67,)\n",
            "predictions [0.47323863 0.50960924 0.50089248 0.52502717 0.52164136 0.51364356\n",
            " 0.56428336 0.55217799 0.53663639 0.55233844 0.53309299 0.57348897\n",
            " 0.47502499 0.51527692 0.51932639 0.58709726 0.4756298  0.47968913\n",
            " 0.55285421 0.49715144 0.5303387  0.575629   0.50451848 0.50432668\n",
            " 0.46821986 0.50742358 0.52834857 0.55429696 0.58846053 0.55235735\n",
            " 0.53498084 0.56048767 0.48913873 0.52311523 0.49035812 0.49412838\n",
            " 0.52903285 0.55904732 0.55382538 0.45584926 0.50426757 0.49173375\n",
            " 0.5227801  0.55795255 0.56679585 0.52248157 0.56558674 0.4953049\n",
            " 0.52065692 0.48729795 0.53582409 0.48994172 0.508618   0.53501884\n",
            " 0.49135416 0.49434216 0.5203193  0.47889771 0.54639569 0.49238873\n",
            " 0.47574968 0.52243222 0.54650322 0.50258416 0.50350416 0.49469742\n",
            " 0.4721866 ]\n",
            "0.7611940298507462\n"
          ]
        },
        {
          "output_type": "display_data",
          "data": {
            "text/plain": [
              "<Figure size 432x288 with 1 Axes>"
            ],
            "image/png": "[encoded data removed]"
          },
          "metadata": {
            "needs_background": "light"
          }
        },
        {
          "output_type": "stream",
          "name": "stdout",
          "text": [
            "Accuracy is 76.11940298507463\n"
          ]
        }
      ]
    },
    {
      "cell_type": "code",
      "source": [
        "#Increasing the learning rate for same number of iteration\n",
        "model=LogitRegression(0.001,100000,X_train,Y_train,x_test,y_test)\n",
        "model.fit()\n",
        "model.predict()\n",
        "#print(model.weights)\n",
        "plt.plot(model.loss_itr)\n",
        "plt.title(\"Loss vs number of gradient update iterations\")\n",
        "plt.show()\n",
        "count=0\n",
        "res=model.predictions\n",
        "for i in range(len(model.predictions)):\n",
        "\n",
        "  if model.predictions[i]==list(y_test)[i]:\n",
        "    count+=1\n",
        "print(\"Accuracy is\",100*(count)/len(model.predictions))"
      ],
      "metadata": {
        "colab": {
          "base_uri": "https://localhost:8080/",
          "height": 837
        },
        "id": "SFn5Nz0m8C2K",
        "outputId": "f515a208-93e2-4cc0-b7f8-46ef77de5163"
      },
      "execution_count": null,
      "outputs": [
        {
          "output_type": "stream",
          "name": "stdout",
          "text": [
            "Initial random weights [0. 0. 0. 0.]\n",
            "[3.24014569 4.77166589 3.80494387 3.80494387]\n",
            "     bill_length_mm  body_mass_g  bill_depth_mm  bill_depth_mm\n",
            "183        0.389091     0.555556       0.130952       0.130952\n",
            "135        0.327273     0.333333       0.523810       0.523810\n",
            "1          0.269091     0.305556       0.511905       0.511905\n",
            "224        0.585455     0.666667       0.297619       0.297619\n",
            "65         0.345455     0.347222       0.583333       0.583333\n",
            "..              ...          ...            ...            ...\n",
            "187        0.592727     0.750000       0.380952       0.380952\n",
            "222        0.567273     0.569444       0.226190       0.226190\n",
            "147        0.163636     0.215278       0.630952       0.630952\n",
            "104        0.210909     0.062500       0.654762       0.654762\n",
            "236        0.465455     0.569444       0.083333       0.083333\n",
            "\n",
            "[67 rows x 4 columns]\n",
            "shape of sigmoid output (67,)\n",
            "predictions [0.50008634 0.50610907 0.50544363 0.50677144 0.50668343 0.50629501\n",
            " 0.50733203 0.50724793 0.5070618  0.5072483  0.50700449 0.50736522\n",
            " 0.50066285 0.50641667 0.50656275 0.50739289 0.50122173 0.50203061\n",
            " 0.50724976 0.50506303 0.50694786 0.50737093 0.50577504 0.50567218\n",
            " 0.49878712 0.50592199 0.50688984 0.50727527 0.50739404 0.50726045\n",
            " 0.50701823 0.5073162  0.50391215 0.5067346  0.50422354 0.50475372\n",
            " 0.50690588 0.50730377 0.50726958 0.49152674 0.50575066 0.50427777\n",
            " 0.50669705 0.50730052 0.50734315 0.50672133 0.50733669 0.50484946\n",
            " 0.50665918 0.50356393 0.5070372  0.50412366 0.50605016 0.50704655\n",
            " 0.50439937 0.5047555  0.50660925 0.50182928 0.50719197 0.50437072\n",
            " 0.50090572 0.50666925 0.50719297 0.50554179 0.50568993 0.50485584\n",
            " 0.49972346]\n",
            "0.5522388059701493\n"
          ]
        },
        {
          "output_type": "display_data",
          "data": {
            "text/plain": [
              "<Figure size 432x288 with 1 Axes>"
            ],
            "image/png": "[encoded data removed]"
          },
          "metadata": {
            "needs_background": "light"
          }
        },
        {
          "output_type": "stream",
          "name": "stdout",
          "text": [
            "Accuracy is 55.223880597014926\n"
          ]
        }
      ]
    },
    {
      "cell_type": "code",
      "source": [
        "#Decreasing both the learning rate and number of iterations\n",
        "model=LogitRegression(0.00001,1000,X_train,Y_train,x_test,y_test)\n",
        "model.fit()\n",
        "model.predict()\n",
        "#print(model.weights)\n",
        "plt.plot(model.loss_itr)\n",
        "plt.title(\"Loss vs number of gradient update iterations\")\n",
        "plt.show()\n",
        "count=0\n",
        "res=model.predictions\n",
        "for i in range(len(model.predictions)):\n",
        "\n",
        "  if model.predictions[i]==list(y_test)[i]:\n",
        "    count+=1\n",
        "print(\"Accuracy is\",100*(count)/len(model.predictions))"
      ],
      "metadata": {
        "colab": {
          "base_uri": "https://localhost:8080/",
          "height": 837
        },
        "id": "ioGlvbvE8K7N",
        "outputId": "d07da93c-3998-42ac-f2c1-3bcf5f13be4b"
      },
      "execution_count": null,
      "outputs": [
        {
          "output_type": "stream",
          "name": "stdout",
          "text": [
            "Initial random weights [0. 0. 0. 0.]\n",
            "[0.00039022 0.00054079 0.0004657  0.0004657 ]\n",
            "     bill_length_mm  body_mass_g  bill_depth_mm  bill_depth_mm\n",
            "183        0.389091     0.555556       0.130952       0.130952\n",
            "135        0.327273     0.333333       0.523810       0.523810\n",
            "1          0.269091     0.305556       0.511905       0.511905\n",
            "224        0.585455     0.666667       0.297619       0.297619\n",
            "65         0.345455     0.347222       0.583333       0.583333\n",
            "..              ...          ...            ...            ...\n",
            "187        0.592727     0.750000       0.380952       0.380952\n",
            "222        0.567273     0.569444       0.226190       0.226190\n",
            "147        0.163636     0.215278       0.630952       0.630952\n",
            "104        0.210909     0.062500       0.654762       0.654762\n",
            "236        0.465455     0.569444       0.083333       0.083333\n",
            "\n",
            "[67 rows x 4 columns]\n",
            "shape of sigmoid output (67,)\n",
            "predictions [0.50017992 0.50023532 0.50022311 0.5002529  0.50025283 0.5002358\n",
            " 0.5003187  0.50029203 0.50027393 0.5002917  0.50027199 0.50033251\n",
            " 0.5001824  0.50024354 0.50024427 0.50035498 0.50019098 0.50019009\n",
            " 0.50029043 0.50021819 0.50026771 0.50033599 0.50022905 0.50022294\n",
            " 0.50018026 0.50022795 0.50026316 0.50030294 0.50035519 0.50029988\n",
            " 0.50026684 0.50031472 0.50020251 0.5002553  0.50020927 0.50021542\n",
            " 0.50026357 0.50030874 0.5003009  0.50015639 0.50022839 0.50020544\n",
            " 0.50024983 0.50030924 0.50032233 0.50025492 0.5003181  0.50021509\n",
            " 0.50025219 0.50019903 0.50026865 0.50020794 0.50023461 0.50027483\n",
            " 0.5002118  0.50021472 0.50024622 0.50018869 0.50028406 0.5002061\n",
            " 0.50018383 0.50024649 0.50028428 0.50022135 0.50022834 0.50021784\n",
            " 0.50017816]\n",
            "0.5074626865671642\n"
          ]
        },
        {
          "output_type": "display_data",
          "data": {
            "text/plain": [
              "<Figure size 432x288 with 1 Axes>"
            ],
            "image/png": "[encoded data removed]"
          },
          "metadata": {
            "needs_background": "light"
          }
        },
        {
          "output_type": "stream",
          "name": "stdout",
          "text": [
            "Accuracy is 50.74626865671642\n"
          ]
        }
      ]
    },
    {
      "cell_type": "markdown",
      "source": [
        "# Bonus Gradient Descent from Scratch"
      ],
      "metadata": {
        "id": "dunr7g65GNlY"
      }
    },
    {
      "cell_type": "code",
      "source": [
        "training_size= int(len(shuffled_df)*0.8)\n",
        "train_df=shuffled_df[:training_size]\n",
        "test_df=shuffled_df[training_size:]\n",
        "\n",
        "X_train= pd.concat([train_df['bill_length_mm'],train_df['bill_depth_mm'],train_df['flipper_length_mm']], axis = 1)\n",
        "Y_train=train_df['body_mass_g']\n",
        "\n",
        "x_test= pd.concat([test_df['bill_length_mm'],test_df['bill_depth_mm'],test_df['flipper_length_mm']],axis=1)\n",
        "y_test=test_df['body_mass_g']"
      ],
      "metadata": {
        "id": "74v9R4g_Lnrt"
      },
      "execution_count": null,
      "outputs": []
    },
    {
      "cell_type": "code",
      "source": [
        "class grad_decent():\n",
        "  def __init__ (self,alpha,n,X_train,Y_train,x_test,y_test):\n",
        "\n",
        "      self.learning_rate=alpha\n",
        "      self.iter=n\n",
        "      self.predictions=[]\n",
        "      self.loss_itr=[]\n",
        "      self.X_train=X_train\n",
        "      self.Y_train=Y_train\n",
        "      self.x_test=x_test\n",
        "      self.y_test=y_test\n",
        "      \n",
        "\n",
        "  #For gradient descent we use Mean squared error loss\n",
        "\n",
        "      m,n=X_train.shape\n",
        "      self.weights= np.zeros(n)\n",
        "      self.bias=0\n",
        "\n",
        "      for i in range(self.iter):\n",
        "\n",
        "        r=np.dot(self.weights,self.X_train.T)\n",
        "\n",
        "        dw=(1/m)*(np.dot(self.X_train.T,(r-self.Y_train)))\n",
        "        db = (1/m)*np.sum((r - Y_train)) \n",
        "      \n",
        "\n",
        "\n",
        "        self.weights-=self.learning_rate*dw\n",
        "        self.bias-=self.learning_rate*db\n",
        "        \n",
        "\n",
        "        loss=np.square(np.subtract(r, self.Y_train)).mean()\n",
        "        self.loss_itr.append(loss)\n",
        "\n",
        "      plt.plot(self.loss_itr)\n",
        "      plt.title(\"Loss vs iteration\")\n",
        "      plt.show\n",
        "      \n",
        "model=grad_decent(0.0001,100000,X_train,Y_train,x_test,y_test)\n",
        "\n",
        "\n"
      ],
      "metadata": {
        "colab": {
          "base_uri": "https://localhost:8080/",
          "height": 281
        },
        "id": "-cXfpQXHGW97",
        "outputId": "aec85fba-ecb2-4263-8f12-8aee11ff847e"
      },
      "execution_count": null,
      "outputs": [
        {
          "output_type": "display_data",
          "data": {
            "text/plain": [
              "<Figure size 432x288 with 1 Axes>"
            ],
            "image/png": "[encoded data removed]"
          },
          "metadata": {
            "needs_background": "light"
          }
        }
      ]
    },
    {
      "cell_type": "code",
      "source": [
        "prediction=np.dot(model.weights,x_test.T)\n",
        "\n",
        "ax = plt.gca()\n",
        "\n",
        "ax.scatter(prediction, prediction, color=\"b\",label=\"Predicted value\")\n",
        "ax.scatter(y_test, y_test, color=\"r\",label=\"True Value\")\n",
        "plt.legend()\n",
        "plt.title(\"Predicted Value using gradient descent vs True Value\")\n",
        "plt.show()"
      ],
      "metadata": {
        "colab": {
          "base_uri": "https://localhost:8080/",
          "height": 281
        },
        "id": "fNNByc5A3MSf",
        "outputId": "747d7891-836f-43e0-c870-e704e12704cc"
      },
      "execution_count": null,
      "outputs": [
        {
          "output_type": "display_data",
          "data": {
            "text/plain": [
              "<Figure size 432x288 with 1 Axes>"
            ],
            "image/png": "[encoded data removed]"
          },
          "metadata": {
            "needs_background": "light"
          }
        }
      ]
    }
  ]
}